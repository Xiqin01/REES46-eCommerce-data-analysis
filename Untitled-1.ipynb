{
 "cells": [
  {
   "cell_type": "code",
   "execution_count": 1,
   "metadata": {},
   "outputs": [],
   "source": [
    "import numpy as np\n",
    "import pandas as pd\n",
    "\n",
    "import matplotlib.pyplot as plt\n",
    "import seaborn as sns\n",
    "import plotly.express as px\n",
    "# 让画图内置\n",
    "%matplotlib inline\n",
    "\n",
    "# 忽略版本号之类的warnings\n",
    "import warnings\n",
    "warnings.filterwarnings('ignore')\n",
    "import os\n",
    "from datetime import date"
   ]
  },
  {
   "cell_type": "markdown",
   "metadata": {},
   "source": [
    "# 数据导入"
   ]
  },
  {
   "cell_type": "code",
   "execution_count": null,
   "metadata": {},
   "outputs": [],
   "source": [
    "# 导入数据\n",
    "# original_data = pd.read_csv('data\\processed_data.csv')\n",
    "# data = original_data.copy()\n",
    "# data.shape"
   ]
  },
  {
   "cell_type": "code",
   "execution_count": 2,
   "metadata": {},
   "outputs": [
    {
     "data": {
      "text/plain": [
       "(42413557, 11)"
      ]
     },
     "execution_count": 2,
     "metadata": {},
     "output_type": "execute_result"
    }
   ],
   "source": [
    "# 导入数据\n",
    "data = pd.read_csv('data\\processed_data.csv')\n",
    "data.shape"
   ]
  },
  {
   "cell_type": "code",
   "execution_count": 3,
   "metadata": {},
   "outputs": [],
   "source": [
    "data['event_time'] = pd.to_datetime(data['event_time'])\n",
    "data['category_code'] = data['category_code'].astype('category')\n",
    "data['brand'] = data['brand'].astype('category')\n",
    "\n",
    "data['event_day'] = data['event_time'].dt.date\n",
    "data['event_hour'] = data['event_time'].dt.hour"
   ]
  },
  {
   "cell_type": "code",
   "execution_count": 4,
   "metadata": {},
   "outputs": [
    {
     "name": "stdout",
     "output_type": "stream",
     "text": [
      "<class 'pandas.core.frame.DataFrame'>\n",
      "RangeIndex: 42413557 entries, 0 to 42413556\n",
      "Data columns (total 13 columns):\n",
      " #   Column         Dtype         \n",
      "---  ------         -----         \n",
      " 0   event_time     datetime64[ns]\n",
      " 1   event_type     object        \n",
      " 2   product_id     int64         \n",
      " 3   category_id    int64         \n",
      " 4   category_code  category      \n",
      " 5   brand          category      \n",
      " 6   price          float64       \n",
      " 7   user_id        int64         \n",
      " 8   category       object        \n",
      " 9   sub_category   object        \n",
      " 10  product_name   object        \n",
      " 11  event_day      object        \n",
      " 12  event_hour     int32         \n",
      "dtypes: category(2), datetime64[ns](1), float64(1), int32(1), int64(3), object(5)\n",
      "memory usage: 3.4+ GB\n"
     ]
    }
   ],
   "source": [
    "data.info()"
   ]
  },
  {
   "cell_type": "code",
   "execution_count": 36,
   "metadata": {},
   "outputs": [
    {
     "data": {
      "text/html": [
       "<div>\n",
       "<style scoped>\n",
       "    .dataframe tbody tr th:only-of-type {\n",
       "        vertical-align: middle;\n",
       "    }\n",
       "\n",
       "    .dataframe tbody tr th {\n",
       "        vertical-align: top;\n",
       "    }\n",
       "\n",
       "    .dataframe thead th {\n",
       "        text-align: right;\n",
       "    }\n",
       "</style>\n",
       "<table border=\"1\" class=\"dataframe\">\n",
       "  <thead>\n",
       "    <tr style=\"text-align: right;\">\n",
       "      <th></th>\n",
       "      <th>event_time</th>\n",
       "      <th>event_type</th>\n",
       "      <th>product_id</th>\n",
       "      <th>category_id</th>\n",
       "      <th>category_code</th>\n",
       "      <th>brand</th>\n",
       "      <th>price</th>\n",
       "      <th>user_id</th>\n",
       "      <th>category</th>\n",
       "      <th>sub_category</th>\n",
       "      <th>product_name</th>\n",
       "      <th>event_day</th>\n",
       "      <th>event_hour</th>\n",
       "      <th>event_weekday</th>\n",
       "    </tr>\n",
       "  </thead>\n",
       "  <tbody>\n",
       "    <tr>\n",
       "      <th>0</th>\n",
       "      <td>2019-10-01 00:00:00</td>\n",
       "      <td>view</td>\n",
       "      <td>44600062</td>\n",
       "      <td>2103807459595387724</td>\n",
       "      <td>NaN</td>\n",
       "      <td>shiseido</td>\n",
       "      <td>35.79</td>\n",
       "      <td>541312140</td>\n",
       "      <td>NaN</td>\n",
       "      <td>NaN</td>\n",
       "      <td>NaN</td>\n",
       "      <td>2019-10-01</td>\n",
       "      <td>0</td>\n",
       "      <td>1</td>\n",
       "    </tr>\n",
       "    <tr>\n",
       "      <th>1</th>\n",
       "      <td>2019-10-01 00:00:00</td>\n",
       "      <td>view</td>\n",
       "      <td>3900821</td>\n",
       "      <td>2053013552326770905</td>\n",
       "      <td>appliances.environment.water_heater</td>\n",
       "      <td>aqua</td>\n",
       "      <td>33.20</td>\n",
       "      <td>554748717</td>\n",
       "      <td>appliances</td>\n",
       "      <td>environment</td>\n",
       "      <td>water_heater</td>\n",
       "      <td>2019-10-01</td>\n",
       "      <td>0</td>\n",
       "      <td>1</td>\n",
       "    </tr>\n",
       "    <tr>\n",
       "      <th>2</th>\n",
       "      <td>2019-10-01 00:00:01</td>\n",
       "      <td>view</td>\n",
       "      <td>17200506</td>\n",
       "      <td>2053013559792632471</td>\n",
       "      <td>furniture.living_room.sofa</td>\n",
       "      <td>NaN</td>\n",
       "      <td>543.10</td>\n",
       "      <td>519107250</td>\n",
       "      <td>furniture</td>\n",
       "      <td>living_room</td>\n",
       "      <td>sofa</td>\n",
       "      <td>2019-10-01</td>\n",
       "      <td>0</td>\n",
       "      <td>1</td>\n",
       "    </tr>\n",
       "    <tr>\n",
       "      <th>3</th>\n",
       "      <td>2019-10-01 00:00:01</td>\n",
       "      <td>view</td>\n",
       "      <td>1307067</td>\n",
       "      <td>2053013558920217191</td>\n",
       "      <td>computers.notebook</td>\n",
       "      <td>lenovo</td>\n",
       "      <td>251.74</td>\n",
       "      <td>550050854</td>\n",
       "      <td>computers</td>\n",
       "      <td>notebook</td>\n",
       "      <td>notebook</td>\n",
       "      <td>2019-10-01</td>\n",
       "      <td>0</td>\n",
       "      <td>1</td>\n",
       "    </tr>\n",
       "    <tr>\n",
       "      <th>4</th>\n",
       "      <td>2019-10-01 00:00:04</td>\n",
       "      <td>view</td>\n",
       "      <td>1004237</td>\n",
       "      <td>2053013555631882655</td>\n",
       "      <td>electronics.smartphone</td>\n",
       "      <td>apple</td>\n",
       "      <td>1081.98</td>\n",
       "      <td>535871217</td>\n",
       "      <td>electronics</td>\n",
       "      <td>smartphone</td>\n",
       "      <td>smartphone</td>\n",
       "      <td>2019-10-01</td>\n",
       "      <td>0</td>\n",
       "      <td>1</td>\n",
       "    </tr>\n",
       "  </tbody>\n",
       "</table>\n",
       "</div>"
      ],
      "text/plain": [
       "           event_time event_type  product_id          category_id  \\\n",
       "0 2019-10-01 00:00:00       view    44600062  2103807459595387724   \n",
       "1 2019-10-01 00:00:00       view     3900821  2053013552326770905   \n",
       "2 2019-10-01 00:00:01       view    17200506  2053013559792632471   \n",
       "3 2019-10-01 00:00:01       view     1307067  2053013558920217191   \n",
       "4 2019-10-01 00:00:04       view     1004237  2053013555631882655   \n",
       "\n",
       "                         category_code     brand    price    user_id  \\\n",
       "0                                  NaN  shiseido    35.79  541312140   \n",
       "1  appliances.environment.water_heater      aqua    33.20  554748717   \n",
       "2           furniture.living_room.sofa       NaN   543.10  519107250   \n",
       "3                   computers.notebook    lenovo   251.74  550050854   \n",
       "4               electronics.smartphone     apple  1081.98  535871217   \n",
       "\n",
       "      category sub_category  product_name   event_day  event_hour  \\\n",
       "0          NaN          NaN           NaN  2019-10-01           0   \n",
       "1   appliances  environment  water_heater  2019-10-01           0   \n",
       "2    furniture  living_room          sofa  2019-10-01           0   \n",
       "3    computers     notebook      notebook  2019-10-01           0   \n",
       "4  electronics   smartphone    smartphone  2019-10-01           0   \n",
       "\n",
       "   event_weekday  \n",
       "0              1  \n",
       "1              1  \n",
       "2              1  \n",
       "3              1  \n",
       "4              1  "
      ]
     },
     "execution_count": 36,
     "metadata": {},
     "output_type": "execute_result"
    }
   ],
   "source": [
    "data.head()"
   ]
  },
  {
   "cell_type": "markdown",
   "metadata": {},
   "source": [
    "# 总体运营指标"
   ]
  },
  {
   "cell_type": "code",
   "execution_count": null,
   "metadata": {},
   "outputs": [
    {
     "data": {
      "text/html": [
       "<div>\n",
       "<style scoped>\n",
       "    .dataframe tbody tr th:only-of-type {\n",
       "        vertical-align: middle;\n",
       "    }\n",
       "\n",
       "    .dataframe tbody tr th {\n",
       "        vertical-align: top;\n",
       "    }\n",
       "\n",
       "    .dataframe thead th {\n",
       "        text-align: right;\n",
       "    }\n",
       "</style>\n",
       "<table border=\"1\" class=\"dataframe\">\n",
       "  <thead>\n",
       "    <tr style=\"text-align: right;\">\n",
       "      <th></th>\n",
       "      <th>PV</th>\n",
       "      <th>UV</th>\n",
       "    </tr>\n",
       "    <tr>\n",
       "      <th>event_type</th>\n",
       "      <th></th>\n",
       "      <th></th>\n",
       "    </tr>\n",
       "  </thead>\n",
       "  <tbody>\n",
       "    <tr>\n",
       "      <th>view</th>\n",
       "      <td>40772341</td>\n",
       "      <td>3022130</td>\n",
       "    </tr>\n",
       "  </tbody>\n",
       "</table>\n",
       "</div>"
      ],
      "text/plain": [
       "                  PV       UV\n",
       "event_type                   \n",
       "view        40772341  3022130"
      ]
     },
     "metadata": {},
     "output_type": "display_data"
    }
   ],
   "source": [
    "# pv uv\n",
    "data.query('event_type == \"view\"').groupby('event_type').agg(PV = ('user_id','count'),\n",
    "              UV = ('user_id','nunique'))"
   ]
  },
  {
   "cell_type": "code",
   "execution_count": null,
   "metadata": {},
   "outputs": [
    {
     "data": {
      "text/html": [
       "<div>\n",
       "<style scoped>\n",
       "    .dataframe tbody tr th:only-of-type {\n",
       "        vertical-align: middle;\n",
       "    }\n",
       "\n",
       "    .dataframe tbody tr th {\n",
       "        vertical-align: top;\n",
       "    }\n",
       "\n",
       "    .dataframe thead th {\n",
       "        text-align: right;\n",
       "    }\n",
       "</style>\n",
       "<table border=\"1\" class=\"dataframe\">\n",
       "  <thead>\n",
       "    <tr style=\"text-align: right;\">\n",
       "      <th></th>\n",
       "      <th>order_num</th>\n",
       "      <th>order_user_num</th>\n",
       "      <th>ordered_product_num</th>\n",
       "      <th>gmv</th>\n",
       "    </tr>\n",
       "    <tr>\n",
       "      <th>event_type</th>\n",
       "      <th></th>\n",
       "      <th></th>\n",
       "      <th></th>\n",
       "      <th></th>\n",
       "    </tr>\n",
       "  </thead>\n",
       "  <tbody>\n",
       "    <tr>\n",
       "      <th>purchase</th>\n",
       "      <td>742773</td>\n",
       "      <td>347118</td>\n",
       "      <td>42241</td>\n",
       "      <td>2.299332e+08</td>\n",
       "    </tr>\n",
       "  </tbody>\n",
       "</table>\n",
       "</div>"
      ],
      "text/plain": [
       "            order_num  order_user_num  ordered_product_num           gmv\n",
       "event_type                                                              \n",
       "purchase       742773          347118                42241  2.299332e+08"
      ]
     },
     "metadata": {},
     "output_type": "display_data"
    }
   ],
   "source": [
    "# 订单数 gmv\n",
    "data.query('event_type == \"purchase\"').groupby('event_type').agg(order_num = ('user_id','count'),\n",
    "                                    gmv = ('price','sum'))"
   ]
  },
  {
   "cell_type": "code",
   "execution_count": null,
   "metadata": {},
   "outputs": [
    {
     "data": {
      "text/html": [
       "<div>\n",
       "<style scoped>\n",
       "    .dataframe tbody tr th:only-of-type {\n",
       "        vertical-align: middle;\n",
       "    }\n",
       "\n",
       "    .dataframe tbody tr th {\n",
       "        vertical-align: top;\n",
       "    }\n",
       "\n",
       "    .dataframe thead th {\n",
       "        text-align: right;\n",
       "    }\n",
       "</style>\n",
       "<table border=\"1\" class=\"dataframe\">\n",
       "  <thead>\n",
       "    <tr style=\"text-align: right;\">\n",
       "      <th>event_type</th>\n",
       "      <th>cart</th>\n",
       "      <th>purchase</th>\n",
       "      <th>view</th>\n",
       "      <th>conversion_rate</th>\n",
       "    </tr>\n",
       "  </thead>\n",
       "  <tbody>\n",
       "    <tr>\n",
       "      <th>event_type</th>\n",
       "      <td>898443</td>\n",
       "      <td>742773</td>\n",
       "      <td>40772341</td>\n",
       "      <td>0.018218</td>\n",
       "    </tr>\n",
       "  </tbody>\n",
       "</table>\n",
       "</div>"
      ],
      "text/plain": [
       "event_type    cart  purchase      view  conversion_rate\n",
       "event_type  898443    742773  40772341         0.018218"
      ]
     },
     "metadata": {},
     "output_type": "display_data"
    }
   ],
   "source": [
    "# 各行为计数\n",
    "behavior_info = data.groupby('event_type').agg({'event_type': 'count'}).unstack().unstack()\n",
    "behavior_info['conversion_rate'] = behavior_info['purchase'] / behavior_info['view']\n",
    "behavior_info"
   ]
  },
  {
   "cell_type": "code",
   "execution_count": null,
   "metadata": {},
   "outputs": [
    {
     "data": {
      "text/html": [
       "<div>\n",
       "<style scoped>\n",
       "    .dataframe tbody tr th:only-of-type {\n",
       "        vertical-align: middle;\n",
       "    }\n",
       "\n",
       "    .dataframe tbody tr th {\n",
       "        vertical-align: top;\n",
       "    }\n",
       "\n",
       "    .dataframe thead th {\n",
       "        text-align: right;\n",
       "    }\n",
       "</style>\n",
       "<table border=\"1\" class=\"dataframe\">\n",
       "  <thead>\n",
       "    <tr style=\"text-align: right;\">\n",
       "      <th></th>\n",
       "      <th>下单数</th>\n",
       "      <th>动销商品数</th>\n",
       "      <th>gmv</th>\n",
       "      <th>单均价</th>\n",
       "    </tr>\n",
       "    <tr>\n",
       "      <th>event_type</th>\n",
       "      <th></th>\n",
       "      <th></th>\n",
       "      <th></th>\n",
       "      <th></th>\n",
       "    </tr>\n",
       "  </thead>\n",
       "  <tbody>\n",
       "    <tr>\n",
       "      <th>purchase</th>\n",
       "      <td>742773</td>\n",
       "      <td>42241</td>\n",
       "      <td>2.299332e+08</td>\n",
       "      <td>309.560542</td>\n",
       "    </tr>\n",
       "  </tbody>\n",
       "</table>\n",
       "</div>"
      ],
      "text/plain": [
       "               下单数  动销商品数           gmv         单均价\n",
       "event_type                                         \n",
       "purchase    742773  42241  2.299332e+08  309.560542"
      ]
     },
     "metadata": {},
     "output_type": "display_data"
    }
   ],
   "source": [
    "# 下单数,动销商品数,gmv,单均价\n",
    "product_info = data.query('event_type == \"purchase\"').groupby('event_type').agg({'product_id': ['count','nunique'],'price': ['sum','mean']})\n",
    "product_info.columns = ['下单数','动销商品数','gmv','单均价']\n",
    "product_info"
   ]
  },
  {
   "cell_type": "markdown",
   "metadata": {},
   "source": [
    "# 平台经营"
   ]
  },
  {
   "cell_type": "markdown",
   "metadata": {},
   "source": [
    "## PV UV"
   ]
  },
  {
   "cell_type": "code",
   "execution_count": 71,
   "metadata": {},
   "outputs": [
    {
     "data": {
      "text/html": [
       "<div>\n",
       "<style scoped>\n",
       "    .dataframe tbody tr th:only-of-type {\n",
       "        vertical-align: middle;\n",
       "    }\n",
       "\n",
       "    .dataframe tbody tr th {\n",
       "        vertical-align: top;\n",
       "    }\n",
       "\n",
       "    .dataframe thead th {\n",
       "        text-align: right;\n",
       "    }\n",
       "</style>\n",
       "<table border=\"1\" class=\"dataframe\">\n",
       "  <thead>\n",
       "    <tr style=\"text-align: right;\">\n",
       "      <th></th>\n",
       "      <th>PV</th>\n",
       "      <th>UV</th>\n",
       "    </tr>\n",
       "    <tr>\n",
       "      <th>event_type</th>\n",
       "      <th></th>\n",
       "      <th></th>\n",
       "    </tr>\n",
       "  </thead>\n",
       "  <tbody>\n",
       "    <tr>\n",
       "      <th>view</th>\n",
       "      <td>40772341</td>\n",
       "      <td>3022130</td>\n",
       "    </tr>\n",
       "  </tbody>\n",
       "</table>\n",
       "</div>"
      ],
      "text/plain": [
       "                  PV       UV\n",
       "event_type                   \n",
       "view        40772341  3022130"
      ]
     },
     "execution_count": 71,
     "metadata": {},
     "output_type": "execute_result"
    }
   ],
   "source": [
    "view_info  = data.query('event_type == \"view\"')\n",
    "puv = view_info.groupby('event_type').agg(PV = ('user_id','count'),\n",
    "              UV = ('user_id','nunique'))\n",
    "puv"
   ]
  },
  {
   "cell_type": "markdown",
   "metadata": {},
   "source": [
    "### 分日"
   ]
  },
  {
   "cell_type": "code",
   "execution_count": 70,
   "metadata": {},
   "outputs": [
    {
     "data": {
      "text/html": [
       "<div>\n",
       "<style scoped>\n",
       "    .dataframe tbody tr th:only-of-type {\n",
       "        vertical-align: middle;\n",
       "    }\n",
       "\n",
       "    .dataframe tbody tr th {\n",
       "        vertical-align: top;\n",
       "    }\n",
       "\n",
       "    .dataframe thead th {\n",
       "        text-align: right;\n",
       "    }\n",
       "</style>\n",
       "<table border=\"1\" class=\"dataframe\">\n",
       "  <thead>\n",
       "    <tr style=\"text-align: right;\">\n",
       "      <th></th>\n",
       "      <th>PV</th>\n",
       "      <th>UV</th>\n",
       "    </tr>\n",
       "    <tr>\n",
       "      <th>event_day</th>\n",
       "      <th></th>\n",
       "      <th></th>\n",
       "    </tr>\n",
       "  </thead>\n",
       "  <tbody>\n",
       "    <tr>\n",
       "      <th>2019-10-01</th>\n",
       "      <td>1208165</td>\n",
       "      <td>190158</td>\n",
       "    </tr>\n",
       "    <tr>\n",
       "      <th>2019-10-02</th>\n",
       "      <td>1154436</td>\n",
       "      <td>184955</td>\n",
       "    </tr>\n",
       "    <tr>\n",
       "      <th>2019-10-03</th>\n",
       "      <td>1088577</td>\n",
       "      <td>170655</td>\n",
       "    </tr>\n",
       "    <tr>\n",
       "      <th>2019-10-04</th>\n",
       "      <td>1346162</td>\n",
       "      <td>209393</td>\n",
       "    </tr>\n",
       "    <tr>\n",
       "      <th>2019-10-05</th>\n",
       "      <td>1271176</td>\n",
       "      <td>194949</td>\n",
       "    </tr>\n",
       "    <tr>\n",
       "      <th>2019-10-06</th>\n",
       "      <td>1263876</td>\n",
       "      <td>193194</td>\n",
       "    </tr>\n",
       "    <tr>\n",
       "      <th>2019-10-07</th>\n",
       "      <td>1160929</td>\n",
       "      <td>186939</td>\n",
       "    </tr>\n",
       "    <tr>\n",
       "      <th>2019-10-08</th>\n",
       "      <td>1328893</td>\n",
       "      <td>221194</td>\n",
       "    </tr>\n",
       "    <tr>\n",
       "      <th>2019-10-09</th>\n",
       "      <td>1306089</td>\n",
       "      <td>214133</td>\n",
       "    </tr>\n",
       "    <tr>\n",
       "      <th>2019-10-10</th>\n",
       "      <td>1242891</td>\n",
       "      <td>205307</td>\n",
       "    </tr>\n",
       "    <tr>\n",
       "      <th>2019-10-11</th>\n",
       "      <td>1447502</td>\n",
       "      <td>230514</td>\n",
       "    </tr>\n",
       "    <tr>\n",
       "      <th>2019-10-12</th>\n",
       "      <td>1433723</td>\n",
       "      <td>208349</td>\n",
       "    </tr>\n",
       "    <tr>\n",
       "      <th>2019-10-13</th>\n",
       "      <td>1584488</td>\n",
       "      <td>225923</td>\n",
       "    </tr>\n",
       "    <tr>\n",
       "      <th>2019-10-14</th>\n",
       "      <td>1381286</td>\n",
       "      <td>209077</td>\n",
       "    </tr>\n",
       "    <tr>\n",
       "      <th>2019-10-15</th>\n",
       "      <td>1466116</td>\n",
       "      <td>230118</td>\n",
       "    </tr>\n",
       "    <tr>\n",
       "      <th>2019-10-16</th>\n",
       "      <td>1445559</td>\n",
       "      <td>230184</td>\n",
       "    </tr>\n",
       "    <tr>\n",
       "      <th>2019-10-17</th>\n",
       "      <td>1338173</td>\n",
       "      <td>208456</td>\n",
       "    </tr>\n",
       "    <tr>\n",
       "      <th>2019-10-18</th>\n",
       "      <td>1415597</td>\n",
       "      <td>229444</td>\n",
       "    </tr>\n",
       "    <tr>\n",
       "      <th>2019-10-19</th>\n",
       "      <td>1384908</td>\n",
       "      <td>217897</td>\n",
       "    </tr>\n",
       "    <tr>\n",
       "      <th>2019-10-20</th>\n",
       "      <td>1443869</td>\n",
       "      <td>231826</td>\n",
       "    </tr>\n",
       "    <tr>\n",
       "      <th>2019-10-21</th>\n",
       "      <td>1343132</td>\n",
       "      <td>225238</td>\n",
       "    </tr>\n",
       "    <tr>\n",
       "      <th>2019-10-22</th>\n",
       "      <td>1354156</td>\n",
       "      <td>223369</td>\n",
       "    </tr>\n",
       "    <tr>\n",
       "      <th>2019-10-23</th>\n",
       "      <td>1319648</td>\n",
       "      <td>219081</td>\n",
       "    </tr>\n",
       "    <tr>\n",
       "      <th>2019-10-24</th>\n",
       "      <td>1256473</td>\n",
       "      <td>206920</td>\n",
       "    </tr>\n",
       "    <tr>\n",
       "      <th>2019-10-25</th>\n",
       "      <td>1374227</td>\n",
       "      <td>223233</td>\n",
       "    </tr>\n",
       "    <tr>\n",
       "      <th>2019-10-26</th>\n",
       "      <td>1289569</td>\n",
       "      <td>202100</td>\n",
       "    </tr>\n",
       "    <tr>\n",
       "      <th>2019-10-27</th>\n",
       "      <td>1330652</td>\n",
       "      <td>201332</td>\n",
       "    </tr>\n",
       "    <tr>\n",
       "      <th>2019-10-28</th>\n",
       "      <td>1221695</td>\n",
       "      <td>195544</td>\n",
       "    </tr>\n",
       "    <tr>\n",
       "      <th>2019-10-29</th>\n",
       "      <td>1189864</td>\n",
       "      <td>193148</td>\n",
       "    </tr>\n",
       "    <tr>\n",
       "      <th>2019-10-30</th>\n",
       "      <td>1172126</td>\n",
       "      <td>191946</td>\n",
       "    </tr>\n",
       "    <tr>\n",
       "      <th>2019-10-31</th>\n",
       "      <td>1208384</td>\n",
       "      <td>198544</td>\n",
       "    </tr>\n",
       "  </tbody>\n",
       "</table>\n",
       "</div>"
      ],
      "text/plain": [
       "                 PV      UV\n",
       "event_day                  \n",
       "2019-10-01  1208165  190158\n",
       "2019-10-02  1154436  184955\n",
       "2019-10-03  1088577  170655\n",
       "2019-10-04  1346162  209393\n",
       "2019-10-05  1271176  194949\n",
       "2019-10-06  1263876  193194\n",
       "2019-10-07  1160929  186939\n",
       "2019-10-08  1328893  221194\n",
       "2019-10-09  1306089  214133\n",
       "2019-10-10  1242891  205307\n",
       "2019-10-11  1447502  230514\n",
       "2019-10-12  1433723  208349\n",
       "2019-10-13  1584488  225923\n",
       "2019-10-14  1381286  209077\n",
       "2019-10-15  1466116  230118\n",
       "2019-10-16  1445559  230184\n",
       "2019-10-17  1338173  208456\n",
       "2019-10-18  1415597  229444\n",
       "2019-10-19  1384908  217897\n",
       "2019-10-20  1443869  231826\n",
       "2019-10-21  1343132  225238\n",
       "2019-10-22  1354156  223369\n",
       "2019-10-23  1319648  219081\n",
       "2019-10-24  1256473  206920\n",
       "2019-10-25  1374227  223233\n",
       "2019-10-26  1289569  202100\n",
       "2019-10-27  1330652  201332\n",
       "2019-10-28  1221695  195544\n",
       "2019-10-29  1189864  193148\n",
       "2019-10-30  1172126  191946\n",
       "2019-10-31  1208384  198544"
      ]
     },
     "execution_count": 70,
     "metadata": {},
     "output_type": "execute_result"
    }
   ],
   "source": [
    "view_info.groupby(['event_day']).agg(PV = ('user_id','count'),\n",
    "              UV = ('user_id','nunique'))"
   ]
  },
  {
   "cell_type": "markdown",
   "metadata": {},
   "source": [
    "### 分时"
   ]
  },
  {
   "cell_type": "code",
   "execution_count": 42,
   "metadata": {},
   "outputs": [
    {
     "data": {
      "text/html": [
       "<div>\n",
       "<style scoped>\n",
       "    .dataframe tbody tr th:only-of-type {\n",
       "        vertical-align: middle;\n",
       "    }\n",
       "\n",
       "    .dataframe tbody tr th {\n",
       "        vertical-align: top;\n",
       "    }\n",
       "\n",
       "    .dataframe thead th {\n",
       "        text-align: right;\n",
       "    }\n",
       "</style>\n",
       "<table border=\"1\" class=\"dataframe\">\n",
       "  <thead>\n",
       "    <tr style=\"text-align: right;\">\n",
       "      <th></th>\n",
       "      <th>PV</th>\n",
       "      <th>UV</th>\n",
       "    </tr>\n",
       "    <tr>\n",
       "      <th>event_hour</th>\n",
       "      <th></th>\n",
       "      <th></th>\n",
       "    </tr>\n",
       "  </thead>\n",
       "  <tbody>\n",
       "    <tr>\n",
       "      <th>0</th>\n",
       "      <td>299740</td>\n",
       "      <td>59584</td>\n",
       "    </tr>\n",
       "    <tr>\n",
       "      <th>1</th>\n",
       "      <td>545513</td>\n",
       "      <td>116376</td>\n",
       "    </tr>\n",
       "    <tr>\n",
       "      <th>2</th>\n",
       "      <td>1036894</td>\n",
       "      <td>209100</td>\n",
       "    </tr>\n",
       "    <tr>\n",
       "      <th>3</th>\n",
       "      <td>1485498</td>\n",
       "      <td>290737</td>\n",
       "    </tr>\n",
       "    <tr>\n",
       "      <th>4</th>\n",
       "      <td>1826073</td>\n",
       "      <td>351996</td>\n",
       "    </tr>\n",
       "    <tr>\n",
       "      <th>5</th>\n",
       "      <td>2020202</td>\n",
       "      <td>387131</td>\n",
       "    </tr>\n",
       "    <tr>\n",
       "      <th>6</th>\n",
       "      <td>2154159</td>\n",
       "      <td>413004</td>\n",
       "    </tr>\n",
       "    <tr>\n",
       "      <th>7</th>\n",
       "      <td>2217399</td>\n",
       "      <td>426678</td>\n",
       "    </tr>\n",
       "    <tr>\n",
       "      <th>8</th>\n",
       "      <td>2267568</td>\n",
       "      <td>432146</td>\n",
       "    </tr>\n",
       "    <tr>\n",
       "      <th>9</th>\n",
       "      <td>2228945</td>\n",
       "      <td>421753</td>\n",
       "    </tr>\n",
       "    <tr>\n",
       "      <th>10</th>\n",
       "      <td>2181257</td>\n",
       "      <td>413410</td>\n",
       "    </tr>\n",
       "    <tr>\n",
       "      <th>11</th>\n",
       "      <td>2086570</td>\n",
       "      <td>398675</td>\n",
       "    </tr>\n",
       "    <tr>\n",
       "      <th>12</th>\n",
       "      <td>2040518</td>\n",
       "      <td>393493</td>\n",
       "    </tr>\n",
       "    <tr>\n",
       "      <th>13</th>\n",
       "      <td>2263309</td>\n",
       "      <td>419289</td>\n",
       "    </tr>\n",
       "    <tr>\n",
       "      <th>14</th>\n",
       "      <td>2590043</td>\n",
       "      <td>442995</td>\n",
       "    </tr>\n",
       "    <tr>\n",
       "      <th>15</th>\n",
       "      <td>2892301</td>\n",
       "      <td>459169</td>\n",
       "    </tr>\n",
       "    <tr>\n",
       "      <th>16</th>\n",
       "      <td>2971773</td>\n",
       "      <td>445817</td>\n",
       "    </tr>\n",
       "    <tr>\n",
       "      <th>17</th>\n",
       "      <td>2663078</td>\n",
       "      <td>384366</td>\n",
       "    </tr>\n",
       "    <tr>\n",
       "      <th>18</th>\n",
       "      <td>2069058</td>\n",
       "      <td>311609</td>\n",
       "    </tr>\n",
       "    <tr>\n",
       "      <th>19</th>\n",
       "      <td>1303958</td>\n",
       "      <td>191347</td>\n",
       "    </tr>\n",
       "    <tr>\n",
       "      <th>20</th>\n",
       "      <td>722698</td>\n",
       "      <td>107685</td>\n",
       "    </tr>\n",
       "    <tr>\n",
       "      <th>21</th>\n",
       "      <td>425065</td>\n",
       "      <td>64531</td>\n",
       "    </tr>\n",
       "    <tr>\n",
       "      <th>22</th>\n",
       "      <td>264757</td>\n",
       "      <td>41243</td>\n",
       "    </tr>\n",
       "    <tr>\n",
       "      <th>23</th>\n",
       "      <td>215965</td>\n",
       "      <td>37080</td>\n",
       "    </tr>\n",
       "  </tbody>\n",
       "</table>\n",
       "</div>"
      ],
      "text/plain": [
       "                 PV      UV\n",
       "event_hour                 \n",
       "0            299740   59584\n",
       "1            545513  116376\n",
       "2           1036894  209100\n",
       "3           1485498  290737\n",
       "4           1826073  351996\n",
       "5           2020202  387131\n",
       "6           2154159  413004\n",
       "7           2217399  426678\n",
       "8           2267568  432146\n",
       "9           2228945  421753\n",
       "10          2181257  413410\n",
       "11          2086570  398675\n",
       "12          2040518  393493\n",
       "13          2263309  419289\n",
       "14          2590043  442995\n",
       "15          2892301  459169\n",
       "16          2971773  445817\n",
       "17          2663078  384366\n",
       "18          2069058  311609\n",
       "19          1303958  191347\n",
       "20           722698  107685\n",
       "21           425065   64531\n",
       "22           264757   41243\n",
       "23           215965   37080"
      ]
     },
     "execution_count": 42,
     "metadata": {},
     "output_type": "execute_result"
    }
   ],
   "source": [
    "view_info.groupby(['event_hour']).agg(PV = ('user_id','count'),\n",
    "              UV = ('user_id','nunique'))\n"
   ]
  },
  {
   "cell_type": "markdown",
   "metadata": {},
   "source": [
    "## 下单数 gmv 客单价"
   ]
  },
  {
   "cell_type": "code",
   "execution_count": 9,
   "metadata": {},
   "outputs": [
    {
     "data": {
      "text/html": [
       "<div>\n",
       "<style scoped>\n",
       "    .dataframe tbody tr th:only-of-type {\n",
       "        vertical-align: middle;\n",
       "    }\n",
       "\n",
       "    .dataframe tbody tr th {\n",
       "        vertical-align: top;\n",
       "    }\n",
       "\n",
       "    .dataframe thead th {\n",
       "        text-align: right;\n",
       "    }\n",
       "</style>\n",
       "<table border=\"1\" class=\"dataframe\">\n",
       "  <thead>\n",
       "    <tr style=\"text-align: right;\">\n",
       "      <th></th>\n",
       "      <th>order_num</th>\n",
       "      <th>gmv</th>\n",
       "    </tr>\n",
       "    <tr>\n",
       "      <th>event_type</th>\n",
       "      <th></th>\n",
       "      <th></th>\n",
       "    </tr>\n",
       "  </thead>\n",
       "  <tbody>\n",
       "    <tr>\n",
       "      <th>purchase</th>\n",
       "      <td>742773</td>\n",
       "      <td>2.299332e+08</td>\n",
       "    </tr>\n",
       "  </tbody>\n",
       "</table>\n",
       "</div>"
      ],
      "text/plain": [
       "            order_num           gmv\n",
       "event_type                         \n",
       "purchase       742773  2.299332e+08"
      ]
     },
     "execution_count": 9,
     "metadata": {},
     "output_type": "execute_result"
    }
   ],
   "source": [
    "# 订单数 gmv\n",
    "order_info  = data.query('event_type == \"purchase\"')\n",
    "order_info.groupby('event_type').agg(order_num = ('user_id','count'),\n",
    "                                    gmv = ('price','sum'),\n",
    "                                    ATV = ('price','mean'))"
   ]
  },
  {
   "cell_type": "markdown",
   "metadata": {},
   "source": [
    "### 分日"
   ]
  },
  {
   "cell_type": "code",
   "execution_count": 10,
   "metadata": {},
   "outputs": [
    {
     "data": {
      "text/html": [
       "<div>\n",
       "<style scoped>\n",
       "    .dataframe tbody tr th:only-of-type {\n",
       "        vertical-align: middle;\n",
       "    }\n",
       "\n",
       "    .dataframe tbody tr th {\n",
       "        vertical-align: top;\n",
       "    }\n",
       "\n",
       "    .dataframe thead th {\n",
       "        text-align: right;\n",
       "    }\n",
       "</style>\n",
       "<table border=\"1\" class=\"dataframe\">\n",
       "  <thead>\n",
       "    <tr style=\"text-align: right;\">\n",
       "      <th></th>\n",
       "      <th>order_num</th>\n",
       "      <th>gmv</th>\n",
       "    </tr>\n",
       "    <tr>\n",
       "      <th>event_day</th>\n",
       "      <th></th>\n",
       "      <th></th>\n",
       "    </tr>\n",
       "  </thead>\n",
       "  <tbody>\n",
       "    <tr>\n",
       "      <th>2019-10-01</th>\n",
       "      <td>19305</td>\n",
       "      <td>6275579.06</td>\n",
       "    </tr>\n",
       "    <tr>\n",
       "      <th>2019-10-02</th>\n",
       "      <td>19469</td>\n",
       "      <td>6213628.53</td>\n",
       "    </tr>\n",
       "    <tr>\n",
       "      <th>2019-10-03</th>\n",
       "      <td>19255</td>\n",
       "      <td>6233782.98</td>\n",
       "    </tr>\n",
       "    <tr>\n",
       "      <th>2019-10-04</th>\n",
       "      <td>27039</td>\n",
       "      <td>8623058.19</td>\n",
       "    </tr>\n",
       "    <tr>\n",
       "      <th>2019-10-05</th>\n",
       "      <td>23492</td>\n",
       "      <td>7341094.46</td>\n",
       "    </tr>\n",
       "    <tr>\n",
       "      <th>2019-10-06</th>\n",
       "      <td>22169</td>\n",
       "      <td>6737258.17</td>\n",
       "    </tr>\n",
       "    <tr>\n",
       "      <th>2019-10-07</th>\n",
       "      <td>21378</td>\n",
       "      <td>6348189.06</td>\n",
       "    </tr>\n",
       "    <tr>\n",
       "      <th>2019-10-08</th>\n",
       "      <td>23071</td>\n",
       "      <td>6819701.26</td>\n",
       "    </tr>\n",
       "    <tr>\n",
       "      <th>2019-10-09</th>\n",
       "      <td>22747</td>\n",
       "      <td>6855326.05</td>\n",
       "    </tr>\n",
       "    <tr>\n",
       "      <th>2019-10-10</th>\n",
       "      <td>21992</td>\n",
       "      <td>6665413.21</td>\n",
       "    </tr>\n",
       "    <tr>\n",
       "      <th>2019-10-11</th>\n",
       "      <td>26224</td>\n",
       "      <td>7716208.55</td>\n",
       "    </tr>\n",
       "    <tr>\n",
       "      <th>2019-10-12</th>\n",
       "      <td>25373</td>\n",
       "      <td>7307691.57</td>\n",
       "    </tr>\n",
       "    <tr>\n",
       "      <th>2019-10-13</th>\n",
       "      <td>29561</td>\n",
       "      <td>8457606.49</td>\n",
       "    </tr>\n",
       "    <tr>\n",
       "      <th>2019-10-14</th>\n",
       "      <td>28405</td>\n",
       "      <td>9356691.65</td>\n",
       "    </tr>\n",
       "    <tr>\n",
       "      <th>2019-10-15</th>\n",
       "      <td>26371</td>\n",
       "      <td>8652872.26</td>\n",
       "    </tr>\n",
       "    <tr>\n",
       "      <th>2019-10-16</th>\n",
       "      <td>31393</td>\n",
       "      <td>9747164.72</td>\n",
       "    </tr>\n",
       "    <tr>\n",
       "      <th>2019-10-17</th>\n",
       "      <td>28317</td>\n",
       "      <td>9026019.07</td>\n",
       "    </tr>\n",
       "    <tr>\n",
       "      <th>2019-10-18</th>\n",
       "      <td>25849</td>\n",
       "      <td>8154781.53</td>\n",
       "    </tr>\n",
       "    <tr>\n",
       "      <th>2019-10-19</th>\n",
       "      <td>24657</td>\n",
       "      <td>7562479.36</td>\n",
       "    </tr>\n",
       "    <tr>\n",
       "      <th>2019-10-20</th>\n",
       "      <td>25097</td>\n",
       "      <td>7515168.65</td>\n",
       "    </tr>\n",
       "    <tr>\n",
       "      <th>2019-10-21</th>\n",
       "      <td>25165</td>\n",
       "      <td>7862143.64</td>\n",
       "    </tr>\n",
       "    <tr>\n",
       "      <th>2019-10-22</th>\n",
       "      <td>25383</td>\n",
       "      <td>7913671.44</td>\n",
       "    </tr>\n",
       "    <tr>\n",
       "      <th>2019-10-23</th>\n",
       "      <td>24730</td>\n",
       "      <td>7614084.79</td>\n",
       "    </tr>\n",
       "    <tr>\n",
       "      <th>2019-10-24</th>\n",
       "      <td>23999</td>\n",
       "      <td>7470344.60</td>\n",
       "    </tr>\n",
       "    <tr>\n",
       "      <th>2019-10-25</th>\n",
       "      <td>23883</td>\n",
       "      <td>7235218.34</td>\n",
       "    </tr>\n",
       "    <tr>\n",
       "      <th>2019-10-26</th>\n",
       "      <td>22653</td>\n",
       "      <td>6917602.84</td>\n",
       "    </tr>\n",
       "    <tr>\n",
       "      <th>2019-10-27</th>\n",
       "      <td>23401</td>\n",
       "      <td>7197520.64</td>\n",
       "    </tr>\n",
       "    <tr>\n",
       "      <th>2019-10-28</th>\n",
       "      <td>21111</td>\n",
       "      <td>6591445.12</td>\n",
       "    </tr>\n",
       "    <tr>\n",
       "      <th>2019-10-29</th>\n",
       "      <td>20372</td>\n",
       "      <td>6432162.00</td>\n",
       "    </tr>\n",
       "    <tr>\n",
       "      <th>2019-10-30</th>\n",
       "      <td>20815</td>\n",
       "      <td>6633882.15</td>\n",
       "    </tr>\n",
       "    <tr>\n",
       "      <th>2019-10-31</th>\n",
       "      <td>20097</td>\n",
       "      <td>6455422.25</td>\n",
       "    </tr>\n",
       "  </tbody>\n",
       "</table>\n",
       "</div>"
      ],
      "text/plain": [
       "            order_num         gmv\n",
       "event_day                        \n",
       "2019-10-01      19305  6275579.06\n",
       "2019-10-02      19469  6213628.53\n",
       "2019-10-03      19255  6233782.98\n",
       "2019-10-04      27039  8623058.19\n",
       "2019-10-05      23492  7341094.46\n",
       "2019-10-06      22169  6737258.17\n",
       "2019-10-07      21378  6348189.06\n",
       "2019-10-08      23071  6819701.26\n",
       "2019-10-09      22747  6855326.05\n",
       "2019-10-10      21992  6665413.21\n",
       "2019-10-11      26224  7716208.55\n",
       "2019-10-12      25373  7307691.57\n",
       "2019-10-13      29561  8457606.49\n",
       "2019-10-14      28405  9356691.65\n",
       "2019-10-15      26371  8652872.26\n",
       "2019-10-16      31393  9747164.72\n",
       "2019-10-17      28317  9026019.07\n",
       "2019-10-18      25849  8154781.53\n",
       "2019-10-19      24657  7562479.36\n",
       "2019-10-20      25097  7515168.65\n",
       "2019-10-21      25165  7862143.64\n",
       "2019-10-22      25383  7913671.44\n",
       "2019-10-23      24730  7614084.79\n",
       "2019-10-24      23999  7470344.60\n",
       "2019-10-25      23883  7235218.34\n",
       "2019-10-26      22653  6917602.84\n",
       "2019-10-27      23401  7197520.64\n",
       "2019-10-28      21111  6591445.12\n",
       "2019-10-29      20372  6432162.00\n",
       "2019-10-30      20815  6633882.15\n",
       "2019-10-31      20097  6455422.25"
      ]
     },
     "execution_count": 10,
     "metadata": {},
     "output_type": "execute_result"
    }
   ],
   "source": [
    "order_info_byday= order_info.groupby('event_day').agg(order_num = ('user_id','count'),\n",
    "                                    gmv = ('price','sum'))\n",
    "order_info_byday"
   ]
  },
  {
   "cell_type": "markdown",
   "metadata": {},
   "source": [
    "### 分时"
   ]
  },
  {
   "cell_type": "code",
   "execution_count": 12,
   "metadata": {},
   "outputs": [
    {
     "data": {
      "text/html": [
       "<div>\n",
       "<style scoped>\n",
       "    .dataframe tbody tr th:only-of-type {\n",
       "        vertical-align: middle;\n",
       "    }\n",
       "\n",
       "    .dataframe tbody tr th {\n",
       "        vertical-align: top;\n",
       "    }\n",
       "\n",
       "    .dataframe thead th {\n",
       "        text-align: right;\n",
       "    }\n",
       "</style>\n",
       "<table border=\"1\" class=\"dataframe\">\n",
       "  <thead>\n",
       "    <tr style=\"text-align: right;\">\n",
       "      <th></th>\n",
       "      <th>order_num</th>\n",
       "      <th>gmv</th>\n",
       "    </tr>\n",
       "    <tr>\n",
       "      <th>event_hour</th>\n",
       "      <th></th>\n",
       "      <th></th>\n",
       "    </tr>\n",
       "  </thead>\n",
       "  <tbody>\n",
       "    <tr>\n",
       "      <th>0</th>\n",
       "      <td>2949</td>\n",
       "      <td>980317.85</td>\n",
       "    </tr>\n",
       "    <tr>\n",
       "      <th>1</th>\n",
       "      <td>5526</td>\n",
       "      <td>1577532.87</td>\n",
       "    </tr>\n",
       "    <tr>\n",
       "      <th>2</th>\n",
       "      <td>13968</td>\n",
       "      <td>3873027.44</td>\n",
       "    </tr>\n",
       "    <tr>\n",
       "      <th>3</th>\n",
       "      <td>29632</td>\n",
       "      <td>8696837.45</td>\n",
       "    </tr>\n",
       "    <tr>\n",
       "      <th>4</th>\n",
       "      <td>41143</td>\n",
       "      <td>12064072.73</td>\n",
       "    </tr>\n",
       "    <tr>\n",
       "      <th>5</th>\n",
       "      <td>48068</td>\n",
       "      <td>14398553.24</td>\n",
       "    </tr>\n",
       "    <tr>\n",
       "      <th>6</th>\n",
       "      <td>52002</td>\n",
       "      <td>15808753.76</td>\n",
       "    </tr>\n",
       "    <tr>\n",
       "      <th>7</th>\n",
       "      <td>53404</td>\n",
       "      <td>16338607.12</td>\n",
       "    </tr>\n",
       "    <tr>\n",
       "      <th>8</th>\n",
       "      <td>55195</td>\n",
       "      <td>17058580.92</td>\n",
       "    </tr>\n",
       "    <tr>\n",
       "      <th>9</th>\n",
       "      <td>55182</td>\n",
       "      <td>17551669.73</td>\n",
       "    </tr>\n",
       "    <tr>\n",
       "      <th>10</th>\n",
       "      <td>51902</td>\n",
       "      <td>16361933.71</td>\n",
       "    </tr>\n",
       "    <tr>\n",
       "      <th>11</th>\n",
       "      <td>47311</td>\n",
       "      <td>15082588.07</td>\n",
       "    </tr>\n",
       "    <tr>\n",
       "      <th>12</th>\n",
       "      <td>41840</td>\n",
       "      <td>13238529.07</td>\n",
       "    </tr>\n",
       "    <tr>\n",
       "      <th>13</th>\n",
       "      <td>39135</td>\n",
       "      <td>12363944.23</td>\n",
       "    </tr>\n",
       "    <tr>\n",
       "      <th>14</th>\n",
       "      <td>37363</td>\n",
       "      <td>11476514.59</td>\n",
       "    </tr>\n",
       "    <tr>\n",
       "      <th>15</th>\n",
       "      <td>37632</td>\n",
       "      <td>11039895.72</td>\n",
       "    </tr>\n",
       "    <tr>\n",
       "      <th>16</th>\n",
       "      <td>35772</td>\n",
       "      <td>10636257.46</td>\n",
       "    </tr>\n",
       "    <tr>\n",
       "      <th>17</th>\n",
       "      <td>30872</td>\n",
       "      <td>9395005.91</td>\n",
       "    </tr>\n",
       "    <tr>\n",
       "      <th>18</th>\n",
       "      <td>24321</td>\n",
       "      <td>7968696.06</td>\n",
       "    </tr>\n",
       "    <tr>\n",
       "      <th>19</th>\n",
       "      <td>16747</td>\n",
       "      <td>5761335.06</td>\n",
       "    </tr>\n",
       "    <tr>\n",
       "      <th>20</th>\n",
       "      <td>9892</td>\n",
       "      <td>3504661.41</td>\n",
       "    </tr>\n",
       "    <tr>\n",
       "      <th>21</th>\n",
       "      <td>6278</td>\n",
       "      <td>2350810.75</td>\n",
       "    </tr>\n",
       "    <tr>\n",
       "      <th>22</th>\n",
       "      <td>3837</td>\n",
       "      <td>1409146.30</td>\n",
       "    </tr>\n",
       "    <tr>\n",
       "      <th>23</th>\n",
       "      <td>2802</td>\n",
       "      <td>995941.18</td>\n",
       "    </tr>\n",
       "  </tbody>\n",
       "</table>\n",
       "</div>"
      ],
      "text/plain": [
       "            order_num          gmv\n",
       "event_hour                        \n",
       "0                2949    980317.85\n",
       "1                5526   1577532.87\n",
       "2               13968   3873027.44\n",
       "3               29632   8696837.45\n",
       "4               41143  12064072.73\n",
       "5               48068  14398553.24\n",
       "6               52002  15808753.76\n",
       "7               53404  16338607.12\n",
       "8               55195  17058580.92\n",
       "9               55182  17551669.73\n",
       "10              51902  16361933.71\n",
       "11              47311  15082588.07\n",
       "12              41840  13238529.07\n",
       "13              39135  12363944.23\n",
       "14              37363  11476514.59\n",
       "15              37632  11039895.72\n",
       "16              35772  10636257.46\n",
       "17              30872   9395005.91\n",
       "18              24321   7968696.06\n",
       "19              16747   5761335.06\n",
       "20               9892   3504661.41\n",
       "21               6278   2350810.75\n",
       "22               3837   1409146.30\n",
       "23               2802    995941.18"
      ]
     },
     "execution_count": 12,
     "metadata": {},
     "output_type": "execute_result"
    }
   ],
   "source": [
    "order_info_byhour= order_info.groupby('event_hour').agg(order_num = ('user_id','count'),\n",
    "                                    gmv = ('price','sum'))\n",
    "order_info_byhour"
   ]
  },
  {
   "cell_type": "markdown",
   "metadata": {},
   "source": [
    "# 销售转化\n",
    "- 只考虑行为次数， 不考虑 价格/人数/商品数"
   ]
  },
  {
   "cell_type": "markdown",
   "metadata": {},
   "source": [
    "## 行为数 下单转化率"
   ]
  },
  {
   "cell_type": "code",
   "execution_count": 82,
   "metadata": {},
   "outputs": [
    {
     "data": {
      "text/html": [
       "<div>\n",
       "<style scoped>\n",
       "    .dataframe tbody tr th:only-of-type {\n",
       "        vertical-align: middle;\n",
       "    }\n",
       "\n",
       "    .dataframe tbody tr th {\n",
       "        vertical-align: top;\n",
       "    }\n",
       "\n",
       "    .dataframe thead th {\n",
       "        text-align: right;\n",
       "    }\n",
       "</style>\n",
       "<table border=\"1\" class=\"dataframe\">\n",
       "  <thead>\n",
       "    <tr style=\"text-align: right;\">\n",
       "      <th>event_type</th>\n",
       "      <th>cart</th>\n",
       "      <th>purchase</th>\n",
       "      <th>view</th>\n",
       "      <th>conversion_rate</th>\n",
       "    </tr>\n",
       "  </thead>\n",
       "  <tbody>\n",
       "    <tr>\n",
       "      <th>event_type</th>\n",
       "      <td>898443</td>\n",
       "      <td>742773</td>\n",
       "      <td>40772341</td>\n",
       "      <td>0.018218</td>\n",
       "    </tr>\n",
       "  </tbody>\n",
       "</table>\n",
       "</div>"
      ],
      "text/plain": [
       "event_type    cart  purchase      view  conversion_rate\n",
       "event_type  898443    742773  40772341         0.018218"
      ]
     },
     "execution_count": 82,
     "metadata": {},
     "output_type": "execute_result"
    }
   ],
   "source": [
    "# 各行为计数\n",
    "behavior_info = data.groupby('event_type').agg({'event_type': 'count'}).unstack().unstack()\n",
    "behavior_info['conversion_rate'] = behavior_info['purchase'] / behavior_info['view']\n",
    "behavior_info"
   ]
  },
  {
   "cell_type": "markdown",
   "metadata": {},
   "source": [
    "### 分日 "
   ]
  },
  {
   "cell_type": "code",
   "execution_count": 5,
   "metadata": {},
   "outputs": [
    {
     "data": {
      "text/html": [
       "<div>\n",
       "<style scoped>\n",
       "    .dataframe tbody tr th:only-of-type {\n",
       "        vertical-align: middle;\n",
       "    }\n",
       "\n",
       "    .dataframe tbody tr th {\n",
       "        vertical-align: top;\n",
       "    }\n",
       "\n",
       "    .dataframe thead th {\n",
       "        text-align: right;\n",
       "    }\n",
       "</style>\n",
       "<table border=\"1\" class=\"dataframe\">\n",
       "  <thead>\n",
       "    <tr style=\"text-align: right;\">\n",
       "      <th></th>\n",
       "      <th>cart</th>\n",
       "      <th>purchase</th>\n",
       "      <th>view</th>\n",
       "      <th>conversion_rate</th>\n",
       "    </tr>\n",
       "    <tr>\n",
       "      <th>event_day</th>\n",
       "      <th></th>\n",
       "      <th></th>\n",
       "      <th></th>\n",
       "      <th></th>\n",
       "    </tr>\n",
       "  </thead>\n",
       "  <tbody>\n",
       "    <tr>\n",
       "      <th>2019-10-01</th>\n",
       "      <td>16193</td>\n",
       "      <td>19305</td>\n",
       "      <td>1208165</td>\n",
       "      <td>1.59%</td>\n",
       "    </tr>\n",
       "    <tr>\n",
       "      <th>2019-10-02</th>\n",
       "      <td>16871</td>\n",
       "      <td>19469</td>\n",
       "      <td>1154436</td>\n",
       "      <td>1.68%</td>\n",
       "    </tr>\n",
       "    <tr>\n",
       "      <th>2019-10-03</th>\n",
       "      <td>18702</td>\n",
       "      <td>19255</td>\n",
       "      <td>1088577</td>\n",
       "      <td>1.76%</td>\n",
       "    </tr>\n",
       "    <tr>\n",
       "      <th>2019-10-04</th>\n",
       "      <td>42657</td>\n",
       "      <td>27039</td>\n",
       "      <td>1346162</td>\n",
       "      <td>2.00%</td>\n",
       "    </tr>\n",
       "    <tr>\n",
       "      <th>2019-10-05</th>\n",
       "      <td>34564</td>\n",
       "      <td>23492</td>\n",
       "      <td>1271176</td>\n",
       "      <td>1.84%</td>\n",
       "    </tr>\n",
       "    <tr>\n",
       "      <th>2019-10-06</th>\n",
       "      <td>30995</td>\n",
       "      <td>22169</td>\n",
       "      <td>1263876</td>\n",
       "      <td>1.75%</td>\n",
       "    </tr>\n",
       "    <tr>\n",
       "      <th>2019-10-07</th>\n",
       "      <td>17570</td>\n",
       "      <td>21378</td>\n",
       "      <td>1160929</td>\n",
       "      <td>1.84%</td>\n",
       "    </tr>\n",
       "    <tr>\n",
       "      <th>2019-10-08</th>\n",
       "      <td>17952</td>\n",
       "      <td>23071</td>\n",
       "      <td>1328893</td>\n",
       "      <td>1.73%</td>\n",
       "    </tr>\n",
       "    <tr>\n",
       "      <th>2019-10-09</th>\n",
       "      <td>17886</td>\n",
       "      <td>22747</td>\n",
       "      <td>1306089</td>\n",
       "      <td>1.74%</td>\n",
       "    </tr>\n",
       "    <tr>\n",
       "      <th>2019-10-10</th>\n",
       "      <td>18336</td>\n",
       "      <td>21992</td>\n",
       "      <td>1242891</td>\n",
       "      <td>1.76%</td>\n",
       "    </tr>\n",
       "    <tr>\n",
       "      <th>2019-10-11</th>\n",
       "      <td>20733</td>\n",
       "      <td>26224</td>\n",
       "      <td>1447502</td>\n",
       "      <td>1.81%</td>\n",
       "    </tr>\n",
       "    <tr>\n",
       "      <th>2019-10-12</th>\n",
       "      <td>19998</td>\n",
       "      <td>25373</td>\n",
       "      <td>1433723</td>\n",
       "      <td>1.76%</td>\n",
       "    </tr>\n",
       "    <tr>\n",
       "      <th>2019-10-13</th>\n",
       "      <td>24124</td>\n",
       "      <td>29561</td>\n",
       "      <td>1584488</td>\n",
       "      <td>1.86%</td>\n",
       "    </tr>\n",
       "    <tr>\n",
       "      <th>2019-10-14</th>\n",
       "      <td>43591</td>\n",
       "      <td>28405</td>\n",
       "      <td>1381286</td>\n",
       "      <td>2.05%</td>\n",
       "    </tr>\n",
       "    <tr>\n",
       "      <th>2019-10-15</th>\n",
       "      <td>48066</td>\n",
       "      <td>26371</td>\n",
       "      <td>1466116</td>\n",
       "      <td>1.79%</td>\n",
       "    </tr>\n",
       "    <tr>\n",
       "      <th>2019-10-16</th>\n",
       "      <td>43936</td>\n",
       "      <td>31393</td>\n",
       "      <td>1445559</td>\n",
       "      <td>2.17%</td>\n",
       "    </tr>\n",
       "    <tr>\n",
       "      <th>2019-10-17</th>\n",
       "      <td>39281</td>\n",
       "      <td>28317</td>\n",
       "      <td>1338173</td>\n",
       "      <td>2.11%</td>\n",
       "    </tr>\n",
       "    <tr>\n",
       "      <th>2019-10-18</th>\n",
       "      <td>38879</td>\n",
       "      <td>25849</td>\n",
       "      <td>1415597</td>\n",
       "      <td>1.82%</td>\n",
       "    </tr>\n",
       "    <tr>\n",
       "      <th>2019-10-19</th>\n",
       "      <td>38285</td>\n",
       "      <td>24657</td>\n",
       "      <td>1384908</td>\n",
       "      <td>1.78%</td>\n",
       "    </tr>\n",
       "    <tr>\n",
       "      <th>2019-10-20</th>\n",
       "      <td>39375</td>\n",
       "      <td>25097</td>\n",
       "      <td>1443869</td>\n",
       "      <td>1.73%</td>\n",
       "    </tr>\n",
       "    <tr>\n",
       "      <th>2019-10-21</th>\n",
       "      <td>35485</td>\n",
       "      <td>25165</td>\n",
       "      <td>1343132</td>\n",
       "      <td>1.87%</td>\n",
       "    </tr>\n",
       "    <tr>\n",
       "      <th>2019-10-22</th>\n",
       "      <td>36027</td>\n",
       "      <td>25383</td>\n",
       "      <td>1354156</td>\n",
       "      <td>1.87%</td>\n",
       "    </tr>\n",
       "    <tr>\n",
       "      <th>2019-10-23</th>\n",
       "      <td>35372</td>\n",
       "      <td>24730</td>\n",
       "      <td>1319648</td>\n",
       "      <td>1.87%</td>\n",
       "    </tr>\n",
       "    <tr>\n",
       "      <th>2019-10-24</th>\n",
       "      <td>34592</td>\n",
       "      <td>23999</td>\n",
       "      <td>1256473</td>\n",
       "      <td>1.91%</td>\n",
       "    </tr>\n",
       "    <tr>\n",
       "      <th>2019-10-25</th>\n",
       "      <td>35551</td>\n",
       "      <td>23883</td>\n",
       "      <td>1374227</td>\n",
       "      <td>1.73%</td>\n",
       "    </tr>\n",
       "    <tr>\n",
       "      <th>2019-10-26</th>\n",
       "      <td>33722</td>\n",
       "      <td>22653</td>\n",
       "      <td>1289569</td>\n",
       "      <td>1.75%</td>\n",
       "    </tr>\n",
       "    <tr>\n",
       "      <th>2019-10-27</th>\n",
       "      <td>33147</td>\n",
       "      <td>23401</td>\n",
       "      <td>1330652</td>\n",
       "      <td>1.75%</td>\n",
       "    </tr>\n",
       "    <tr>\n",
       "      <th>2019-10-28</th>\n",
       "      <td>17193</td>\n",
       "      <td>21111</td>\n",
       "      <td>1221695</td>\n",
       "      <td>1.72%</td>\n",
       "    </tr>\n",
       "    <tr>\n",
       "      <th>2019-10-29</th>\n",
       "      <td>16597</td>\n",
       "      <td>20372</td>\n",
       "      <td>1189864</td>\n",
       "      <td>1.71%</td>\n",
       "    </tr>\n",
       "    <tr>\n",
       "      <th>2019-10-30</th>\n",
       "      <td>16458</td>\n",
       "      <td>20815</td>\n",
       "      <td>1172126</td>\n",
       "      <td>1.77%</td>\n",
       "    </tr>\n",
       "    <tr>\n",
       "      <th>2019-10-31</th>\n",
       "      <td>16305</td>\n",
       "      <td>20097</td>\n",
       "      <td>1208384</td>\n",
       "      <td>1.66%</td>\n",
       "    </tr>\n",
       "  </tbody>\n",
       "</table>\n",
       "</div>"
      ],
      "text/plain": [
       "             cart  purchase     view conversion_rate\n",
       "event_day                                           \n",
       "2019-10-01  16193     19305  1208165           1.59%\n",
       "2019-10-02  16871     19469  1154436           1.68%\n",
       "2019-10-03  18702     19255  1088577           1.76%\n",
       "2019-10-04  42657     27039  1346162           2.00%\n",
       "2019-10-05  34564     23492  1271176           1.84%\n",
       "2019-10-06  30995     22169  1263876           1.75%\n",
       "2019-10-07  17570     21378  1160929           1.84%\n",
       "2019-10-08  17952     23071  1328893           1.73%\n",
       "2019-10-09  17886     22747  1306089           1.74%\n",
       "2019-10-10  18336     21992  1242891           1.76%\n",
       "2019-10-11  20733     26224  1447502           1.81%\n",
       "2019-10-12  19998     25373  1433723           1.76%\n",
       "2019-10-13  24124     29561  1584488           1.86%\n",
       "2019-10-14  43591     28405  1381286           2.05%\n",
       "2019-10-15  48066     26371  1466116           1.79%\n",
       "2019-10-16  43936     31393  1445559           2.17%\n",
       "2019-10-17  39281     28317  1338173           2.11%\n",
       "2019-10-18  38879     25849  1415597           1.82%\n",
       "2019-10-19  38285     24657  1384908           1.78%\n",
       "2019-10-20  39375     25097  1443869           1.73%\n",
       "2019-10-21  35485     25165  1343132           1.87%\n",
       "2019-10-22  36027     25383  1354156           1.87%\n",
       "2019-10-23  35372     24730  1319648           1.87%\n",
       "2019-10-24  34592     23999  1256473           1.91%\n",
       "2019-10-25  35551     23883  1374227           1.73%\n",
       "2019-10-26  33722     22653  1289569           1.75%\n",
       "2019-10-27  33147     23401  1330652           1.75%\n",
       "2019-10-28  17193     21111  1221695           1.72%\n",
       "2019-10-29  16597     20372  1189864           1.71%\n",
       "2019-10-30  16458     20815  1172126           1.77%\n",
       "2019-10-31  16305     20097  1208384           1.66%"
      ]
     },
     "execution_count": 5,
     "metadata": {},
     "output_type": "execute_result"
    }
   ],
   "source": [
    "behavior_info_byday = data.groupby(['event_day', 'event_type']).agg({'event_type': 'count'}).unstack()\n",
    "behavior_info_byday.columns = ['cart','purchase','view']\n",
    "behavior_info_byday['conversion_rate'] = (behavior_info_byday['purchase'] / behavior_info_byday['view']*100).astype(str).apply(lambda x: x[:4]) + '%'\n",
    "behavior_info_byday"
   ]
  },
  {
   "cell_type": "markdown",
   "metadata": {},
   "source": [
    "### 分时"
   ]
  },
  {
   "cell_type": "code",
   "execution_count": 6,
   "metadata": {},
   "outputs": [
    {
     "data": {
      "text/html": [
       "<div>\n",
       "<style scoped>\n",
       "    .dataframe tbody tr th:only-of-type {\n",
       "        vertical-align: middle;\n",
       "    }\n",
       "\n",
       "    .dataframe tbody tr th {\n",
       "        vertical-align: top;\n",
       "    }\n",
       "\n",
       "    .dataframe thead th {\n",
       "        text-align: right;\n",
       "    }\n",
       "</style>\n",
       "<table border=\"1\" class=\"dataframe\">\n",
       "  <thead>\n",
       "    <tr style=\"text-align: right;\">\n",
       "      <th></th>\n",
       "      <th>cart</th>\n",
       "      <th>purchase</th>\n",
       "      <th>view</th>\n",
       "      <th>conversion_rate</th>\n",
       "    </tr>\n",
       "    <tr>\n",
       "      <th>event_hour</th>\n",
       "      <th></th>\n",
       "      <th></th>\n",
       "      <th></th>\n",
       "      <th></th>\n",
       "    </tr>\n",
       "  </thead>\n",
       "  <tbody>\n",
       "    <tr>\n",
       "      <th>0</th>\n",
       "      <td>3869</td>\n",
       "      <td>2949</td>\n",
       "      <td>299740</td>\n",
       "      <td>0.98%</td>\n",
       "    </tr>\n",
       "    <tr>\n",
       "      <th>1</th>\n",
       "      <td>7525</td>\n",
       "      <td>5526</td>\n",
       "      <td>545513</td>\n",
       "      <td>1.01%</td>\n",
       "    </tr>\n",
       "    <tr>\n",
       "      <th>2</th>\n",
       "      <td>17279</td>\n",
       "      <td>13968</td>\n",
       "      <td>1036894</td>\n",
       "      <td>1.34%</td>\n",
       "    </tr>\n",
       "    <tr>\n",
       "      <th>3</th>\n",
       "      <td>33642</td>\n",
       "      <td>29632</td>\n",
       "      <td>1485498</td>\n",
       "      <td>1.99%</td>\n",
       "    </tr>\n",
       "    <tr>\n",
       "      <th>4</th>\n",
       "      <td>46636</td>\n",
       "      <td>41143</td>\n",
       "      <td>1826073</td>\n",
       "      <td>2.25%</td>\n",
       "    </tr>\n",
       "    <tr>\n",
       "      <th>5</th>\n",
       "      <td>55476</td>\n",
       "      <td>48068</td>\n",
       "      <td>2020202</td>\n",
       "      <td>2.37%</td>\n",
       "    </tr>\n",
       "    <tr>\n",
       "      <th>6</th>\n",
       "      <td>60607</td>\n",
       "      <td>52002</td>\n",
       "      <td>2154159</td>\n",
       "      <td>2.41%</td>\n",
       "    </tr>\n",
       "    <tr>\n",
       "      <th>7</th>\n",
       "      <td>62460</td>\n",
       "      <td>53404</td>\n",
       "      <td>2217399</td>\n",
       "      <td>2.40%</td>\n",
       "    </tr>\n",
       "    <tr>\n",
       "      <th>8</th>\n",
       "      <td>65016</td>\n",
       "      <td>55195</td>\n",
       "      <td>2267568</td>\n",
       "      <td>2.43%</td>\n",
       "    </tr>\n",
       "    <tr>\n",
       "      <th>9</th>\n",
       "      <td>65031</td>\n",
       "      <td>55182</td>\n",
       "      <td>2228945</td>\n",
       "      <td>2.47%</td>\n",
       "    </tr>\n",
       "    <tr>\n",
       "      <th>10</th>\n",
       "      <td>61901</td>\n",
       "      <td>51902</td>\n",
       "      <td>2181257</td>\n",
       "      <td>2.37%</td>\n",
       "    </tr>\n",
       "    <tr>\n",
       "      <th>11</th>\n",
       "      <td>57999</td>\n",
       "      <td>47311</td>\n",
       "      <td>2086570</td>\n",
       "      <td>2.26%</td>\n",
       "    </tr>\n",
       "    <tr>\n",
       "      <th>12</th>\n",
       "      <td>53231</td>\n",
       "      <td>41840</td>\n",
       "      <td>2040518</td>\n",
       "      <td>2.05%</td>\n",
       "    </tr>\n",
       "    <tr>\n",
       "      <th>13</th>\n",
       "      <td>50666</td>\n",
       "      <td>39135</td>\n",
       "      <td>2263309</td>\n",
       "      <td>1.72%</td>\n",
       "    </tr>\n",
       "    <tr>\n",
       "      <th>14</th>\n",
       "      <td>48898</td>\n",
       "      <td>37363</td>\n",
       "      <td>2590043</td>\n",
       "      <td>1.44%</td>\n",
       "    </tr>\n",
       "    <tr>\n",
       "      <th>15</th>\n",
       "      <td>48949</td>\n",
       "      <td>37632</td>\n",
       "      <td>2892301</td>\n",
       "      <td>1.30%</td>\n",
       "    </tr>\n",
       "    <tr>\n",
       "      <th>16</th>\n",
       "      <td>45482</td>\n",
       "      <td>35772</td>\n",
       "      <td>2971773</td>\n",
       "      <td>1.20%</td>\n",
       "    </tr>\n",
       "    <tr>\n",
       "      <th>17</th>\n",
       "      <td>38329</td>\n",
       "      <td>30872</td>\n",
       "      <td>2663078</td>\n",
       "      <td>1.15%</td>\n",
       "    </tr>\n",
       "    <tr>\n",
       "      <th>18</th>\n",
       "      <td>30085</td>\n",
       "      <td>24321</td>\n",
       "      <td>2069058</td>\n",
       "      <td>1.17%</td>\n",
       "    </tr>\n",
       "    <tr>\n",
       "      <th>19</th>\n",
       "      <td>19712</td>\n",
       "      <td>16747</td>\n",
       "      <td>1303958</td>\n",
       "      <td>1.28%</td>\n",
       "    </tr>\n",
       "    <tr>\n",
       "      <th>20</th>\n",
       "      <td>11330</td>\n",
       "      <td>9892</td>\n",
       "      <td>722698</td>\n",
       "      <td>1.36%</td>\n",
       "    </tr>\n",
       "    <tr>\n",
       "      <th>21</th>\n",
       "      <td>6840</td>\n",
       "      <td>6278</td>\n",
       "      <td>425065</td>\n",
       "      <td>1.47%</td>\n",
       "    </tr>\n",
       "    <tr>\n",
       "      <th>22</th>\n",
       "      <td>4325</td>\n",
       "      <td>3837</td>\n",
       "      <td>264757</td>\n",
       "      <td>1.44%</td>\n",
       "    </tr>\n",
       "    <tr>\n",
       "      <th>23</th>\n",
       "      <td>3155</td>\n",
       "      <td>2802</td>\n",
       "      <td>215965</td>\n",
       "      <td>1.29%</td>\n",
       "    </tr>\n",
       "  </tbody>\n",
       "</table>\n",
       "</div>"
      ],
      "text/plain": [
       "             cart  purchase     view conversion_rate\n",
       "event_hour                                          \n",
       "0            3869      2949   299740           0.98%\n",
       "1            7525      5526   545513           1.01%\n",
       "2           17279     13968  1036894           1.34%\n",
       "3           33642     29632  1485498           1.99%\n",
       "4           46636     41143  1826073           2.25%\n",
       "5           55476     48068  2020202           2.37%\n",
       "6           60607     52002  2154159           2.41%\n",
       "7           62460     53404  2217399           2.40%\n",
       "8           65016     55195  2267568           2.43%\n",
       "9           65031     55182  2228945           2.47%\n",
       "10          61901     51902  2181257           2.37%\n",
       "11          57999     47311  2086570           2.26%\n",
       "12          53231     41840  2040518           2.05%\n",
       "13          50666     39135  2263309           1.72%\n",
       "14          48898     37363  2590043           1.44%\n",
       "15          48949     37632  2892301           1.30%\n",
       "16          45482     35772  2971773           1.20%\n",
       "17          38329     30872  2663078           1.15%\n",
       "18          30085     24321  2069058           1.17%\n",
       "19          19712     16747  1303958           1.28%\n",
       "20          11330      9892   722698           1.36%\n",
       "21           6840      6278   425065           1.47%\n",
       "22           4325      3837   264757           1.44%\n",
       "23           3155      2802   215965           1.29%"
      ]
     },
     "execution_count": 6,
     "metadata": {},
     "output_type": "execute_result"
    }
   ],
   "source": [
    "behavior_info_byhour = data.groupby(['event_hour', 'event_type']).agg({'event_type': 'count'}).unstack()\n",
    "behavior_info_byhour.columns = ['cart','purchase','view']\n",
    "behavior_info_byhour['conversion_rate'] = (behavior_info_byhour['purchase'] / behavior_info_byhour['view']*100).astype(str).apply(lambda x: x[:4]) + '%'\n",
    "behavior_info_byhour"
   ]
  },
  {
   "cell_type": "markdown",
   "metadata": {},
   "source": [
    "### 分品牌"
   ]
  },
  {
   "cell_type": "code",
   "execution_count": 21,
   "metadata": {},
   "outputs": [
    {
     "data": {
      "text/html": [
       "<div>\n",
       "<style scoped>\n",
       "    .dataframe tbody tr th:only-of-type {\n",
       "        vertical-align: middle;\n",
       "    }\n",
       "\n",
       "    .dataframe tbody tr th {\n",
       "        vertical-align: top;\n",
       "    }\n",
       "\n",
       "    .dataframe thead th {\n",
       "        text-align: right;\n",
       "    }\n",
       "</style>\n",
       "<table border=\"1\" class=\"dataframe\">\n",
       "  <thead>\n",
       "    <tr style=\"text-align: right;\">\n",
       "      <th></th>\n",
       "      <th>cart</th>\n",
       "      <th>purchase</th>\n",
       "      <th>view</th>\n",
       "      <th>conversion_rate</th>\n",
       "    </tr>\n",
       "    <tr>\n",
       "      <th>brand</th>\n",
       "      <th></th>\n",
       "      <th></th>\n",
       "      <th></th>\n",
       "      <th></th>\n",
       "    </tr>\n",
       "  </thead>\n",
       "  <tbody>\n",
       "    <tr>\n",
       "      <th>faans</th>\n",
       "      <td>0</td>\n",
       "      <td>2</td>\n",
       "      <td>22</td>\n",
       "      <td>9.09%</td>\n",
       "    </tr>\n",
       "    <tr>\n",
       "      <th>alumet</th>\n",
       "      <td>0</td>\n",
       "      <td>1</td>\n",
       "      <td>11</td>\n",
       "      <td>9.09%</td>\n",
       "    </tr>\n",
       "    <tr>\n",
       "      <th>rimmel</th>\n",
       "      <td>0</td>\n",
       "      <td>1</td>\n",
       "      <td>11</td>\n",
       "      <td>9.09%</td>\n",
       "    </tr>\n",
       "    <tr>\n",
       "      <th>crusader</th>\n",
       "      <td>0</td>\n",
       "      <td>1</td>\n",
       "      <td>11</td>\n",
       "      <td>9.09%</td>\n",
       "    </tr>\n",
       "    <tr>\n",
       "      <th>unikum</th>\n",
       "      <td>0</td>\n",
       "      <td>3</td>\n",
       "      <td>36</td>\n",
       "      <td>8.33%</td>\n",
       "    </tr>\n",
       "    <tr>\n",
       "      <th>...</th>\n",
       "      <td>...</td>\n",
       "      <td>...</td>\n",
       "      <td>...</td>\n",
       "      <td>...</td>\n",
       "    </tr>\n",
       "    <tr>\n",
       "      <th>dometic</th>\n",
       "      <td>0</td>\n",
       "      <td>3</td>\n",
       "      <td>7954</td>\n",
       "      <td>0.03%</td>\n",
       "    </tr>\n",
       "    <tr>\n",
       "      <th>betsy</th>\n",
       "      <td>0</td>\n",
       "      <td>1</td>\n",
       "      <td>2815</td>\n",
       "      <td>0.03%</td>\n",
       "    </tr>\n",
       "    <tr>\n",
       "      <th>agl</th>\n",
       "      <td>0</td>\n",
       "      <td>2</td>\n",
       "      <td>7026</td>\n",
       "      <td>0.02%</td>\n",
       "    </tr>\n",
       "    <tr>\n",
       "      <th>ezetil</th>\n",
       "      <td>0</td>\n",
       "      <td>1</td>\n",
       "      <td>4353</td>\n",
       "      <td>0.02%</td>\n",
       "    </tr>\n",
       "    <tr>\n",
       "      <th>weekend</th>\n",
       "      <td>0</td>\n",
       "      <td>2</td>\n",
       "      <td>11241</td>\n",
       "      <td>0.01%</td>\n",
       "    </tr>\n",
       "  </tbody>\n",
       "</table>\n",
       "<p>1983 rows × 4 columns</p>\n",
       "</div>"
      ],
      "text/plain": [
       "          cart  purchase   view conversion_rate\n",
       "brand                                          \n",
       "faans        0         2     22           9.09%\n",
       "alumet       0         1     11           9.09%\n",
       "rimmel       0         1     11           9.09%\n",
       "crusader     0         1     11           9.09%\n",
       "unikum       0         3     36           8.33%\n",
       "...        ...       ...    ...             ...\n",
       "dometic      0         3   7954           0.03%\n",
       "betsy        0         1   2815           0.03%\n",
       "agl          0         2   7026           0.02%\n",
       "ezetil       0         1   4353           0.02%\n",
       "weekend      0         2  11241           0.01%\n",
       "\n",
       "[1983 rows x 4 columns]"
      ]
     },
     "execution_count": 21,
     "metadata": {},
     "output_type": "execute_result"
    }
   ],
   "source": [
    "behavior_info_bybrand = data.groupby(['brand', 'event_type']).agg({'event_type': 'count'}).unstack()\n",
    "behavior_info_bybrand.columns = ['cart','purchase','view']\n",
    "behavior_info_bybrand['conversion_rate'] = (behavior_info_bybrand['purchase'] / behavior_info_bybrand['view']*100).astype(str).apply(lambda x: x[:4]) + '%'\n",
    "behavior_info_bybrand.query('purchase > 0').sort_values(by='conversion_rate', ascending=False)"
   ]
  },
  {
   "cell_type": "markdown",
   "metadata": {},
   "source": [
    "### 分类别"
   ]
  },
  {
   "cell_type": "code",
   "execution_count": 16,
   "metadata": {},
   "outputs": [
    {
     "data": {
      "text/html": [
       "<div>\n",
       "<style scoped>\n",
       "    .dataframe tbody tr th:only-of-type {\n",
       "        vertical-align: middle;\n",
       "    }\n",
       "\n",
       "    .dataframe tbody tr th {\n",
       "        vertical-align: top;\n",
       "    }\n",
       "\n",
       "    .dataframe thead th {\n",
       "        text-align: right;\n",
       "    }\n",
       "</style>\n",
       "<table border=\"1\" class=\"dataframe\">\n",
       "  <thead>\n",
       "    <tr style=\"text-align: right;\">\n",
       "      <th></th>\n",
       "      <th>cart</th>\n",
       "      <th>purchase</th>\n",
       "      <th>view</th>\n",
       "      <th>conversion_rate</th>\n",
       "    </tr>\n",
       "    <tr>\n",
       "      <th>category</th>\n",
       "      <th></th>\n",
       "      <th></th>\n",
       "      <th></th>\n",
       "      <th></th>\n",
       "    </tr>\n",
       "  </thead>\n",
       "  <tbody>\n",
       "    <tr>\n",
       "      <th>electronics</th>\n",
       "      <td>653158</td>\n",
       "      <td>422979</td>\n",
       "      <td>15035552</td>\n",
       "      <td>2.81%</td>\n",
       "    </tr>\n",
       "    <tr>\n",
       "      <th>medicine</th>\n",
       "      <td>514</td>\n",
       "      <td>310</td>\n",
       "      <td>13974</td>\n",
       "      <td>2.21%</td>\n",
       "    </tr>\n",
       "    <tr>\n",
       "      <th>stationery</th>\n",
       "      <td>106</td>\n",
       "      <td>134</td>\n",
       "      <td>7380</td>\n",
       "      <td>1.81%</td>\n",
       "    </tr>\n",
       "    <tr>\n",
       "      <th>appliances</th>\n",
       "      <td>89371</td>\n",
       "      <td>74988</td>\n",
       "      <td>4799522</td>\n",
       "      <td>1.56%</td>\n",
       "    </tr>\n",
       "    <tr>\n",
       "      <th>computers</th>\n",
       "      <td>26821</td>\n",
       "      <td>27853</td>\n",
       "      <td>2268655</td>\n",
       "      <td>1.22%</td>\n",
       "    </tr>\n",
       "    <tr>\n",
       "      <th>construction</th>\n",
       "      <td>10081</td>\n",
       "      <td>7801</td>\n",
       "      <td>712635</td>\n",
       "      <td>1.09%</td>\n",
       "    </tr>\n",
       "    <tr>\n",
       "      <th>kids</th>\n",
       "      <td>2534</td>\n",
       "      <td>5482</td>\n",
       "      <td>512260</td>\n",
       "      <td>1.07%</td>\n",
       "    </tr>\n",
       "    <tr>\n",
       "      <th>auto</th>\n",
       "      <td>8916</td>\n",
       "      <td>10619</td>\n",
       "      <td>993338</td>\n",
       "      <td>1.06%</td>\n",
       "    </tr>\n",
       "    <tr>\n",
       "      <th>sport</th>\n",
       "      <td>1015</td>\n",
       "      <td>1236</td>\n",
       "      <td>174292</td>\n",
       "      <td>0.70%</td>\n",
       "    </tr>\n",
       "    <tr>\n",
       "      <th>accessories</th>\n",
       "      <td>537</td>\n",
       "      <td>1587</td>\n",
       "      <td>236098</td>\n",
       "      <td>0.67%</td>\n",
       "    </tr>\n",
       "    <tr>\n",
       "      <th>furniture</th>\n",
       "      <td>2331</td>\n",
       "      <td>8299</td>\n",
       "      <td>1236357</td>\n",
       "      <td>0.67%</td>\n",
       "    </tr>\n",
       "    <tr>\n",
       "      <th>apparel</th>\n",
       "      <td>26</td>\n",
       "      <td>8002</td>\n",
       "      <td>1534827</td>\n",
       "      <td>0.52%</td>\n",
       "    </tr>\n",
       "    <tr>\n",
       "      <th>country_yard</th>\n",
       "      <td>53</td>\n",
       "      <td>72</td>\n",
       "      <td>13955</td>\n",
       "      <td>0.51%</td>\n",
       "    </tr>\n",
       "  </tbody>\n",
       "</table>\n",
       "</div>"
      ],
      "text/plain": [
       "                cart  purchase      view conversion_rate\n",
       "category                                                \n",
       "electronics   653158    422979  15035552           2.81%\n",
       "medicine         514       310     13974           2.21%\n",
       "stationery       106       134      7380           1.81%\n",
       "appliances     89371     74988   4799522           1.56%\n",
       "computers      26821     27853   2268655           1.22%\n",
       "construction   10081      7801    712635           1.09%\n",
       "kids            2534      5482    512260           1.07%\n",
       "auto            8916     10619    993338           1.06%\n",
       "sport           1015      1236    174292           0.70%\n",
       "accessories      537      1587    236098           0.67%\n",
       "furniture       2331      8299   1236357           0.67%\n",
       "apparel           26      8002   1534827           0.52%\n",
       "country_yard      53        72     13955           0.51%"
      ]
     },
     "execution_count": 16,
     "metadata": {},
     "output_type": "execute_result"
    }
   ],
   "source": [
    "behavior_info_bycategory = data.groupby(['category', 'event_type']).agg({'event_type': 'count'}).unstack()\n",
    "behavior_info_bycategory.columns = ['cart','purchase','view']\n",
    "behavior_info_bycategory['conversion_rate'] = (behavior_info_bycategory['purchase'] / behavior_info_bycategory['view']*100).astype(str).apply(lambda x: x[:4]) + '%'\n",
    "behavior_info_bycategory.query('purchase > 0').sort_values(by='conversion_rate', ascending=False)"
   ]
  },
  {
   "cell_type": "markdown",
   "metadata": {},
   "source": [
    "### 分小类"
   ]
  },
  {
   "cell_type": "code",
   "execution_count": 18,
   "metadata": {},
   "outputs": [
    {
     "data": {
      "text/html": [
       "<div>\n",
       "<style scoped>\n",
       "    .dataframe tbody tr th:only-of-type {\n",
       "        vertical-align: middle;\n",
       "    }\n",
       "\n",
       "    .dataframe tbody tr th {\n",
       "        vertical-align: top;\n",
       "    }\n",
       "\n",
       "    .dataframe thead th {\n",
       "        text-align: right;\n",
       "    }\n",
       "</style>\n",
       "<table border=\"1\" class=\"dataframe\">\n",
       "  <thead>\n",
       "    <tr style=\"text-align: right;\">\n",
       "      <th></th>\n",
       "      <th></th>\n",
       "      <th>cart</th>\n",
       "      <th>purchase</th>\n",
       "      <th>view</th>\n",
       "      <th>conversion_rate</th>\n",
       "    </tr>\n",
       "    <tr>\n",
       "      <th>category</th>\n",
       "      <th>sub_category</th>\n",
       "      <th></th>\n",
       "      <th></th>\n",
       "      <th></th>\n",
       "      <th></th>\n",
       "    </tr>\n",
       "  </thead>\n",
       "  <tbody>\n",
       "    <tr>\n",
       "      <th>electronics</th>\n",
       "      <th>smartphone</th>\n",
       "      <td>532007.0</td>\n",
       "      <td>337979.0</td>\n",
       "      <td>10617327.0</td>\n",
       "      <td>3.18%</td>\n",
       "    </tr>\n",
       "    <tr>\n",
       "      <th>kids</th>\n",
       "      <th>fmcg</th>\n",
       "      <td>98.0</td>\n",
       "      <td>768.0</td>\n",
       "      <td>24199.0</td>\n",
       "      <td>3.17%</td>\n",
       "    </tr>\n",
       "    <tr>\n",
       "      <th>electronics</th>\n",
       "      <th>audio</th>\n",
       "      <td>51393.0</td>\n",
       "      <td>35590.0</td>\n",
       "      <td>1486132.0</td>\n",
       "      <td>2.39%</td>\n",
       "    </tr>\n",
       "    <tr>\n",
       "      <th>appliances</th>\n",
       "      <th>iron</th>\n",
       "      <td>3967.0</td>\n",
       "      <td>3652.0</td>\n",
       "      <td>157630.0</td>\n",
       "      <td>2.31%</td>\n",
       "    </tr>\n",
       "    <tr>\n",
       "      <th>medicine</th>\n",
       "      <th>tools</th>\n",
       "      <td>514.0</td>\n",
       "      <td>310.0</td>\n",
       "      <td>13974.0</td>\n",
       "      <td>2.21%</td>\n",
       "    </tr>\n",
       "    <tr>\n",
       "      <th>electronics</th>\n",
       "      <th>video</th>\n",
       "      <td>35174.0</td>\n",
       "      <td>21643.0</td>\n",
       "      <td>1068782.0</td>\n",
       "      <td>2.02%</td>\n",
       "    </tr>\n",
       "    <tr>\n",
       "      <th>appliances</th>\n",
       "      <th>ironing_board</th>\n",
       "      <td>350.0</td>\n",
       "      <td>664.0</td>\n",
       "      <td>34264.0</td>\n",
       "      <td>1.93%</td>\n",
       "    </tr>\n",
       "    <tr>\n",
       "      <th>electronics</th>\n",
       "      <th>tablet</th>\n",
       "      <td>8809.0</td>\n",
       "      <td>5602.0</td>\n",
       "      <td>301953.0</td>\n",
       "      <td>1.85%</td>\n",
       "    </tr>\n",
       "    <tr>\n",
       "      <th>stationery</th>\n",
       "      <th>cartrige</th>\n",
       "      <td>106.0</td>\n",
       "      <td>134.0</td>\n",
       "      <td>7380.0</td>\n",
       "      <td>1.81%</td>\n",
       "    </tr>\n",
       "    <tr>\n",
       "      <th rowspan=\"2\" valign=\"top\">appliances</th>\n",
       "      <th>personal</th>\n",
       "      <td>2679.0</td>\n",
       "      <td>2541.0</td>\n",
       "      <td>144420.0</td>\n",
       "      <td>1.75%</td>\n",
       "    </tr>\n",
       "    <tr>\n",
       "      <th>environment</th>\n",
       "      <td>23768.0</td>\n",
       "      <td>18073.0</td>\n",
       "      <td>1104943.0</td>\n",
       "      <td>1.63%</td>\n",
       "    </tr>\n",
       "    <tr>\n",
       "      <th>electronics</th>\n",
       "      <th>telephone</th>\n",
       "      <td>5261.0</td>\n",
       "      <td>3738.0</td>\n",
       "      <td>238541.0</td>\n",
       "      <td>1.56%</td>\n",
       "    </tr>\n",
       "    <tr>\n",
       "      <th>appliances</th>\n",
       "      <th>kitchen</th>\n",
       "      <td>56383.0</td>\n",
       "      <td>48119.0</td>\n",
       "      <td>3210271.0</td>\n",
       "      <td>1.49%</td>\n",
       "    </tr>\n",
       "    <tr>\n",
       "      <th>electronics</th>\n",
       "      <th>clocks</th>\n",
       "      <td>19961.0</td>\n",
       "      <td>17903.0</td>\n",
       "      <td>1272495.0</td>\n",
       "      <td>1.40%</td>\n",
       "    </tr>\n",
       "    <tr>\n",
       "      <th rowspan=\"2\" valign=\"top\">computers</th>\n",
       "      <th>notebook</th>\n",
       "      <td>15220.0</td>\n",
       "      <td>15588.0</td>\n",
       "      <td>1106254.0</td>\n",
       "      <td>1.40%</td>\n",
       "    </tr>\n",
       "    <tr>\n",
       "      <th>peripherals</th>\n",
       "      <td>5961.0</td>\n",
       "      <td>5225.0</td>\n",
       "      <td>377057.0</td>\n",
       "      <td>1.38%</td>\n",
       "    </tr>\n",
       "    <tr>\n",
       "      <th>appliances</th>\n",
       "      <th>sewing_machine</th>\n",
       "      <td>2224.0</td>\n",
       "      <td>1939.0</td>\n",
       "      <td>147994.0</td>\n",
       "      <td>1.31%</td>\n",
       "    </tr>\n",
       "    <tr>\n",
       "      <th rowspan=\"2\" valign=\"top\">construction</th>\n",
       "      <th>components</th>\n",
       "      <td>45.0</td>\n",
       "      <td>297.0</td>\n",
       "      <td>25481.0</td>\n",
       "      <td>1.16%</td>\n",
       "    </tr>\n",
       "    <tr>\n",
       "      <th>tools</th>\n",
       "      <td>10036.0</td>\n",
       "      <td>7504.0</td>\n",
       "      <td>687154.0</td>\n",
       "      <td>1.09%</td>\n",
       "    </tr>\n",
       "    <tr>\n",
       "      <th>auto</th>\n",
       "      <th>accessories</th>\n",
       "      <td>8916.0</td>\n",
       "      <td>10619.0</td>\n",
       "      <td>993338.0</td>\n",
       "      <td>1.06%</td>\n",
       "    </tr>\n",
       "    <tr>\n",
       "      <th>kids</th>\n",
       "      <th>carriage</th>\n",
       "      <td>937.0</td>\n",
       "      <td>2281.0</td>\n",
       "      <td>216973.0</td>\n",
       "      <td>1.05%</td>\n",
       "    </tr>\n",
       "    <tr>\n",
       "      <th>electronics</th>\n",
       "      <th>camera</th>\n",
       "      <td>553.0</td>\n",
       "      <td>524.0</td>\n",
       "      <td>50322.0</td>\n",
       "      <td>1.04%</td>\n",
       "    </tr>\n",
       "    <tr>\n",
       "      <th>kids</th>\n",
       "      <th>swing</th>\n",
       "      <td>145.0</td>\n",
       "      <td>330.0</td>\n",
       "      <td>31595.0</td>\n",
       "      <td>1.04%</td>\n",
       "    </tr>\n",
       "    <tr>\n",
       "      <th>sport</th>\n",
       "      <th>trainer</th>\n",
       "      <td>351.0</td>\n",
       "      <td>367.0</td>\n",
       "      <td>35267.0</td>\n",
       "      <td>1.04%</td>\n",
       "    </tr>\n",
       "    <tr>\n",
       "      <th rowspan=\"2\" valign=\"top\">computers</th>\n",
       "      <th>components</th>\n",
       "      <td>1987.0</td>\n",
       "      <td>3514.0</td>\n",
       "      <td>338511.0</td>\n",
       "      <td>1.03%</td>\n",
       "    </tr>\n",
       "    <tr>\n",
       "      <th>ebooks</th>\n",
       "      <td>470.0</td>\n",
       "      <td>294.0</td>\n",
       "      <td>29080.0</td>\n",
       "      <td>1.01%</td>\n",
       "    </tr>\n",
       "    <tr>\n",
       "      <th>kids</th>\n",
       "      <th>toys</th>\n",
       "      <td>482.0</td>\n",
       "      <td>1055.0</td>\n",
       "      <td>109086.0</td>\n",
       "      <td>0.96%</td>\n",
       "    </tr>\n",
       "    <tr>\n",
       "      <th>furniture</th>\n",
       "      <th>kitchen</th>\n",
       "      <td>918.0</td>\n",
       "      <td>1898.0</td>\n",
       "      <td>211548.0</td>\n",
       "      <td>0.89%</td>\n",
       "    </tr>\n",
       "    <tr>\n",
       "      <th>apparel</th>\n",
       "      <th>belt</th>\n",
       "      <td>NaN</td>\n",
       "      <td>21.0</td>\n",
       "      <td>2448.0</td>\n",
       "      <td>0.85%</td>\n",
       "    </tr>\n",
       "    <tr>\n",
       "      <th>kids</th>\n",
       "      <th>skates</th>\n",
       "      <td>686.0</td>\n",
       "      <td>704.0</td>\n",
       "      <td>84795.0</td>\n",
       "      <td>0.83%</td>\n",
       "    </tr>\n",
       "    <tr>\n",
       "      <th>furniture</th>\n",
       "      <th>bathroom</th>\n",
       "      <td>13.0</td>\n",
       "      <td>245.0</td>\n",
       "      <td>30044.0</td>\n",
       "      <td>0.81%</td>\n",
       "    </tr>\n",
       "    <tr>\n",
       "      <th>country_yard</th>\n",
       "      <th>lawn_mower</th>\n",
       "      <td>42.0</td>\n",
       "      <td>44.0</td>\n",
       "      <td>5407.0</td>\n",
       "      <td>0.81%</td>\n",
       "    </tr>\n",
       "    <tr>\n",
       "      <th>apparel</th>\n",
       "      <th>sock</th>\n",
       "      <td>7.0</td>\n",
       "      <td>21.0</td>\n",
       "      <td>2619.0</td>\n",
       "      <td>0.80%</td>\n",
       "    </tr>\n",
       "    <tr>\n",
       "      <th>computers</th>\n",
       "      <th>desktop</th>\n",
       "      <td>3183.0</td>\n",
       "      <td>3232.0</td>\n",
       "      <td>417753.0</td>\n",
       "      <td>0.77%</td>\n",
       "    </tr>\n",
       "    <tr>\n",
       "      <th>kids</th>\n",
       "      <th>dolls</th>\n",
       "      <td>186.0</td>\n",
       "      <td>344.0</td>\n",
       "      <td>45612.0</td>\n",
       "      <td>0.75%</td>\n",
       "    </tr>\n",
       "    <tr>\n",
       "      <th rowspan=\"2\" valign=\"top\">accessories</th>\n",
       "      <th>wallet</th>\n",
       "      <td>NaN</td>\n",
       "      <td>310.0</td>\n",
       "      <td>43282.0</td>\n",
       "      <td>0.71%</td>\n",
       "    </tr>\n",
       "    <tr>\n",
       "      <th>bag</th>\n",
       "      <td>532.0</td>\n",
       "      <td>1253.0</td>\n",
       "      <td>188922.0</td>\n",
       "      <td>0.66%</td>\n",
       "    </tr>\n",
       "    <tr>\n",
       "      <th>sport</th>\n",
       "      <th>bicycle</th>\n",
       "      <td>655.0</td>\n",
       "      <td>838.0</td>\n",
       "      <td>128732.0</td>\n",
       "      <td>0.65%</td>\n",
       "    </tr>\n",
       "    <tr>\n",
       "      <th>furniture</th>\n",
       "      <th>bedroom</th>\n",
       "      <td>947.0</td>\n",
       "      <td>2498.0</td>\n",
       "      <td>398480.0</td>\n",
       "      <td>0.62%</td>\n",
       "    </tr>\n",
       "    <tr>\n",
       "      <th>accessories</th>\n",
       "      <th>umbrella</th>\n",
       "      <td>5.0</td>\n",
       "      <td>24.0</td>\n",
       "      <td>3894.0</td>\n",
       "      <td>0.61%</td>\n",
       "    </tr>\n",
       "    <tr>\n",
       "      <th>furniture</th>\n",
       "      <th>living_room</th>\n",
       "      <td>453.0</td>\n",
       "      <td>3618.0</td>\n",
       "      <td>586366.0</td>\n",
       "      <td>0.61%</td>\n",
       "    </tr>\n",
       "    <tr>\n",
       "      <th>apparel</th>\n",
       "      <th>shoes</th>\n",
       "      <td>NaN</td>\n",
       "      <td>7082.0</td>\n",
       "      <td>1201238.0</td>\n",
       "      <td>0.58%</td>\n",
       "    </tr>\n",
       "    <tr>\n",
       "      <th>sport</th>\n",
       "      <th>ski</th>\n",
       "      <td>NaN</td>\n",
       "      <td>16.0</td>\n",
       "      <td>3020.0</td>\n",
       "      <td>0.52%</td>\n",
       "    </tr>\n",
       "    <tr>\n",
       "      <th>furniture</th>\n",
       "      <th>universal</th>\n",
       "      <td>NaN</td>\n",
       "      <td>40.0</td>\n",
       "      <td>9919.0</td>\n",
       "      <td>0.40%</td>\n",
       "    </tr>\n",
       "    <tr>\n",
       "      <th rowspan=\"2\" valign=\"top\">apparel</th>\n",
       "      <th>scarf</th>\n",
       "      <td>NaN</td>\n",
       "      <td>10.0</td>\n",
       "      <td>2513.0</td>\n",
       "      <td>0.39%</td>\n",
       "    </tr>\n",
       "    <tr>\n",
       "      <th>skirt</th>\n",
       "      <td>NaN</td>\n",
       "      <td>4.0</td>\n",
       "      <td>1025.0</td>\n",
       "      <td>0.39%</td>\n",
       "    </tr>\n",
       "    <tr>\n",
       "      <th>country_yard</th>\n",
       "      <th>cultivator</th>\n",
       "      <td>11.0</td>\n",
       "      <td>28.0</td>\n",
       "      <td>7140.0</td>\n",
       "      <td>0.39%</td>\n",
       "    </tr>\n",
       "    <tr>\n",
       "      <th rowspan=\"4\" valign=\"top\">apparel</th>\n",
       "      <th>costume</th>\n",
       "      <td>NaN</td>\n",
       "      <td>489.0</td>\n",
       "      <td>134508.0</td>\n",
       "      <td>0.36%</td>\n",
       "    </tr>\n",
       "    <tr>\n",
       "      <th>shorts</th>\n",
       "      <td>NaN</td>\n",
       "      <td>2.0</td>\n",
       "      <td>630.0</td>\n",
       "      <td>0.31%</td>\n",
       "    </tr>\n",
       "    <tr>\n",
       "      <th>tshirt</th>\n",
       "      <td>19.0</td>\n",
       "      <td>58.0</td>\n",
       "      <td>18889.0</td>\n",
       "      <td>0.30%</td>\n",
       "    </tr>\n",
       "    <tr>\n",
       "      <th>shirt</th>\n",
       "      <td>NaN</td>\n",
       "      <td>38.0</td>\n",
       "      <td>13476.0</td>\n",
       "      <td>0.28%</td>\n",
       "    </tr>\n",
       "    <tr>\n",
       "      <th>sport</th>\n",
       "      <th>tennis</th>\n",
       "      <td>9.0</td>\n",
       "      <td>9.0</td>\n",
       "      <td>3526.0</td>\n",
       "      <td>0.25%</td>\n",
       "    </tr>\n",
       "    <tr>\n",
       "      <th rowspan=\"3\" valign=\"top\">apparel</th>\n",
       "      <th>jeans</th>\n",
       "      <td>NaN</td>\n",
       "      <td>140.0</td>\n",
       "      <td>56600.0</td>\n",
       "      <td>0.24%</td>\n",
       "    </tr>\n",
       "    <tr>\n",
       "      <th>jacket</th>\n",
       "      <td>NaN</td>\n",
       "      <td>1.0</td>\n",
       "      <td>435.0</td>\n",
       "      <td>0.22%</td>\n",
       "    </tr>\n",
       "    <tr>\n",
       "      <th>underwear</th>\n",
       "      <td>NaN</td>\n",
       "      <td>97.0</td>\n",
       "      <td>44374.0</td>\n",
       "      <td>0.21%</td>\n",
       "    </tr>\n",
       "    <tr>\n",
       "      <th>sport</th>\n",
       "      <th>snowboard</th>\n",
       "      <td>NaN</td>\n",
       "      <td>6.0</td>\n",
       "      <td>3747.0</td>\n",
       "      <td>0.16%</td>\n",
       "    </tr>\n",
       "    <tr>\n",
       "      <th rowspan=\"3\" valign=\"top\">apparel</th>\n",
       "      <th>trousers</th>\n",
       "      <td>NaN</td>\n",
       "      <td>22.0</td>\n",
       "      <td>16091.0</td>\n",
       "      <td>0.13%</td>\n",
       "    </tr>\n",
       "    <tr>\n",
       "      <th>jumper</th>\n",
       "      <td>NaN</td>\n",
       "      <td>2.0</td>\n",
       "      <td>2662.0</td>\n",
       "      <td>0.07%</td>\n",
       "    </tr>\n",
       "    <tr>\n",
       "      <th>dress</th>\n",
       "      <td>NaN</td>\n",
       "      <td>15.0</td>\n",
       "      <td>37319.0</td>\n",
       "      <td>0.04%</td>\n",
       "    </tr>\n",
       "  </tbody>\n",
       "</table>\n",
       "</div>"
      ],
      "text/plain": [
       "                                 cart  purchase        view conversion_rate\n",
       "category     sub_category                                                  \n",
       "electronics  smartphone      532007.0  337979.0  10617327.0           3.18%\n",
       "kids         fmcg                98.0     768.0     24199.0           3.17%\n",
       "electronics  audio            51393.0   35590.0   1486132.0           2.39%\n",
       "appliances   iron              3967.0    3652.0    157630.0           2.31%\n",
       "medicine     tools              514.0     310.0     13974.0           2.21%\n",
       "electronics  video            35174.0   21643.0   1068782.0           2.02%\n",
       "appliances   ironing_board      350.0     664.0     34264.0           1.93%\n",
       "electronics  tablet            8809.0    5602.0    301953.0           1.85%\n",
       "stationery   cartrige           106.0     134.0      7380.0           1.81%\n",
       "appliances   personal          2679.0    2541.0    144420.0           1.75%\n",
       "             environment      23768.0   18073.0   1104943.0           1.63%\n",
       "electronics  telephone         5261.0    3738.0    238541.0           1.56%\n",
       "appliances   kitchen          56383.0   48119.0   3210271.0           1.49%\n",
       "electronics  clocks           19961.0   17903.0   1272495.0           1.40%\n",
       "computers    notebook         15220.0   15588.0   1106254.0           1.40%\n",
       "             peripherals       5961.0    5225.0    377057.0           1.38%\n",
       "appliances   sewing_machine    2224.0    1939.0    147994.0           1.31%\n",
       "construction components          45.0     297.0     25481.0           1.16%\n",
       "             tools            10036.0    7504.0    687154.0           1.09%\n",
       "auto         accessories       8916.0   10619.0    993338.0           1.06%\n",
       "kids         carriage           937.0    2281.0    216973.0           1.05%\n",
       "electronics  camera             553.0     524.0     50322.0           1.04%\n",
       "kids         swing              145.0     330.0     31595.0           1.04%\n",
       "sport        trainer            351.0     367.0     35267.0           1.04%\n",
       "computers    components        1987.0    3514.0    338511.0           1.03%\n",
       "             ebooks             470.0     294.0     29080.0           1.01%\n",
       "kids         toys               482.0    1055.0    109086.0           0.96%\n",
       "furniture    kitchen            918.0    1898.0    211548.0           0.89%\n",
       "apparel      belt                 NaN      21.0      2448.0           0.85%\n",
       "kids         skates             686.0     704.0     84795.0           0.83%\n",
       "furniture    bathroom            13.0     245.0     30044.0           0.81%\n",
       "country_yard lawn_mower          42.0      44.0      5407.0           0.81%\n",
       "apparel      sock                 7.0      21.0      2619.0           0.80%\n",
       "computers    desktop           3183.0    3232.0    417753.0           0.77%\n",
       "kids         dolls              186.0     344.0     45612.0           0.75%\n",
       "accessories  wallet               NaN     310.0     43282.0           0.71%\n",
       "             bag                532.0    1253.0    188922.0           0.66%\n",
       "sport        bicycle            655.0     838.0    128732.0           0.65%\n",
       "furniture    bedroom            947.0    2498.0    398480.0           0.62%\n",
       "accessories  umbrella             5.0      24.0      3894.0           0.61%\n",
       "furniture    living_room        453.0    3618.0    586366.0           0.61%\n",
       "apparel      shoes                NaN    7082.0   1201238.0           0.58%\n",
       "sport        ski                  NaN      16.0      3020.0           0.52%\n",
       "furniture    universal            NaN      40.0      9919.0           0.40%\n",
       "apparel      scarf                NaN      10.0      2513.0           0.39%\n",
       "             skirt                NaN       4.0      1025.0           0.39%\n",
       "country_yard cultivator          11.0      28.0      7140.0           0.39%\n",
       "apparel      costume              NaN     489.0    134508.0           0.36%\n",
       "             shorts               NaN       2.0       630.0           0.31%\n",
       "             tshirt              19.0      58.0     18889.0           0.30%\n",
       "             shirt                NaN      38.0     13476.0           0.28%\n",
       "sport        tennis               9.0       9.0      3526.0           0.25%\n",
       "apparel      jeans                NaN     140.0     56600.0           0.24%\n",
       "             jacket               NaN       1.0       435.0           0.22%\n",
       "             underwear            NaN      97.0     44374.0           0.21%\n",
       "sport        snowboard            NaN       6.0      3747.0           0.16%\n",
       "apparel      trousers             NaN      22.0     16091.0           0.13%\n",
       "             jumper               NaN       2.0      2662.0           0.07%\n",
       "             dress                NaN      15.0     37319.0           0.04%"
      ]
     },
     "execution_count": 18,
     "metadata": {},
     "output_type": "execute_result"
    }
   ],
   "source": [
    "behavior_info_bysubcat = data.groupby(['category', 'sub_category','event_type']).agg({'event_type': 'count'}).unstack()\n",
    "behavior_info_bysubcat.columns = ['cart','purchase','view']\n",
    "behavior_info_bysubcat['conversion_rate'] = (behavior_info_bysubcat['purchase'] / behavior_info_bysubcat['view']*100).astype(str).apply(lambda x: x[:4]) + '%'\n",
    "behavior_info_bysubcat.query('purchase > 0').sort_values(by='conversion_rate', ascending=False)"
   ]
  },
  {
   "cell_type": "markdown",
   "metadata": {},
   "source": [
    "### 分商品"
   ]
  },
  {
   "cell_type": "code",
   "execution_count": 19,
   "metadata": {},
   "outputs": [
    {
     "data": {
      "text/html": [
       "<div>\n",
       "<style scoped>\n",
       "    .dataframe tbody tr th:only-of-type {\n",
       "        vertical-align: middle;\n",
       "    }\n",
       "\n",
       "    .dataframe tbody tr th {\n",
       "        vertical-align: top;\n",
       "    }\n",
       "\n",
       "    .dataframe thead th {\n",
       "        text-align: right;\n",
       "    }\n",
       "</style>\n",
       "<table border=\"1\" class=\"dataframe\">\n",
       "  <thead>\n",
       "    <tr style=\"text-align: right;\">\n",
       "      <th></th>\n",
       "      <th>cart</th>\n",
       "      <th>purchase</th>\n",
       "      <th>view</th>\n",
       "      <th>conversion_rate</th>\n",
       "    </tr>\n",
       "    <tr>\n",
       "      <th>product_name</th>\n",
       "      <th></th>\n",
       "      <th></th>\n",
       "      <th></th>\n",
       "      <th></th>\n",
       "    </tr>\n",
       "  </thead>\n",
       "  <tbody>\n",
       "    <tr>\n",
       "      <th>smartphone</th>\n",
       "      <td>532007.0</td>\n",
       "      <td>337979.0</td>\n",
       "      <td>10617327.0</td>\n",
       "      <td>3.18%</td>\n",
       "    </tr>\n",
       "    <tr>\n",
       "      <th>diapers</th>\n",
       "      <td>98.0</td>\n",
       "      <td>768.0</td>\n",
       "      <td>24199.0</td>\n",
       "      <td>3.17%</td>\n",
       "    </tr>\n",
       "    <tr>\n",
       "      <th>headphone</th>\n",
       "      <td>49886.0</td>\n",
       "      <td>30501.0</td>\n",
       "      <td>1018333.0</td>\n",
       "      <td>2.99%</td>\n",
       "    </tr>\n",
       "    <tr>\n",
       "      <th>iron</th>\n",
       "      <td>3967.0</td>\n",
       "      <td>3652.0</td>\n",
       "      <td>157630.0</td>\n",
       "      <td>2.31%</td>\n",
       "    </tr>\n",
       "    <tr>\n",
       "      <th>microwave</th>\n",
       "      <td>4627.0</td>\n",
       "      <td>3708.0</td>\n",
       "      <td>164944.0</td>\n",
       "      <td>2.24%</td>\n",
       "    </tr>\n",
       "    <tr>\n",
       "      <th>...</th>\n",
       "      <td>...</td>\n",
       "      <td>...</td>\n",
       "      <td>...</td>\n",
       "      <td>...</td>\n",
       "    </tr>\n",
       "    <tr>\n",
       "      <th>soldering</th>\n",
       "      <td>NaN</td>\n",
       "      <td>1.0</td>\n",
       "      <td>631.0</td>\n",
       "      <td>0.15%</td>\n",
       "    </tr>\n",
       "    <tr>\n",
       "      <th>slipons</th>\n",
       "      <td>NaN</td>\n",
       "      <td>8.0</td>\n",
       "      <td>5677.0</td>\n",
       "      <td>0.14%</td>\n",
       "    </tr>\n",
       "    <tr>\n",
       "      <th>trousers</th>\n",
       "      <td>NaN</td>\n",
       "      <td>22.0</td>\n",
       "      <td>16091.0</td>\n",
       "      <td>0.13%</td>\n",
       "    </tr>\n",
       "    <tr>\n",
       "      <th>jumper</th>\n",
       "      <td>NaN</td>\n",
       "      <td>2.0</td>\n",
       "      <td>2662.0</td>\n",
       "      <td>0.07%</td>\n",
       "    </tr>\n",
       "    <tr>\n",
       "      <th>dress</th>\n",
       "      <td>NaN</td>\n",
       "      <td>15.0</td>\n",
       "      <td>37319.0</td>\n",
       "      <td>0.04%</td>\n",
       "    </tr>\n",
       "  </tbody>\n",
       "</table>\n",
       "<p>119 rows × 4 columns</p>\n",
       "</div>"
      ],
      "text/plain": [
       "                  cart  purchase        view conversion_rate\n",
       "product_name                                                \n",
       "smartphone    532007.0  337979.0  10617327.0           3.18%\n",
       "diapers           98.0     768.0     24199.0           3.17%\n",
       "headphone      49886.0   30501.0   1018333.0           2.99%\n",
       "iron            3967.0    3652.0    157630.0           2.31%\n",
       "microwave       4627.0    3708.0    164944.0           2.24%\n",
       "...                ...       ...         ...             ...\n",
       "soldering          NaN       1.0       631.0           0.15%\n",
       "slipons            NaN       8.0      5677.0           0.14%\n",
       "trousers           NaN      22.0     16091.0           0.13%\n",
       "jumper             NaN       2.0      2662.0           0.07%\n",
       "dress              NaN      15.0     37319.0           0.04%\n",
       "\n",
       "[119 rows x 4 columns]"
      ]
     },
     "execution_count": 19,
     "metadata": {},
     "output_type": "execute_result"
    }
   ],
   "source": [
    "behavior_info_bypname = data.groupby(['product_name','event_type']).agg({'event_type': 'count'}).unstack()\n",
    "behavior_info_bypname.columns = ['cart','purchase','view']\n",
    "behavior_info_bypname['conversion_rate'] = (behavior_info_bypname['purchase'] / behavior_info_bypname['view']*100).astype(str).apply(lambda x: x[:4]) + '%'\n",
    "behavior_info_bypname.query('purchase > 0').sort_values(by='conversion_rate', ascending=False)"
   ]
  },
  {
   "cell_type": "markdown",
   "metadata": {},
   "source": [
    "## 用户流量图"
   ]
  },
  {
   "cell_type": "code",
   "execution_count": 5,
   "metadata": {},
   "outputs": [
    {
     "data": {
      "text/html": [
       "<div>\n",
       "<style scoped>\n",
       "    .dataframe tbody tr th:only-of-type {\n",
       "        vertical-align: middle;\n",
       "    }\n",
       "\n",
       "    .dataframe tbody tr th {\n",
       "        vertical-align: top;\n",
       "    }\n",
       "\n",
       "    .dataframe thead th {\n",
       "        text-align: right;\n",
       "    }\n",
       "</style>\n",
       "<table border=\"1\" class=\"dataframe\">\n",
       "  <thead>\n",
       "    <tr style=\"text-align: right;\">\n",
       "      <th></th>\n",
       "      <th>event_type</th>\n",
       "      <th>user_id</th>\n",
       "      <th>product_id</th>\n",
       "    </tr>\n",
       "  </thead>\n",
       "  <tbody>\n",
       "    <tr>\n",
       "      <th>0</th>\n",
       "      <td>view</td>\n",
       "      <td>541312140</td>\n",
       "      <td>44600062</td>\n",
       "    </tr>\n",
       "    <tr>\n",
       "      <th>1</th>\n",
       "      <td>view</td>\n",
       "      <td>554748717</td>\n",
       "      <td>3900821</td>\n",
       "    </tr>\n",
       "    <tr>\n",
       "      <th>2</th>\n",
       "      <td>view</td>\n",
       "      <td>519107250</td>\n",
       "      <td>17200506</td>\n",
       "    </tr>\n",
       "    <tr>\n",
       "      <th>3</th>\n",
       "      <td>view</td>\n",
       "      <td>550050854</td>\n",
       "      <td>1307067</td>\n",
       "    </tr>\n",
       "    <tr>\n",
       "      <th>4</th>\n",
       "      <td>view</td>\n",
       "      <td>535871217</td>\n",
       "      <td>1004237</td>\n",
       "    </tr>\n",
       "    <tr>\n",
       "      <th>...</th>\n",
       "      <td>...</td>\n",
       "      <td>...</td>\n",
       "      <td>...</td>\n",
       "    </tr>\n",
       "    <tr>\n",
       "      <th>42413552</th>\n",
       "      <td>view</td>\n",
       "      <td>537931532</td>\n",
       "      <td>2300275</td>\n",
       "    </tr>\n",
       "    <tr>\n",
       "      <th>42413553</th>\n",
       "      <td>view</td>\n",
       "      <td>527322328</td>\n",
       "      <td>10800172</td>\n",
       "    </tr>\n",
       "    <tr>\n",
       "      <th>42413554</th>\n",
       "      <td>view</td>\n",
       "      <td>566280422</td>\n",
       "      <td>5701038</td>\n",
       "    </tr>\n",
       "    <tr>\n",
       "      <th>42413555</th>\n",
       "      <td>view</td>\n",
       "      <td>513118352</td>\n",
       "      <td>21407424</td>\n",
       "    </tr>\n",
       "    <tr>\n",
       "      <th>42413556</th>\n",
       "      <td>view</td>\n",
       "      <td>525266378</td>\n",
       "      <td>13300120</td>\n",
       "    </tr>\n",
       "  </tbody>\n",
       "</table>\n",
       "<p>42413557 rows × 3 columns</p>\n",
       "</div>"
      ],
      "text/plain": [
       "         event_type    user_id  product_id\n",
       "0              view  541312140    44600062\n",
       "1              view  554748717     3900821\n",
       "2              view  519107250    17200506\n",
       "3              view  550050854     1307067\n",
       "4              view  535871217     1004237\n",
       "...             ...        ...         ...\n",
       "42413552       view  537931532     2300275\n",
       "42413553       view  527322328    10800172\n",
       "42413554       view  566280422     5701038\n",
       "42413555       view  513118352    21407424\n",
       "42413556       view  525266378    13300120\n",
       "\n",
       "[42413557 rows x 3 columns]"
      ]
     },
     "execution_count": 5,
     "metadata": {},
     "output_type": "execute_result"
    }
   ],
   "source": [
    "sub_data = data[['event_type','user_id','product_id']]\n",
    "sub_data"
   ]
  },
  {
   "cell_type": "code",
   "execution_count": 6,
   "metadata": {},
   "outputs": [
    {
     "data": {
      "text/html": [
       "<div>\n",
       "<style scoped>\n",
       "    .dataframe tbody tr th:only-of-type {\n",
       "        vertical-align: middle;\n",
       "    }\n",
       "\n",
       "    .dataframe tbody tr th {\n",
       "        vertical-align: top;\n",
       "    }\n",
       "\n",
       "    .dataframe thead tr th {\n",
       "        text-align: left;\n",
       "    }\n",
       "\n",
       "    .dataframe thead tr:last-of-type th {\n",
       "        text-align: right;\n",
       "    }\n",
       "</style>\n",
       "<table border=\"1\" class=\"dataframe\">\n",
       "  <thead>\n",
       "    <tr>\n",
       "      <th></th>\n",
       "      <th></th>\n",
       "      <th colspan=\"3\" halign=\"left\">event_type</th>\n",
       "    </tr>\n",
       "    <tr>\n",
       "      <th></th>\n",
       "      <th>event_type</th>\n",
       "      <th>cart</th>\n",
       "      <th>purchase</th>\n",
       "      <th>view</th>\n",
       "    </tr>\n",
       "    <tr>\n",
       "      <th>product_id</th>\n",
       "      <th>user_id</th>\n",
       "      <th></th>\n",
       "      <th></th>\n",
       "      <th></th>\n",
       "    </tr>\n",
       "  </thead>\n",
       "  <tbody>\n",
       "    <tr>\n",
       "      <th rowspan=\"5\" valign=\"top\">1000978</th>\n",
       "      <th>489962790</th>\n",
       "      <td>0.0</td>\n",
       "      <td>0.0</td>\n",
       "      <td>1.0</td>\n",
       "    </tr>\n",
       "    <tr>\n",
       "      <th>490574809</th>\n",
       "      <td>0.0</td>\n",
       "      <td>0.0</td>\n",
       "      <td>1.0</td>\n",
       "    </tr>\n",
       "    <tr>\n",
       "      <th>493091524</th>\n",
       "      <td>0.0</td>\n",
       "      <td>0.0</td>\n",
       "      <td>1.0</td>\n",
       "    </tr>\n",
       "    <tr>\n",
       "      <th>502430435</th>\n",
       "      <td>0.0</td>\n",
       "      <td>0.0</td>\n",
       "      <td>1.0</td>\n",
       "    </tr>\n",
       "    <tr>\n",
       "      <th>503271412</th>\n",
       "      <td>0.0</td>\n",
       "      <td>0.0</td>\n",
       "      <td>1.0</td>\n",
       "    </tr>\n",
       "    <tr>\n",
       "      <th>...</th>\n",
       "      <th>...</th>\n",
       "      <td>...</td>\n",
       "      <td>...</td>\n",
       "      <td>...</td>\n",
       "    </tr>\n",
       "    <tr>\n",
       "      <th rowspan=\"2\" valign=\"top\">60500009</th>\n",
       "      <th>562570257</th>\n",
       "      <td>0.0</td>\n",
       "      <td>0.0</td>\n",
       "      <td>1.0</td>\n",
       "    </tr>\n",
       "    <tr>\n",
       "      <th>565573952</th>\n",
       "      <td>0.0</td>\n",
       "      <td>0.0</td>\n",
       "      <td>1.0</td>\n",
       "    </tr>\n",
       "    <tr>\n",
       "      <th rowspan=\"3\" valign=\"top\">60500010</th>\n",
       "      <th>513174842</th>\n",
       "      <td>0.0</td>\n",
       "      <td>0.0</td>\n",
       "      <td>1.0</td>\n",
       "    </tr>\n",
       "    <tr>\n",
       "      <th>544126884</th>\n",
       "      <td>0.0</td>\n",
       "      <td>0.0</td>\n",
       "      <td>1.0</td>\n",
       "    </tr>\n",
       "    <tr>\n",
       "      <th>544240256</th>\n",
       "      <td>0.0</td>\n",
       "      <td>0.0</td>\n",
       "      <td>1.0</td>\n",
       "    </tr>\n",
       "  </tbody>\n",
       "</table>\n",
       "<p>23307630 rows × 3 columns</p>\n",
       "</div>"
      ],
      "text/plain": [
       "                     event_type              \n",
       "event_type                 cart purchase view\n",
       "product_id user_id                           \n",
       "1000978    489962790        0.0      0.0  1.0\n",
       "           490574809        0.0      0.0  1.0\n",
       "           493091524        0.0      0.0  1.0\n",
       "           502430435        0.0      0.0  1.0\n",
       "           503271412        0.0      0.0  1.0\n",
       "...                         ...      ...  ...\n",
       "60500009   562570257        0.0      0.0  1.0\n",
       "           565573952        0.0      0.0  1.0\n",
       "60500010   513174842        0.0      0.0  1.0\n",
       "           544126884        0.0      0.0  1.0\n",
       "           544240256        0.0      0.0  1.0\n",
       "\n",
       "[23307630 rows x 3 columns]"
      ]
     },
     "execution_count": 6,
     "metadata": {},
     "output_type": "execute_result"
    }
   ],
   "source": [
    "user_route = sub_data.groupby(['product_id','user_id','event_type']).agg({'event_type': 'nunique'}).unstack().fillna(0)\n",
    "user_route"
   ]
  },
  {
   "cell_type": "code",
   "execution_count": 7,
   "metadata": {},
   "outputs": [
    {
     "data": {
      "text/html": [
       "<div>\n",
       "<style scoped>\n",
       "    .dataframe tbody tr th:only-of-type {\n",
       "        vertical-align: middle;\n",
       "    }\n",
       "\n",
       "    .dataframe tbody tr th {\n",
       "        vertical-align: top;\n",
       "    }\n",
       "\n",
       "    .dataframe thead th {\n",
       "        text-align: right;\n",
       "    }\n",
       "</style>\n",
       "<table border=\"1\" class=\"dataframe\">\n",
       "  <thead>\n",
       "    <tr style=\"text-align: right;\">\n",
       "      <th></th>\n",
       "      <th></th>\n",
       "      <th>view</th>\n",
       "      <th>cart</th>\n",
       "      <th>purchase</th>\n",
       "    </tr>\n",
       "    <tr>\n",
       "      <th>product_id</th>\n",
       "      <th>user_id</th>\n",
       "      <th></th>\n",
       "      <th></th>\n",
       "      <th></th>\n",
       "    </tr>\n",
       "  </thead>\n",
       "  <tbody>\n",
       "    <tr>\n",
       "      <th rowspan=\"5\" valign=\"top\">1000978</th>\n",
       "      <th>489962790</th>\n",
       "      <td>1.0</td>\n",
       "      <td>0.0</td>\n",
       "      <td>0.0</td>\n",
       "    </tr>\n",
       "    <tr>\n",
       "      <th>490574809</th>\n",
       "      <td>1.0</td>\n",
       "      <td>0.0</td>\n",
       "      <td>0.0</td>\n",
       "    </tr>\n",
       "    <tr>\n",
       "      <th>493091524</th>\n",
       "      <td>1.0</td>\n",
       "      <td>0.0</td>\n",
       "      <td>0.0</td>\n",
       "    </tr>\n",
       "    <tr>\n",
       "      <th>502430435</th>\n",
       "      <td>1.0</td>\n",
       "      <td>0.0</td>\n",
       "      <td>0.0</td>\n",
       "    </tr>\n",
       "    <tr>\n",
       "      <th>503271412</th>\n",
       "      <td>1.0</td>\n",
       "      <td>0.0</td>\n",
       "      <td>0.0</td>\n",
       "    </tr>\n",
       "    <tr>\n",
       "      <th>...</th>\n",
       "      <th>...</th>\n",
       "      <td>...</td>\n",
       "      <td>...</td>\n",
       "      <td>...</td>\n",
       "    </tr>\n",
       "    <tr>\n",
       "      <th rowspan=\"2\" valign=\"top\">60500009</th>\n",
       "      <th>562570257</th>\n",
       "      <td>1.0</td>\n",
       "      <td>0.0</td>\n",
       "      <td>0.0</td>\n",
       "    </tr>\n",
       "    <tr>\n",
       "      <th>565573952</th>\n",
       "      <td>1.0</td>\n",
       "      <td>0.0</td>\n",
       "      <td>0.0</td>\n",
       "    </tr>\n",
       "    <tr>\n",
       "      <th rowspan=\"3\" valign=\"top\">60500010</th>\n",
       "      <th>513174842</th>\n",
       "      <td>1.0</td>\n",
       "      <td>0.0</td>\n",
       "      <td>0.0</td>\n",
       "    </tr>\n",
       "    <tr>\n",
       "      <th>544126884</th>\n",
       "      <td>1.0</td>\n",
       "      <td>0.0</td>\n",
       "      <td>0.0</td>\n",
       "    </tr>\n",
       "    <tr>\n",
       "      <th>544240256</th>\n",
       "      <td>1.0</td>\n",
       "      <td>0.0</td>\n",
       "      <td>0.0</td>\n",
       "    </tr>\n",
       "  </tbody>\n",
       "</table>\n",
       "<p>23307630 rows × 3 columns</p>\n",
       "</div>"
      ],
      "text/plain": [
       "                      view  cart  purchase\n",
       "product_id user_id                        \n",
       "1000978    489962790   1.0   0.0       0.0\n",
       "           490574809   1.0   0.0       0.0\n",
       "           493091524   1.0   0.0       0.0\n",
       "           502430435   1.0   0.0       0.0\n",
       "           503271412   1.0   0.0       0.0\n",
       "...                    ...   ...       ...\n",
       "60500009   562570257   1.0   0.0       0.0\n",
       "           565573952   1.0   0.0       0.0\n",
       "60500010   513174842   1.0   0.0       0.0\n",
       "           544126884   1.0   0.0       0.0\n",
       "           544240256   1.0   0.0       0.0\n",
       "\n",
       "[23307630 rows x 3 columns]"
      ]
     },
     "execution_count": 7,
     "metadata": {},
     "output_type": "execute_result"
    }
   ],
   "source": [
    "user_route.columns   = ['cart','purchase','view']\n",
    "user_route = user_route[['view','cart','purchase']]\n",
    "user_route "
   ]
  },
  {
   "cell_type": "code",
   "execution_count": 8,
   "metadata": {},
   "outputs": [
    {
     "data": {
      "text/html": [
       "<div>\n",
       "<style scoped>\n",
       "    .dataframe tbody tr th:only-of-type {\n",
       "        vertical-align: middle;\n",
       "    }\n",
       "\n",
       "    .dataframe tbody tr th {\n",
       "        vertical-align: top;\n",
       "    }\n",
       "\n",
       "    .dataframe thead th {\n",
       "        text-align: right;\n",
       "    }\n",
       "</style>\n",
       "<table border=\"1\" class=\"dataframe\">\n",
       "  <thead>\n",
       "    <tr style=\"text-align: right;\">\n",
       "      <th></th>\n",
       "      <th></th>\n",
       "      <th>view</th>\n",
       "      <th>cart</th>\n",
       "      <th>purchase</th>\n",
       "      <th>rounte</th>\n",
       "    </tr>\n",
       "    <tr>\n",
       "      <th>product_id</th>\n",
       "      <th>user_id</th>\n",
       "      <th></th>\n",
       "      <th></th>\n",
       "      <th></th>\n",
       "      <th></th>\n",
       "    </tr>\n",
       "  </thead>\n",
       "  <tbody>\n",
       "    <tr>\n",
       "      <th rowspan=\"5\" valign=\"top\">1000978</th>\n",
       "      <th>489962790</th>\n",
       "      <td>1.0</td>\n",
       "      <td>0.0</td>\n",
       "      <td>0.0</td>\n",
       "      <td>1-0-0</td>\n",
       "    </tr>\n",
       "    <tr>\n",
       "      <th>490574809</th>\n",
       "      <td>1.0</td>\n",
       "      <td>0.0</td>\n",
       "      <td>0.0</td>\n",
       "      <td>1-0-0</td>\n",
       "    </tr>\n",
       "    <tr>\n",
       "      <th>493091524</th>\n",
       "      <td>1.0</td>\n",
       "      <td>0.0</td>\n",
       "      <td>0.0</td>\n",
       "      <td>1-0-0</td>\n",
       "    </tr>\n",
       "    <tr>\n",
       "      <th>502430435</th>\n",
       "      <td>1.0</td>\n",
       "      <td>0.0</td>\n",
       "      <td>0.0</td>\n",
       "      <td>1-0-0</td>\n",
       "    </tr>\n",
       "    <tr>\n",
       "      <th>503271412</th>\n",
       "      <td>1.0</td>\n",
       "      <td>0.0</td>\n",
       "      <td>0.0</td>\n",
       "      <td>1-0-0</td>\n",
       "    </tr>\n",
       "    <tr>\n",
       "      <th>...</th>\n",
       "      <th>...</th>\n",
       "      <td>...</td>\n",
       "      <td>...</td>\n",
       "      <td>...</td>\n",
       "      <td>...</td>\n",
       "    </tr>\n",
       "    <tr>\n",
       "      <th rowspan=\"2\" valign=\"top\">60500009</th>\n",
       "      <th>562570257</th>\n",
       "      <td>1.0</td>\n",
       "      <td>0.0</td>\n",
       "      <td>0.0</td>\n",
       "      <td>1-0-0</td>\n",
       "    </tr>\n",
       "    <tr>\n",
       "      <th>565573952</th>\n",
       "      <td>1.0</td>\n",
       "      <td>0.0</td>\n",
       "      <td>0.0</td>\n",
       "      <td>1-0-0</td>\n",
       "    </tr>\n",
       "    <tr>\n",
       "      <th rowspan=\"3\" valign=\"top\">60500010</th>\n",
       "      <th>513174842</th>\n",
       "      <td>1.0</td>\n",
       "      <td>0.0</td>\n",
       "      <td>0.0</td>\n",
       "      <td>1-0-0</td>\n",
       "    </tr>\n",
       "    <tr>\n",
       "      <th>544126884</th>\n",
       "      <td>1.0</td>\n",
       "      <td>0.0</td>\n",
       "      <td>0.0</td>\n",
       "      <td>1-0-0</td>\n",
       "    </tr>\n",
       "    <tr>\n",
       "      <th>544240256</th>\n",
       "      <td>1.0</td>\n",
       "      <td>0.0</td>\n",
       "      <td>0.0</td>\n",
       "      <td>1-0-0</td>\n",
       "    </tr>\n",
       "  </tbody>\n",
       "</table>\n",
       "<p>23307630 rows × 4 columns</p>\n",
       "</div>"
      ],
      "text/plain": [
       "                      view  cart  purchase rounte\n",
       "product_id user_id                               \n",
       "1000978    489962790   1.0   0.0       0.0  1-0-0\n",
       "           490574809   1.0   0.0       0.0  1-0-0\n",
       "           493091524   1.0   0.0       0.0  1-0-0\n",
       "           502430435   1.0   0.0       0.0  1-0-0\n",
       "           503271412   1.0   0.0       0.0  1-0-0\n",
       "...                    ...   ...       ...    ...\n",
       "60500009   562570257   1.0   0.0       0.0  1-0-0\n",
       "           565573952   1.0   0.0       0.0  1-0-0\n",
       "60500010   513174842   1.0   0.0       0.0  1-0-0\n",
       "           544126884   1.0   0.0       0.0  1-0-0\n",
       "           544240256   1.0   0.0       0.0  1-0-0\n",
       "\n",
       "[23307630 rows x 4 columns]"
      ]
     },
     "execution_count": 8,
     "metadata": {},
     "output_type": "execute_result"
    }
   ],
   "source": [
    "user_route['rounte'] = user_route.astype(int).astype(str).agg('-'.join, axis=1)\n",
    "user_route"
   ]
  },
  {
   "cell_type": "code",
   "execution_count": 13,
   "metadata": {},
   "outputs": [],
   "source": [
    "# user_route.to_csv('data/user_route1.csv')"
   ]
  },
  {
   "cell_type": "code",
   "execution_count": null,
   "metadata": {},
   "outputs": [
    {
     "data": {
      "text/plain": [
       "rounte\n",
       "1-0-0    22509736\n",
       "1-0-1      298539\n",
       "1-1-1      259544\n",
       "1-1-0      239130\n",
       "0-1-0         280\n",
       "0-0-1         259\n",
       "0-1-1         142\n",
       "Name: count, dtype: int64"
      ]
     },
     "metadata": {},
     "output_type": "display_data"
    }
   ],
   "source": [
    "user_route['rounte'].value_counts()"
   ]
  },
  {
   "cell_type": "code",
   "execution_count": 24,
   "metadata": {},
   "outputs": [
    {
     "data": {
      "application/vnd.plotly.v1+json": {
       "config": {
        "plotlyServerURL": "https://plot.ly"
       },
       "data": [
        {
         "link": {
          "source": [
           0,
           0,
           0,
           1,
           1
          ],
          "target": [
           3,
           2,
           1,
           2,
           3
          ],
          "value": [
           2250973,
           298539,
           498674,
           259544,
           239130
          ]
         },
         "node": {
          "label": [
           "PV",
           "Cart",
           "Purchase",
           "Drop-off"
          ],
          "line": {
           "color": "black",
           "width": 0.5
          },
          "pad": 15,
          "thickness": 20
         },
         "type": "sankey"
        }
       ],
       "layout": {
        "font": {
         "size": 10
        },
        "template": {
         "data": {
          "bar": [
           {
            "error_x": {
             "color": "#2a3f5f"
            },
            "error_y": {
             "color": "#2a3f5f"
            },
            "marker": {
             "line": {
              "color": "#E5ECF6",
              "width": 0.5
             },
             "pattern": {
              "fillmode": "overlay",
              "size": 10,
              "solidity": 0.2
             }
            },
            "type": "bar"
           }
          ],
          "barpolar": [
           {
            "marker": {
             "line": {
              "color": "#E5ECF6",
              "width": 0.5
             },
             "pattern": {
              "fillmode": "overlay",
              "size": 10,
              "solidity": 0.2
             }
            },
            "type": "barpolar"
           }
          ],
          "carpet": [
           {
            "aaxis": {
             "endlinecolor": "#2a3f5f",
             "gridcolor": "white",
             "linecolor": "white",
             "minorgridcolor": "white",
             "startlinecolor": "#2a3f5f"
            },
            "baxis": {
             "endlinecolor": "#2a3f5f",
             "gridcolor": "white",
             "linecolor": "white",
             "minorgridcolor": "white",
             "startlinecolor": "#2a3f5f"
            },
            "type": "carpet"
           }
          ],
          "choropleth": [
           {
            "colorbar": {
             "outlinewidth": 0,
             "ticks": ""
            },
            "type": "choropleth"
           }
          ],
          "contour": [
           {
            "colorbar": {
             "outlinewidth": 0,
             "ticks": ""
            },
            "colorscale": [
             [
              0,
              "#0d0887"
             ],
             [
              0.1111111111111111,
              "#46039f"
             ],
             [
              0.2222222222222222,
              "#7201a8"
             ],
             [
              0.3333333333333333,
              "#9c179e"
             ],
             [
              0.4444444444444444,
              "#bd3786"
             ],
             [
              0.5555555555555556,
              "#d8576b"
             ],
             [
              0.6666666666666666,
              "#ed7953"
             ],
             [
              0.7777777777777778,
              "#fb9f3a"
             ],
             [
              0.8888888888888888,
              "#fdca26"
             ],
             [
              1,
              "#f0f921"
             ]
            ],
            "type": "contour"
           }
          ],
          "contourcarpet": [
           {
            "colorbar": {
             "outlinewidth": 0,
             "ticks": ""
            },
            "type": "contourcarpet"
           }
          ],
          "heatmap": [
           {
            "colorbar": {
             "outlinewidth": 0,
             "ticks": ""
            },
            "colorscale": [
             [
              0,
              "#0d0887"
             ],
             [
              0.1111111111111111,
              "#46039f"
             ],
             [
              0.2222222222222222,
              "#7201a8"
             ],
             [
              0.3333333333333333,
              "#9c179e"
             ],
             [
              0.4444444444444444,
              "#bd3786"
             ],
             [
              0.5555555555555556,
              "#d8576b"
             ],
             [
              0.6666666666666666,
              "#ed7953"
             ],
             [
              0.7777777777777778,
              "#fb9f3a"
             ],
             [
              0.8888888888888888,
              "#fdca26"
             ],
             [
              1,
              "#f0f921"
             ]
            ],
            "type": "heatmap"
           }
          ],
          "heatmapgl": [
           {
            "colorbar": {
             "outlinewidth": 0,
             "ticks": ""
            },
            "colorscale": [
             [
              0,
              "#0d0887"
             ],
             [
              0.1111111111111111,
              "#46039f"
             ],
             [
              0.2222222222222222,
              "#7201a8"
             ],
             [
              0.3333333333333333,
              "#9c179e"
             ],
             [
              0.4444444444444444,
              "#bd3786"
             ],
             [
              0.5555555555555556,
              "#d8576b"
             ],
             [
              0.6666666666666666,
              "#ed7953"
             ],
             [
              0.7777777777777778,
              "#fb9f3a"
             ],
             [
              0.8888888888888888,
              "#fdca26"
             ],
             [
              1,
              "#f0f921"
             ]
            ],
            "type": "heatmapgl"
           }
          ],
          "histogram": [
           {
            "marker": {
             "pattern": {
              "fillmode": "overlay",
              "size": 10,
              "solidity": 0.2
             }
            },
            "type": "histogram"
           }
          ],
          "histogram2d": [
           {
            "colorbar": {
             "outlinewidth": 0,
             "ticks": ""
            },
            "colorscale": [
             [
              0,
              "#0d0887"
             ],
             [
              0.1111111111111111,
              "#46039f"
             ],
             [
              0.2222222222222222,
              "#7201a8"
             ],
             [
              0.3333333333333333,
              "#9c179e"
             ],
             [
              0.4444444444444444,
              "#bd3786"
             ],
             [
              0.5555555555555556,
              "#d8576b"
             ],
             [
              0.6666666666666666,
              "#ed7953"
             ],
             [
              0.7777777777777778,
              "#fb9f3a"
             ],
             [
              0.8888888888888888,
              "#fdca26"
             ],
             [
              1,
              "#f0f921"
             ]
            ],
            "type": "histogram2d"
           }
          ],
          "histogram2dcontour": [
           {
            "colorbar": {
             "outlinewidth": 0,
             "ticks": ""
            },
            "colorscale": [
             [
              0,
              "#0d0887"
             ],
             [
              0.1111111111111111,
              "#46039f"
             ],
             [
              0.2222222222222222,
              "#7201a8"
             ],
             [
              0.3333333333333333,
              "#9c179e"
             ],
             [
              0.4444444444444444,
              "#bd3786"
             ],
             [
              0.5555555555555556,
              "#d8576b"
             ],
             [
              0.6666666666666666,
              "#ed7953"
             ],
             [
              0.7777777777777778,
              "#fb9f3a"
             ],
             [
              0.8888888888888888,
              "#fdca26"
             ],
             [
              1,
              "#f0f921"
             ]
            ],
            "type": "histogram2dcontour"
           }
          ],
          "mesh3d": [
           {
            "colorbar": {
             "outlinewidth": 0,
             "ticks": ""
            },
            "type": "mesh3d"
           }
          ],
          "parcoords": [
           {
            "line": {
             "colorbar": {
              "outlinewidth": 0,
              "ticks": ""
             }
            },
            "type": "parcoords"
           }
          ],
          "pie": [
           {
            "automargin": true,
            "type": "pie"
           }
          ],
          "scatter": [
           {
            "fillpattern": {
             "fillmode": "overlay",
             "size": 10,
             "solidity": 0.2
            },
            "type": "scatter"
           }
          ],
          "scatter3d": [
           {
            "line": {
             "colorbar": {
              "outlinewidth": 0,
              "ticks": ""
             }
            },
            "marker": {
             "colorbar": {
              "outlinewidth": 0,
              "ticks": ""
             }
            },
            "type": "scatter3d"
           }
          ],
          "scattercarpet": [
           {
            "marker": {
             "colorbar": {
              "outlinewidth": 0,
              "ticks": ""
             }
            },
            "type": "scattercarpet"
           }
          ],
          "scattergeo": [
           {
            "marker": {
             "colorbar": {
              "outlinewidth": 0,
              "ticks": ""
             }
            },
            "type": "scattergeo"
           }
          ],
          "scattergl": [
           {
            "marker": {
             "colorbar": {
              "outlinewidth": 0,
              "ticks": ""
             }
            },
            "type": "scattergl"
           }
          ],
          "scattermapbox": [
           {
            "marker": {
             "colorbar": {
              "outlinewidth": 0,
              "ticks": ""
             }
            },
            "type": "scattermapbox"
           }
          ],
          "scatterpolar": [
           {
            "marker": {
             "colorbar": {
              "outlinewidth": 0,
              "ticks": ""
             }
            },
            "type": "scatterpolar"
           }
          ],
          "scatterpolargl": [
           {
            "marker": {
             "colorbar": {
              "outlinewidth": 0,
              "ticks": ""
             }
            },
            "type": "scatterpolargl"
           }
          ],
          "scatterternary": [
           {
            "marker": {
             "colorbar": {
              "outlinewidth": 0,
              "ticks": ""
             }
            },
            "type": "scatterternary"
           }
          ],
          "surface": [
           {
            "colorbar": {
             "outlinewidth": 0,
             "ticks": ""
            },
            "colorscale": [
             [
              0,
              "#0d0887"
             ],
             [
              0.1111111111111111,
              "#46039f"
             ],
             [
              0.2222222222222222,
              "#7201a8"
             ],
             [
              0.3333333333333333,
              "#9c179e"
             ],
             [
              0.4444444444444444,
              "#bd3786"
             ],
             [
              0.5555555555555556,
              "#d8576b"
             ],
             [
              0.6666666666666666,
              "#ed7953"
             ],
             [
              0.7777777777777778,
              "#fb9f3a"
             ],
             [
              0.8888888888888888,
              "#fdca26"
             ],
             [
              1,
              "#f0f921"
             ]
            ],
            "type": "surface"
           }
          ],
          "table": [
           {
            "cells": {
             "fill": {
              "color": "#EBF0F8"
             },
             "line": {
              "color": "white"
             }
            },
            "header": {
             "fill": {
              "color": "#C8D4E3"
             },
             "line": {
              "color": "white"
             }
            },
            "type": "table"
           }
          ]
         },
         "layout": {
          "annotationdefaults": {
           "arrowcolor": "#2a3f5f",
           "arrowhead": 0,
           "arrowwidth": 1
          },
          "autotypenumbers": "strict",
          "coloraxis": {
           "colorbar": {
            "outlinewidth": 0,
            "ticks": ""
           }
          },
          "colorscale": {
           "diverging": [
            [
             0,
             "#8e0152"
            ],
            [
             0.1,
             "#c51b7d"
            ],
            [
             0.2,
             "#de77ae"
            ],
            [
             0.3,
             "#f1b6da"
            ],
            [
             0.4,
             "#fde0ef"
            ],
            [
             0.5,
             "#f7f7f7"
            ],
            [
             0.6,
             "#e6f5d0"
            ],
            [
             0.7,
             "#b8e186"
            ],
            [
             0.8,
             "#7fbc41"
            ],
            [
             0.9,
             "#4d9221"
            ],
            [
             1,
             "#276419"
            ]
           ],
           "sequential": [
            [
             0,
             "#0d0887"
            ],
            [
             0.1111111111111111,
             "#46039f"
            ],
            [
             0.2222222222222222,
             "#7201a8"
            ],
            [
             0.3333333333333333,
             "#9c179e"
            ],
            [
             0.4444444444444444,
             "#bd3786"
            ],
            [
             0.5555555555555556,
             "#d8576b"
            ],
            [
             0.6666666666666666,
             "#ed7953"
            ],
            [
             0.7777777777777778,
             "#fb9f3a"
            ],
            [
             0.8888888888888888,
             "#fdca26"
            ],
            [
             1,
             "#f0f921"
            ]
           ],
           "sequentialminus": [
            [
             0,
             "#0d0887"
            ],
            [
             0.1111111111111111,
             "#46039f"
            ],
            [
             0.2222222222222222,
             "#7201a8"
            ],
            [
             0.3333333333333333,
             "#9c179e"
            ],
            [
             0.4444444444444444,
             "#bd3786"
            ],
            [
             0.5555555555555556,
             "#d8576b"
            ],
            [
             0.6666666666666666,
             "#ed7953"
            ],
            [
             0.7777777777777778,
             "#fb9f3a"
            ],
            [
             0.8888888888888888,
             "#fdca26"
            ],
            [
             1,
             "#f0f921"
            ]
           ]
          },
          "colorway": [
           "#636efa",
           "#EF553B",
           "#00cc96",
           "#ab63fa",
           "#FFA15A",
           "#19d3f3",
           "#FF6692",
           "#B6E880",
           "#FF97FF",
           "#FECB52"
          ],
          "font": {
           "color": "#2a3f5f"
          },
          "geo": {
           "bgcolor": "white",
           "lakecolor": "white",
           "landcolor": "#E5ECF6",
           "showlakes": true,
           "showland": true,
           "subunitcolor": "white"
          },
          "hoverlabel": {
           "align": "left"
          },
          "hovermode": "closest",
          "mapbox": {
           "style": "light"
          },
          "paper_bgcolor": "white",
          "plot_bgcolor": "#E5ECF6",
          "polar": {
           "angularaxis": {
            "gridcolor": "white",
            "linecolor": "white",
            "ticks": ""
           },
           "bgcolor": "#E5ECF6",
           "radialaxis": {
            "gridcolor": "white",
            "linecolor": "white",
            "ticks": ""
           }
          },
          "scene": {
           "xaxis": {
            "backgroundcolor": "#E5ECF6",
            "gridcolor": "white",
            "gridwidth": 2,
            "linecolor": "white",
            "showbackground": true,
            "ticks": "",
            "zerolinecolor": "white"
           },
           "yaxis": {
            "backgroundcolor": "#E5ECF6",
            "gridcolor": "white",
            "gridwidth": 2,
            "linecolor": "white",
            "showbackground": true,
            "ticks": "",
            "zerolinecolor": "white"
           },
           "zaxis": {
            "backgroundcolor": "#E5ECF6",
            "gridcolor": "white",
            "gridwidth": 2,
            "linecolor": "white",
            "showbackground": true,
            "ticks": "",
            "zerolinecolor": "white"
           }
          },
          "shapedefaults": {
           "line": {
            "color": "#2a3f5f"
           }
          },
          "ternary": {
           "aaxis": {
            "gridcolor": "white",
            "linecolor": "white",
            "ticks": ""
           },
           "baxis": {
            "gridcolor": "white",
            "linecolor": "white",
            "ticks": ""
           },
           "bgcolor": "#E5ECF6",
           "caxis": {
            "gridcolor": "white",
            "linecolor": "white",
            "ticks": ""
           }
          },
          "title": {
           "x": 0.05
          },
          "xaxis": {
           "automargin": true,
           "gridcolor": "white",
           "linecolor": "white",
           "ticks": "",
           "title": {
            "standoff": 15
           },
           "zerolinecolor": "white",
           "zerolinewidth": 2
          },
          "yaxis": {
           "automargin": true,
           "gridcolor": "white",
           "linecolor": "white",
           "ticks": "",
           "title": {
            "standoff": 15
           },
           "zerolinecolor": "white",
           "zerolinewidth": 2
          }
         }
        },
        "title": {
         "text": "用户行为流向图"
        }
       }
      }
     },
     "metadata": {},
     "output_type": "display_data"
    }
   ],
   "source": [
    "import plotly.graph_objects as go\n",
    "\n",
    "# 创建流量图\n",
    "fig = go.Figure(go.Sankey(\n",
    "    node=dict(\n",
    "        pad=15,\n",
    "        thickness=20,\n",
    "        line=dict(color=\"black\", width=0.5),\n",
    "        label=[\"PV\", \"Cart\", \"Purchase\", \"Drop-off\"],\n",
    "    ),\n",
    "    link=dict(\n",
    "        source=[0, 0, 0, 1, 1],  # PV -> Cart, pv -> Purchase, pv -> Drop-off, Cart -> Purchase, Cart -> Drop-off\n",
    "        target=[3, 2, 1, 2, 3],\n",
    "        value=[2250973,298539,498674,259544,239130]\n",
    "    )\n",
    "))\n",
    "\n",
    "fig.update_layout(title_text=\"用户行为流向图\", font_size=10)\n",
    "fig.show()"
   ]
  },
  {
   "cell_type": "code",
   "execution_count": null,
   "metadata": {},
   "outputs": [
    {
     "data": {
      "application/vnd.plotly.v1+json": {
       "config": {
        "plotlyServerURL": "https://plot.ly"
       },
       "data": [
        {
         "link": {
          "source": [
           0,
           0,
           1,
           1
          ],
          "target": [
           1,
           2,
           2,
           3
          ],
          "value": [
           498674,
           298539,
           259544,
           239130
          ]
         },
         "node": {
          "label": [
           "PV",
           "Cart",
           "Purchase",
           "Drop-off"
          ],
          "line": {
           "color": "black",
           "width": 0.5
          },
          "pad": 15,
          "thickness": 20
         },
         "type": "sankey"
        }
       ],
       "layout": {
        "font": {
         "size": 10
        },
        "template": {
         "data": {
          "bar": [
           {
            "error_x": {
             "color": "#2a3f5f"
            },
            "error_y": {
             "color": "#2a3f5f"
            },
            "marker": {
             "line": {
              "color": "#E5ECF6",
              "width": 0.5
             },
             "pattern": {
              "fillmode": "overlay",
              "size": 10,
              "solidity": 0.2
             }
            },
            "type": "bar"
           }
          ],
          "barpolar": [
           {
            "marker": {
             "line": {
              "color": "#E5ECF6",
              "width": 0.5
             },
             "pattern": {
              "fillmode": "overlay",
              "size": 10,
              "solidity": 0.2
             }
            },
            "type": "barpolar"
           }
          ],
          "carpet": [
           {
            "aaxis": {
             "endlinecolor": "#2a3f5f",
             "gridcolor": "white",
             "linecolor": "white",
             "minorgridcolor": "white",
             "startlinecolor": "#2a3f5f"
            },
            "baxis": {
             "endlinecolor": "#2a3f5f",
             "gridcolor": "white",
             "linecolor": "white",
             "minorgridcolor": "white",
             "startlinecolor": "#2a3f5f"
            },
            "type": "carpet"
           }
          ],
          "choropleth": [
           {
            "colorbar": {
             "outlinewidth": 0,
             "ticks": ""
            },
            "type": "choropleth"
           }
          ],
          "contour": [
           {
            "colorbar": {
             "outlinewidth": 0,
             "ticks": ""
            },
            "colorscale": [
             [
              0,
              "#0d0887"
             ],
             [
              0.1111111111111111,
              "#46039f"
             ],
             [
              0.2222222222222222,
              "#7201a8"
             ],
             [
              0.3333333333333333,
              "#9c179e"
             ],
             [
              0.4444444444444444,
              "#bd3786"
             ],
             [
              0.5555555555555556,
              "#d8576b"
             ],
             [
              0.6666666666666666,
              "#ed7953"
             ],
             [
              0.7777777777777778,
              "#fb9f3a"
             ],
             [
              0.8888888888888888,
              "#fdca26"
             ],
             [
              1,
              "#f0f921"
             ]
            ],
            "type": "contour"
           }
          ],
          "contourcarpet": [
           {
            "colorbar": {
             "outlinewidth": 0,
             "ticks": ""
            },
            "type": "contourcarpet"
           }
          ],
          "heatmap": [
           {
            "colorbar": {
             "outlinewidth": 0,
             "ticks": ""
            },
            "colorscale": [
             [
              0,
              "#0d0887"
             ],
             [
              0.1111111111111111,
              "#46039f"
             ],
             [
              0.2222222222222222,
              "#7201a8"
             ],
             [
              0.3333333333333333,
              "#9c179e"
             ],
             [
              0.4444444444444444,
              "#bd3786"
             ],
             [
              0.5555555555555556,
              "#d8576b"
             ],
             [
              0.6666666666666666,
              "#ed7953"
             ],
             [
              0.7777777777777778,
              "#fb9f3a"
             ],
             [
              0.8888888888888888,
              "#fdca26"
             ],
             [
              1,
              "#f0f921"
             ]
            ],
            "type": "heatmap"
           }
          ],
          "heatmapgl": [
           {
            "colorbar": {
             "outlinewidth": 0,
             "ticks": ""
            },
            "colorscale": [
             [
              0,
              "#0d0887"
             ],
             [
              0.1111111111111111,
              "#46039f"
             ],
             [
              0.2222222222222222,
              "#7201a8"
             ],
             [
              0.3333333333333333,
              "#9c179e"
             ],
             [
              0.4444444444444444,
              "#bd3786"
             ],
             [
              0.5555555555555556,
              "#d8576b"
             ],
             [
              0.6666666666666666,
              "#ed7953"
             ],
             [
              0.7777777777777778,
              "#fb9f3a"
             ],
             [
              0.8888888888888888,
              "#fdca26"
             ],
             [
              1,
              "#f0f921"
             ]
            ],
            "type": "heatmapgl"
           }
          ],
          "histogram": [
           {
            "marker": {
             "pattern": {
              "fillmode": "overlay",
              "size": 10,
              "solidity": 0.2
             }
            },
            "type": "histogram"
           }
          ],
          "histogram2d": [
           {
            "colorbar": {
             "outlinewidth": 0,
             "ticks": ""
            },
            "colorscale": [
             [
              0,
              "#0d0887"
             ],
             [
              0.1111111111111111,
              "#46039f"
             ],
             [
              0.2222222222222222,
              "#7201a8"
             ],
             [
              0.3333333333333333,
              "#9c179e"
             ],
             [
              0.4444444444444444,
              "#bd3786"
             ],
             [
              0.5555555555555556,
              "#d8576b"
             ],
             [
              0.6666666666666666,
              "#ed7953"
             ],
             [
              0.7777777777777778,
              "#fb9f3a"
             ],
             [
              0.8888888888888888,
              "#fdca26"
             ],
             [
              1,
              "#f0f921"
             ]
            ],
            "type": "histogram2d"
           }
          ],
          "histogram2dcontour": [
           {
            "colorbar": {
             "outlinewidth": 0,
             "ticks": ""
            },
            "colorscale": [
             [
              0,
              "#0d0887"
             ],
             [
              0.1111111111111111,
              "#46039f"
             ],
             [
              0.2222222222222222,
              "#7201a8"
             ],
             [
              0.3333333333333333,
              "#9c179e"
             ],
             [
              0.4444444444444444,
              "#bd3786"
             ],
             [
              0.5555555555555556,
              "#d8576b"
             ],
             [
              0.6666666666666666,
              "#ed7953"
             ],
             [
              0.7777777777777778,
              "#fb9f3a"
             ],
             [
              0.8888888888888888,
              "#fdca26"
             ],
             [
              1,
              "#f0f921"
             ]
            ],
            "type": "histogram2dcontour"
           }
          ],
          "mesh3d": [
           {
            "colorbar": {
             "outlinewidth": 0,
             "ticks": ""
            },
            "type": "mesh3d"
           }
          ],
          "parcoords": [
           {
            "line": {
             "colorbar": {
              "outlinewidth": 0,
              "ticks": ""
             }
            },
            "type": "parcoords"
           }
          ],
          "pie": [
           {
            "automargin": true,
            "type": "pie"
           }
          ],
          "scatter": [
           {
            "fillpattern": {
             "fillmode": "overlay",
             "size": 10,
             "solidity": 0.2
            },
            "type": "scatter"
           }
          ],
          "scatter3d": [
           {
            "line": {
             "colorbar": {
              "outlinewidth": 0,
              "ticks": ""
             }
            },
            "marker": {
             "colorbar": {
              "outlinewidth": 0,
              "ticks": ""
             }
            },
            "type": "scatter3d"
           }
          ],
          "scattercarpet": [
           {
            "marker": {
             "colorbar": {
              "outlinewidth": 0,
              "ticks": ""
             }
            },
            "type": "scattercarpet"
           }
          ],
          "scattergeo": [
           {
            "marker": {
             "colorbar": {
              "outlinewidth": 0,
              "ticks": ""
             }
            },
            "type": "scattergeo"
           }
          ],
          "scattergl": [
           {
            "marker": {
             "colorbar": {
              "outlinewidth": 0,
              "ticks": ""
             }
            },
            "type": "scattergl"
           }
          ],
          "scattermapbox": [
           {
            "marker": {
             "colorbar": {
              "outlinewidth": 0,
              "ticks": ""
             }
            },
            "type": "scattermapbox"
           }
          ],
          "scatterpolar": [
           {
            "marker": {
             "colorbar": {
              "outlinewidth": 0,
              "ticks": ""
             }
            },
            "type": "scatterpolar"
           }
          ],
          "scatterpolargl": [
           {
            "marker": {
             "colorbar": {
              "outlinewidth": 0,
              "ticks": ""
             }
            },
            "type": "scatterpolargl"
           }
          ],
          "scatterternary": [
           {
            "marker": {
             "colorbar": {
              "outlinewidth": 0,
              "ticks": ""
             }
            },
            "type": "scatterternary"
           }
          ],
          "surface": [
           {
            "colorbar": {
             "outlinewidth": 0,
             "ticks": ""
            },
            "colorscale": [
             [
              0,
              "#0d0887"
             ],
             [
              0.1111111111111111,
              "#46039f"
             ],
             [
              0.2222222222222222,
              "#7201a8"
             ],
             [
              0.3333333333333333,
              "#9c179e"
             ],
             [
              0.4444444444444444,
              "#bd3786"
             ],
             [
              0.5555555555555556,
              "#d8576b"
             ],
             [
              0.6666666666666666,
              "#ed7953"
             ],
             [
              0.7777777777777778,
              "#fb9f3a"
             ],
             [
              0.8888888888888888,
              "#fdca26"
             ],
             [
              1,
              "#f0f921"
             ]
            ],
            "type": "surface"
           }
          ],
          "table": [
           {
            "cells": {
             "fill": {
              "color": "#EBF0F8"
             },
             "line": {
              "color": "white"
             }
            },
            "header": {
             "fill": {
              "color": "#C8D4E3"
             },
             "line": {
              "color": "white"
             }
            },
            "type": "table"
           }
          ]
         },
         "layout": {
          "annotationdefaults": {
           "arrowcolor": "#2a3f5f",
           "arrowhead": 0,
           "arrowwidth": 1
          },
          "autotypenumbers": "strict",
          "coloraxis": {
           "colorbar": {
            "outlinewidth": 0,
            "ticks": ""
           }
          },
          "colorscale": {
           "diverging": [
            [
             0,
             "#8e0152"
            ],
            [
             0.1,
             "#c51b7d"
            ],
            [
             0.2,
             "#de77ae"
            ],
            [
             0.3,
             "#f1b6da"
            ],
            [
             0.4,
             "#fde0ef"
            ],
            [
             0.5,
             "#f7f7f7"
            ],
            [
             0.6,
             "#e6f5d0"
            ],
            [
             0.7,
             "#b8e186"
            ],
            [
             0.8,
             "#7fbc41"
            ],
            [
             0.9,
             "#4d9221"
            ],
            [
             1,
             "#276419"
            ]
           ],
           "sequential": [
            [
             0,
             "#0d0887"
            ],
            [
             0.1111111111111111,
             "#46039f"
            ],
            [
             0.2222222222222222,
             "#7201a8"
            ],
            [
             0.3333333333333333,
             "#9c179e"
            ],
            [
             0.4444444444444444,
             "#bd3786"
            ],
            [
             0.5555555555555556,
             "#d8576b"
            ],
            [
             0.6666666666666666,
             "#ed7953"
            ],
            [
             0.7777777777777778,
             "#fb9f3a"
            ],
            [
             0.8888888888888888,
             "#fdca26"
            ],
            [
             1,
             "#f0f921"
            ]
           ],
           "sequentialminus": [
            [
             0,
             "#0d0887"
            ],
            [
             0.1111111111111111,
             "#46039f"
            ],
            [
             0.2222222222222222,
             "#7201a8"
            ],
            [
             0.3333333333333333,
             "#9c179e"
            ],
            [
             0.4444444444444444,
             "#bd3786"
            ],
            [
             0.5555555555555556,
             "#d8576b"
            ],
            [
             0.6666666666666666,
             "#ed7953"
            ],
            [
             0.7777777777777778,
             "#fb9f3a"
            ],
            [
             0.8888888888888888,
             "#fdca26"
            ],
            [
             1,
             "#f0f921"
            ]
           ]
          },
          "colorway": [
           "#636efa",
           "#EF553B",
           "#00cc96",
           "#ab63fa",
           "#FFA15A",
           "#19d3f3",
           "#FF6692",
           "#B6E880",
           "#FF97FF",
           "#FECB52"
          ],
          "font": {
           "color": "#2a3f5f"
          },
          "geo": {
           "bgcolor": "white",
           "lakecolor": "white",
           "landcolor": "#E5ECF6",
           "showlakes": true,
           "showland": true,
           "subunitcolor": "white"
          },
          "hoverlabel": {
           "align": "left"
          },
          "hovermode": "closest",
          "mapbox": {
           "style": "light"
          },
          "paper_bgcolor": "white",
          "plot_bgcolor": "#E5ECF6",
          "polar": {
           "angularaxis": {
            "gridcolor": "white",
            "linecolor": "white",
            "ticks": ""
           },
           "bgcolor": "#E5ECF6",
           "radialaxis": {
            "gridcolor": "white",
            "linecolor": "white",
            "ticks": ""
           }
          },
          "scene": {
           "xaxis": {
            "backgroundcolor": "#E5ECF6",
            "gridcolor": "white",
            "gridwidth": 2,
            "linecolor": "white",
            "showbackground": true,
            "ticks": "",
            "zerolinecolor": "white"
           },
           "yaxis": {
            "backgroundcolor": "#E5ECF6",
            "gridcolor": "white",
            "gridwidth": 2,
            "linecolor": "white",
            "showbackground": true,
            "ticks": "",
            "zerolinecolor": "white"
           },
           "zaxis": {
            "backgroundcolor": "#E5ECF6",
            "gridcolor": "white",
            "gridwidth": 2,
            "linecolor": "white",
            "showbackground": true,
            "ticks": "",
            "zerolinecolor": "white"
           }
          },
          "shapedefaults": {
           "line": {
            "color": "#2a3f5f"
           }
          },
          "ternary": {
           "aaxis": {
            "gridcolor": "white",
            "linecolor": "white",
            "ticks": ""
           },
           "baxis": {
            "gridcolor": "white",
            "linecolor": "white",
            "ticks": ""
           },
           "bgcolor": "#E5ECF6",
           "caxis": {
            "gridcolor": "white",
            "linecolor": "white",
            "ticks": ""
           }
          },
          "title": {
           "x": 0.05
          },
          "xaxis": {
           "automargin": true,
           "gridcolor": "white",
           "linecolor": "white",
           "ticks": "",
           "title": {
            "standoff": 15
           },
           "zerolinecolor": "white",
           "zerolinewidth": 2
          },
          "yaxis": {
           "automargin": true,
           "gridcolor": "white",
           "linecolor": "white",
           "ticks": "",
           "title": {
            "standoff": 15
           },
           "zerolinecolor": "white",
           "zerolinewidth": 2
          }
         }
        },
        "title": {
         "text": "用户行为流向图"
        }
       }
      }
     },
     "metadata": {},
     "output_type": "display_data"
    }
   ],
   "source": [
    "# 创建流量图\n",
    "fig = go.Figure(go.Sankey(\n",
    "    node=dict(\n",
    "        pad=15,\n",
    "        thickness=20,\n",
    "        line=dict(color=\"black\", width=0.5),\n",
    "        label=[\"PV\", \"Cart\", \"Purchase\", \"Drop-off\"],\n",
    "    ),\n",
    "    link=dict(\n",
    "        source=[0, 0,  1, 1],  # PV -> Cart, pv -> Purchase, pv -> Drop-off, Cart -> Purchase, Cart -> Drop-off\n",
    "        target=[1, 2,  2, 3],\n",
    "        value=[498674,298539,259544,239130]\n",
    "    )\n",
    "))\n",
    "\n",
    "fig.update_layout(title_text=\"用户行为流向图\", font_size=10)\n",
    "fig.show()"
   ]
  },
  {
   "cell_type": "code",
   "execution_count": 31,
   "metadata": {},
   "outputs": [
    {
     "data": {
      "text/plain": [
       "'c:\\\\Users\\\\29610\\\\Desktop\\\\REES46 ecommerce dataset\\\\sankey_chart.html'"
      ]
     },
     "execution_count": 31,
     "metadata": {},
     "output_type": "execute_result"
    }
   ],
   "source": [
    "# pyecharts画流量图\n",
    "from pyecharts import options as opts\n",
    "from pyecharts.charts import Sankey\n",
    "# 定义节点和链接数据\n",
    "nodes = [\n",
    "    {\"name\": \"View\"},\n",
    "    {\"name\": \"Cart\"},\n",
    "    {\"name\": \"Purchase\"},\n",
    "    {\"name\": \"Drop-off\"},\n",
    "]\n",
    "\n",
    "links = [\n",
    "    {\"source\": \"View\", \"target\": \"Cart\", \"value\": 498674},\n",
    "    {\"source\": \"View\", \"target\": \"Purchase\", \"value\": 298539},\n",
    "    {\"source\": \"View\", \"target\": \"Drop-off\", \"value\": 2250973},\n",
    "    {\"source\": \"Cart\", \"target\": \"Purchase\", \"value\": 259544},\n",
    "    {\"source\": \"Cart\", \"target\": \"Drop-off\", \"value\": 239130},\n",
    "\n",
    "]\n",
    "# 创建桑基图对象\n",
    "sankey = Sankey()\n",
    "\n",
    "# 添加数据\n",
    "sankey.add(\"\", nodes, links, linestyle_opt=opts.LineStyleOpts(opacity=0.2, curve=0.5, color=\"source\"), label_opts=opts.LabelOpts(position=\"right\"))\n",
    "\n",
    "# 设置全局选项\n",
    "sankey.set_global_opts(title_opts=opts.TitleOpts(title=\"桑基图示例\"))\n",
    "\n",
    "sankey.render(\"sankey_chart.html\")\n"
   ]
  },
  {
   "cell_type": "markdown",
   "metadata": {},
   "source": [
    "# 商品价值\n",
    "- '下单数','动销商品数','gmv','单均价'"
   ]
  },
  {
   "cell_type": "code",
   "execution_count": 106,
   "metadata": {},
   "outputs": [
    {
     "data": {
      "text/html": [
       "<div>\n",
       "<style scoped>\n",
       "    .dataframe tbody tr th:only-of-type {\n",
       "        vertical-align: middle;\n",
       "    }\n",
       "\n",
       "    .dataframe tbody tr th {\n",
       "        vertical-align: top;\n",
       "    }\n",
       "\n",
       "    .dataframe thead th {\n",
       "        text-align: right;\n",
       "    }\n",
       "</style>\n",
       "<table border=\"1\" class=\"dataframe\">\n",
       "  <thead>\n",
       "    <tr style=\"text-align: right;\">\n",
       "      <th></th>\n",
       "      <th>下单数</th>\n",
       "      <th>动销商品数</th>\n",
       "      <th>gmv</th>\n",
       "      <th>单均价</th>\n",
       "    </tr>\n",
       "    <tr>\n",
       "      <th>event_type</th>\n",
       "      <th></th>\n",
       "      <th></th>\n",
       "      <th></th>\n",
       "      <th></th>\n",
       "    </tr>\n",
       "  </thead>\n",
       "  <tbody>\n",
       "    <tr>\n",
       "      <th>purchase</th>\n",
       "      <td>742773</td>\n",
       "      <td>42241</td>\n",
       "      <td>2.299332e+08</td>\n",
       "      <td>309.560542</td>\n",
       "    </tr>\n",
       "  </tbody>\n",
       "</table>\n",
       "</div>"
      ],
      "text/plain": [
       "               下单数  动销商品数           gmv         单均价\n",
       "event_type                                         \n",
       "purchase    742773  42241  2.299332e+08  309.560542"
      ]
     },
     "execution_count": 106,
     "metadata": {},
     "output_type": "execute_result"
    }
   ],
   "source": [
    "# 商品价值\n",
    "product_info = data.query('event_type == \"purchase\"').groupby('event_type').agg({'product_id': ['count','nunique'],'price': ['sum','mean']})\n",
    "product_info.columns = ['下单数','动销商品数','gmv','单均价']\n",
    "product_info"
   ]
  },
  {
   "cell_type": "markdown",
   "metadata": {},
   "source": [
    "## 分类别"
   ]
  },
  {
   "cell_type": "code",
   "execution_count": 110,
   "metadata": {},
   "outputs": [
    {
     "data": {
      "text/html": [
       "<div>\n",
       "<style scoped>\n",
       "    .dataframe tbody tr th:only-of-type {\n",
       "        vertical-align: middle;\n",
       "    }\n",
       "\n",
       "    .dataframe tbody tr th {\n",
       "        vertical-align: top;\n",
       "    }\n",
       "\n",
       "    .dataframe thead th {\n",
       "        text-align: right;\n",
       "    }\n",
       "</style>\n",
       "<table border=\"1\" class=\"dataframe\">\n",
       "  <thead>\n",
       "    <tr style=\"text-align: right;\">\n",
       "      <th></th>\n",
       "      <th>下单数</th>\n",
       "      <th>动销商品数</th>\n",
       "      <th>gmv</th>\n",
       "      <th>单均价</th>\n",
       "    </tr>\n",
       "    <tr>\n",
       "      <th>category</th>\n",
       "      <th></th>\n",
       "      <th></th>\n",
       "      <th></th>\n",
       "      <th></th>\n",
       "    </tr>\n",
       "  </thead>\n",
       "  <tbody>\n",
       "    <tr>\n",
       "      <th>accessories</th>\n",
       "      <td>1587</td>\n",
       "      <td>554</td>\n",
       "      <td>6.878388e+04</td>\n",
       "      <td>43.342079</td>\n",
       "    </tr>\n",
       "    <tr>\n",
       "      <th>apparel</th>\n",
       "      <td>8002</td>\n",
       "      <td>2512</td>\n",
       "      <td>6.249378e+05</td>\n",
       "      <td>78.097694</td>\n",
       "    </tr>\n",
       "    <tr>\n",
       "      <th>appliances</th>\n",
       "      <td>74988</td>\n",
       "      <td>4838</td>\n",
       "      <td>1.358176e+07</td>\n",
       "      <td>181.119120</td>\n",
       "    </tr>\n",
       "    <tr>\n",
       "      <th>auto</th>\n",
       "      <td>10619</td>\n",
       "      <td>609</td>\n",
       "      <td>1.273956e+06</td>\n",
       "      <td>119.969461</td>\n",
       "    </tr>\n",
       "    <tr>\n",
       "      <th>computers</th>\n",
       "      <td>27853</td>\n",
       "      <td>2638</td>\n",
       "      <td>1.137787e+07</td>\n",
       "      <td>408.497139</td>\n",
       "    </tr>\n",
       "    <tr>\n",
       "      <th>construction</th>\n",
       "      <td>7801</td>\n",
       "      <td>939</td>\n",
       "      <td>9.329950e+05</td>\n",
       "      <td>119.599413</td>\n",
       "    </tr>\n",
       "    <tr>\n",
       "      <th>country_yard</th>\n",
       "      <td>72</td>\n",
       "      <td>29</td>\n",
       "      <td>1.569545e+04</td>\n",
       "      <td>217.992361</td>\n",
       "    </tr>\n",
       "    <tr>\n",
       "      <th>electronics</th>\n",
       "      <td>422979</td>\n",
       "      <td>4698</td>\n",
       "      <td>1.764456e+08</td>\n",
       "      <td>417.149735</td>\n",
       "    </tr>\n",
       "    <tr>\n",
       "      <th>furniture</th>\n",
       "      <td>8299</td>\n",
       "      <td>1634</td>\n",
       "      <td>1.673243e+06</td>\n",
       "      <td>201.619835</td>\n",
       "    </tr>\n",
       "    <tr>\n",
       "      <th>kids</th>\n",
       "      <td>5482</td>\n",
       "      <td>1007</td>\n",
       "      <td>6.781407e+05</td>\n",
       "      <td>123.703150</td>\n",
       "    </tr>\n",
       "    <tr>\n",
       "      <th>medicine</th>\n",
       "      <td>310</td>\n",
       "      <td>12</td>\n",
       "      <td>1.350042e+04</td>\n",
       "      <td>43.549742</td>\n",
       "    </tr>\n",
       "    <tr>\n",
       "      <th>sport</th>\n",
       "      <td>1236</td>\n",
       "      <td>270</td>\n",
       "      <td>3.225590e+05</td>\n",
       "      <td>260.970065</td>\n",
       "    </tr>\n",
       "    <tr>\n",
       "      <th>stationery</th>\n",
       "      <td>134</td>\n",
       "      <td>63</td>\n",
       "      <td>2.027380e+03</td>\n",
       "      <td>15.129701</td>\n",
       "    </tr>\n",
       "  </tbody>\n",
       "</table>\n",
       "</div>"
      ],
      "text/plain": [
       "                 下单数  动销商品数           gmv         单均价\n",
       "category                                             \n",
       "accessories     1587    554  6.878388e+04   43.342079\n",
       "apparel         8002   2512  6.249378e+05   78.097694\n",
       "appliances     74988   4838  1.358176e+07  181.119120\n",
       "auto           10619    609  1.273956e+06  119.969461\n",
       "computers      27853   2638  1.137787e+07  408.497139\n",
       "construction    7801    939  9.329950e+05  119.599413\n",
       "country_yard      72     29  1.569545e+04  217.992361\n",
       "electronics   422979   4698  1.764456e+08  417.149735\n",
       "furniture       8299   1634  1.673243e+06  201.619835\n",
       "kids            5482   1007  6.781407e+05  123.703150\n",
       "medicine         310     12  1.350042e+04   43.549742\n",
       "sport           1236    270  3.225590e+05  260.970065\n",
       "stationery       134     63  2.027380e+03   15.129701"
      ]
     },
     "execution_count": 110,
     "metadata": {},
     "output_type": "execute_result"
    }
   ],
   "source": [
    "product_info_bycategory = data.query('event_type == \"purchase\"').groupby('category').agg({'product_id': ['count','nunique'],'price': ['sum','mean']})\n",
    "product_info_bycategory.columns = ['下单数','动销商品数','gmv','单均价']\n",
    "product_info_bycategory"
   ]
  },
  {
   "cell_type": "markdown",
   "metadata": {},
   "source": [
    "## 分小类"
   ]
  },
  {
   "cell_type": "code",
   "execution_count": 112,
   "metadata": {},
   "outputs": [
    {
     "data": {
      "text/html": [
       "<div>\n",
       "<style scoped>\n",
       "    .dataframe tbody tr th:only-of-type {\n",
       "        vertical-align: middle;\n",
       "    }\n",
       "\n",
       "    .dataframe tbody tr th {\n",
       "        vertical-align: top;\n",
       "    }\n",
       "\n",
       "    .dataframe thead th {\n",
       "        text-align: right;\n",
       "    }\n",
       "</style>\n",
       "<table border=\"1\" class=\"dataframe\">\n",
       "  <thead>\n",
       "    <tr style=\"text-align: right;\">\n",
       "      <th></th>\n",
       "      <th></th>\n",
       "      <th>下单数</th>\n",
       "      <th>动销商品数</th>\n",
       "      <th>gmv</th>\n",
       "      <th>单均价</th>\n",
       "    </tr>\n",
       "    <tr>\n",
       "      <th>category</th>\n",
       "      <th>sub_category</th>\n",
       "      <th></th>\n",
       "      <th></th>\n",
       "      <th></th>\n",
       "      <th></th>\n",
       "    </tr>\n",
       "  </thead>\n",
       "  <tbody>\n",
       "    <tr>\n",
       "      <th rowspan=\"3\" valign=\"top\">accessories</th>\n",
       "      <th>bag</th>\n",
       "      <td>1253</td>\n",
       "      <td>421</td>\n",
       "      <td>5.315553e+04</td>\n",
       "      <td>42.422610</td>\n",
       "    </tr>\n",
       "    <tr>\n",
       "      <th>umbrella</th>\n",
       "      <td>24</td>\n",
       "      <td>8</td>\n",
       "      <td>6.115200e+02</td>\n",
       "      <td>25.480000</td>\n",
       "    </tr>\n",
       "    <tr>\n",
       "      <th>wallet</th>\n",
       "      <td>310</td>\n",
       "      <td>125</td>\n",
       "      <td>1.501683e+04</td>\n",
       "      <td>48.441387</td>\n",
       "    </tr>\n",
       "    <tr>\n",
       "      <th rowspan=\"15\" valign=\"top\">apparel</th>\n",
       "      <th>belt</th>\n",
       "      <td>21</td>\n",
       "      <td>9</td>\n",
       "      <td>1.222400e+03</td>\n",
       "      <td>58.209524</td>\n",
       "    </tr>\n",
       "    <tr>\n",
       "      <th>costume</th>\n",
       "      <td>489</td>\n",
       "      <td>90</td>\n",
       "      <td>4.649298e+04</td>\n",
       "      <td>95.077669</td>\n",
       "    </tr>\n",
       "    <tr>\n",
       "      <th>dress</th>\n",
       "      <td>15</td>\n",
       "      <td>13</td>\n",
       "      <td>8.713100e+02</td>\n",
       "      <td>58.087333</td>\n",
       "    </tr>\n",
       "    <tr>\n",
       "      <th>jacket</th>\n",
       "      <td>1</td>\n",
       "      <td>1</td>\n",
       "      <td>4.323000e+01</td>\n",
       "      <td>43.230000</td>\n",
       "    </tr>\n",
       "    <tr>\n",
       "      <th>jeans</th>\n",
       "      <td>140</td>\n",
       "      <td>64</td>\n",
       "      <td>6.163230e+03</td>\n",
       "      <td>44.023071</td>\n",
       "    </tr>\n",
       "    <tr>\n",
       "      <th>jumper</th>\n",
       "      <td>2</td>\n",
       "      <td>1</td>\n",
       "      <td>6.126000e+01</td>\n",
       "      <td>30.630000</td>\n",
       "    </tr>\n",
       "    <tr>\n",
       "      <th>scarf</th>\n",
       "      <td>10</td>\n",
       "      <td>8</td>\n",
       "      <td>2.419300e+02</td>\n",
       "      <td>24.193000</td>\n",
       "    </tr>\n",
       "    <tr>\n",
       "      <th>shirt</th>\n",
       "      <td>38</td>\n",
       "      <td>25</td>\n",
       "      <td>1.940570e+03</td>\n",
       "      <td>51.067632</td>\n",
       "    </tr>\n",
       "    <tr>\n",
       "      <th>shoes</th>\n",
       "      <td>7082</td>\n",
       "      <td>2178</td>\n",
       "      <td>5.612413e+05</td>\n",
       "      <td>79.248988</td>\n",
       "    </tr>\n",
       "    <tr>\n",
       "      <th>shorts</th>\n",
       "      <td>2</td>\n",
       "      <td>1</td>\n",
       "      <td>3.218000e+01</td>\n",
       "      <td>16.090000</td>\n",
       "    </tr>\n",
       "    <tr>\n",
       "      <th>skirt</th>\n",
       "      <td>4</td>\n",
       "      <td>2</td>\n",
       "      <td>1.098500e+02</td>\n",
       "      <td>27.462500</td>\n",
       "    </tr>\n",
       "    <tr>\n",
       "      <th>sock</th>\n",
       "      <td>21</td>\n",
       "      <td>8</td>\n",
       "      <td>1.283080e+03</td>\n",
       "      <td>61.099048</td>\n",
       "    </tr>\n",
       "    <tr>\n",
       "      <th>trousers</th>\n",
       "      <td>22</td>\n",
       "      <td>13</td>\n",
       "      <td>1.102310e+03</td>\n",
       "      <td>50.105000</td>\n",
       "    </tr>\n",
       "    <tr>\n",
       "      <th>tshirt</th>\n",
       "      <td>58</td>\n",
       "      <td>34</td>\n",
       "      <td>2.028640e+03</td>\n",
       "      <td>34.976552</td>\n",
       "    </tr>\n",
       "    <tr>\n",
       "      <th>underwear</th>\n",
       "      <td>97</td>\n",
       "      <td>65</td>\n",
       "      <td>2.103450e+03</td>\n",
       "      <td>21.685052</td>\n",
       "    </tr>\n",
       "    <tr>\n",
       "      <th rowspan=\"6\" valign=\"top\">appliances</th>\n",
       "      <th>environment</th>\n",
       "      <td>18073</td>\n",
       "      <td>953</td>\n",
       "      <td>2.320239e+06</td>\n",
       "      <td>128.381508</td>\n",
       "    </tr>\n",
       "    <tr>\n",
       "      <th>iron</th>\n",
       "      <td>3652</td>\n",
       "      <td>269</td>\n",
       "      <td>2.236072e+05</td>\n",
       "      <td>61.228697</td>\n",
       "    </tr>\n",
       "    <tr>\n",
       "      <th>ironing_board</th>\n",
       "      <td>664</td>\n",
       "      <td>43</td>\n",
       "      <td>2.633348e+04</td>\n",
       "      <td>39.658855</td>\n",
       "    </tr>\n",
       "    <tr>\n",
       "      <th>kitchen</th>\n",
       "      <td>48119</td>\n",
       "      <td>3084</td>\n",
       "      <td>1.053302e+07</td>\n",
       "      <td>218.895239</td>\n",
       "    </tr>\n",
       "    <tr>\n",
       "      <th>personal</th>\n",
       "      <td>2541</td>\n",
       "      <td>307</td>\n",
       "      <td>7.420488e+04</td>\n",
       "      <td>29.203022</td>\n",
       "    </tr>\n",
       "    <tr>\n",
       "      <th>sewing_machine</th>\n",
       "      <td>1939</td>\n",
       "      <td>182</td>\n",
       "      <td>4.043560e+05</td>\n",
       "      <td>208.538437</td>\n",
       "    </tr>\n",
       "    <tr>\n",
       "      <th>auto</th>\n",
       "      <th>accessories</th>\n",
       "      <td>10619</td>\n",
       "      <td>609</td>\n",
       "      <td>1.273956e+06</td>\n",
       "      <td>119.969461</td>\n",
       "    </tr>\n",
       "    <tr>\n",
       "      <th rowspan=\"5\" valign=\"top\">computers</th>\n",
       "      <th>components</th>\n",
       "      <td>3514</td>\n",
       "      <td>768</td>\n",
       "      <td>4.515633e+05</td>\n",
       "      <td>128.504058</td>\n",
       "    </tr>\n",
       "    <tr>\n",
       "      <th>desktop</th>\n",
       "      <td>3232</td>\n",
       "      <td>445</td>\n",
       "      <td>1.116822e+06</td>\n",
       "      <td>345.551355</td>\n",
       "    </tr>\n",
       "    <tr>\n",
       "      <th>ebooks</th>\n",
       "      <td>294</td>\n",
       "      <td>22</td>\n",
       "      <td>4.783162e+04</td>\n",
       "      <td>162.692585</td>\n",
       "    </tr>\n",
       "    <tr>\n",
       "      <th>notebook</th>\n",
       "      <td>15588</td>\n",
       "      <td>614</td>\n",
       "      <td>8.978883e+06</td>\n",
       "      <td>576.012537</td>\n",
       "    </tr>\n",
       "    <tr>\n",
       "      <th>peripherals</th>\n",
       "      <td>5225</td>\n",
       "      <td>789</td>\n",
       "      <td>7.827705e+05</td>\n",
       "      <td>149.812544</td>\n",
       "    </tr>\n",
       "    <tr>\n",
       "      <th rowspan=\"2\" valign=\"top\">construction</th>\n",
       "      <th>components</th>\n",
       "      <td>297</td>\n",
       "      <td>115</td>\n",
       "      <td>1.490295e+04</td>\n",
       "      <td>50.178283</td>\n",
       "    </tr>\n",
       "    <tr>\n",
       "      <th>tools</th>\n",
       "      <td>7504</td>\n",
       "      <td>824</td>\n",
       "      <td>9.180921e+05</td>\n",
       "      <td>122.347024</td>\n",
       "    </tr>\n",
       "    <tr>\n",
       "      <th rowspan=\"2\" valign=\"top\">country_yard</th>\n",
       "      <th>cultivator</th>\n",
       "      <td>28</td>\n",
       "      <td>10</td>\n",
       "      <td>9.204610e+03</td>\n",
       "      <td>328.736071</td>\n",
       "    </tr>\n",
       "    <tr>\n",
       "      <th>lawn_mower</th>\n",
       "      <td>44</td>\n",
       "      <td>19</td>\n",
       "      <td>6.490840e+03</td>\n",
       "      <td>147.519091</td>\n",
       "    </tr>\n",
       "    <tr>\n",
       "      <th rowspan=\"7\" valign=\"top\">electronics</th>\n",
       "      <th>audio</th>\n",
       "      <td>35590</td>\n",
       "      <td>1356</td>\n",
       "      <td>4.151286e+06</td>\n",
       "      <td>116.641928</td>\n",
       "    </tr>\n",
       "    <tr>\n",
       "      <th>camera</th>\n",
       "      <td>524</td>\n",
       "      <td>96</td>\n",
       "      <td>2.464606e+05</td>\n",
       "      <td>470.344695</td>\n",
       "    </tr>\n",
       "    <tr>\n",
       "      <th>clocks</th>\n",
       "      <td>17903</td>\n",
       "      <td>1439</td>\n",
       "      <td>4.817089e+06</td>\n",
       "      <td>269.066025</td>\n",
       "    </tr>\n",
       "    <tr>\n",
       "      <th>smartphone</th>\n",
       "      <td>337979</td>\n",
       "      <td>924</td>\n",
       "      <td>1.570339e+08</td>\n",
       "      <td>464.626246</td>\n",
       "    </tr>\n",
       "    <tr>\n",
       "      <th>tablet</th>\n",
       "      <td>5602</td>\n",
       "      <td>222</td>\n",
       "      <td>1.610917e+06</td>\n",
       "      <td>287.561123</td>\n",
       "    </tr>\n",
       "    <tr>\n",
       "      <th>telephone</th>\n",
       "      <td>3738</td>\n",
       "      <td>255</td>\n",
       "      <td>1.267313e+05</td>\n",
       "      <td>33.903502</td>\n",
       "    </tr>\n",
       "    <tr>\n",
       "      <th>video</th>\n",
       "      <td>21643</td>\n",
       "      <td>406</td>\n",
       "      <td>8.459179e+06</td>\n",
       "      <td>390.850590</td>\n",
       "    </tr>\n",
       "    <tr>\n",
       "      <th rowspan=\"5\" valign=\"top\">furniture</th>\n",
       "      <th>bathroom</th>\n",
       "      <td>245</td>\n",
       "      <td>83</td>\n",
       "      <td>2.029459e+04</td>\n",
       "      <td>82.835061</td>\n",
       "    </tr>\n",
       "    <tr>\n",
       "      <th>bedroom</th>\n",
       "      <td>2498</td>\n",
       "      <td>471</td>\n",
       "      <td>3.848088e+05</td>\n",
       "      <td>154.046777</td>\n",
       "    </tr>\n",
       "    <tr>\n",
       "      <th>kitchen</th>\n",
       "      <td>1898</td>\n",
       "      <td>422</td>\n",
       "      <td>1.789866e+05</td>\n",
       "      <td>94.302724</td>\n",
       "    </tr>\n",
       "    <tr>\n",
       "      <th>living_room</th>\n",
       "      <td>3618</td>\n",
       "      <td>627</td>\n",
       "      <td>1.086465e+06</td>\n",
       "      <td>300.294229</td>\n",
       "    </tr>\n",
       "    <tr>\n",
       "      <th>universal</th>\n",
       "      <td>40</td>\n",
       "      <td>31</td>\n",
       "      <td>2.688480e+03</td>\n",
       "      <td>67.212000</td>\n",
       "    </tr>\n",
       "    <tr>\n",
       "      <th rowspan=\"6\" valign=\"top\">kids</th>\n",
       "      <th>carriage</th>\n",
       "      <td>2281</td>\n",
       "      <td>356</td>\n",
       "      <td>3.706734e+05</td>\n",
       "      <td>162.504787</td>\n",
       "    </tr>\n",
       "    <tr>\n",
       "      <th>dolls</th>\n",
       "      <td>344</td>\n",
       "      <td>99</td>\n",
       "      <td>1.366227e+04</td>\n",
       "      <td>39.715901</td>\n",
       "    </tr>\n",
       "    <tr>\n",
       "      <th>fmcg</th>\n",
       "      <td>768</td>\n",
       "      <td>115</td>\n",
       "      <td>1.049767e+04</td>\n",
       "      <td>13.668841</td>\n",
       "    </tr>\n",
       "    <tr>\n",
       "      <th>skates</th>\n",
       "      <td>704</td>\n",
       "      <td>96</td>\n",
       "      <td>2.025823e+05</td>\n",
       "      <td>287.758935</td>\n",
       "    </tr>\n",
       "    <tr>\n",
       "      <th>swing</th>\n",
       "      <td>330</td>\n",
       "      <td>62</td>\n",
       "      <td>4.475647e+04</td>\n",
       "      <td>135.625667</td>\n",
       "    </tr>\n",
       "    <tr>\n",
       "      <th>toys</th>\n",
       "      <td>1055</td>\n",
       "      <td>279</td>\n",
       "      <td>3.596855e+04</td>\n",
       "      <td>34.093412</td>\n",
       "    </tr>\n",
       "    <tr>\n",
       "      <th>medicine</th>\n",
       "      <th>tools</th>\n",
       "      <td>310</td>\n",
       "      <td>12</td>\n",
       "      <td>1.350042e+04</td>\n",
       "      <td>43.549742</td>\n",
       "    </tr>\n",
       "    <tr>\n",
       "      <th rowspan=\"5\" valign=\"top\">sport</th>\n",
       "      <th>bicycle</th>\n",
       "      <td>838</td>\n",
       "      <td>193</td>\n",
       "      <td>2.036947e+05</td>\n",
       "      <td>243.072470</td>\n",
       "    </tr>\n",
       "    <tr>\n",
       "      <th>ski</th>\n",
       "      <td>16</td>\n",
       "      <td>12</td>\n",
       "      <td>3.918380e+03</td>\n",
       "      <td>244.898750</td>\n",
       "    </tr>\n",
       "    <tr>\n",
       "      <th>snowboard</th>\n",
       "      <td>6</td>\n",
       "      <td>4</td>\n",
       "      <td>1.589220e+03</td>\n",
       "      <td>264.870000</td>\n",
       "    </tr>\n",
       "    <tr>\n",
       "      <th>tennis</th>\n",
       "      <td>9</td>\n",
       "      <td>9</td>\n",
       "      <td>3.452400e+02</td>\n",
       "      <td>38.360000</td>\n",
       "    </tr>\n",
       "    <tr>\n",
       "      <th>trainer</th>\n",
       "      <td>367</td>\n",
       "      <td>52</td>\n",
       "      <td>1.130114e+05</td>\n",
       "      <td>307.933052</td>\n",
       "    </tr>\n",
       "    <tr>\n",
       "      <th>stationery</th>\n",
       "      <th>cartrige</th>\n",
       "      <td>134</td>\n",
       "      <td>63</td>\n",
       "      <td>2.027380e+03</td>\n",
       "      <td>15.129701</td>\n",
       "    </tr>\n",
       "  </tbody>\n",
       "</table>\n",
       "</div>"
      ],
      "text/plain": [
       "                                下单数  动销商品数           gmv         单均价\n",
       "category     sub_category                                           \n",
       "accessories  bag               1253    421  5.315553e+04   42.422610\n",
       "             umbrella            24      8  6.115200e+02   25.480000\n",
       "             wallet             310    125  1.501683e+04   48.441387\n",
       "apparel      belt                21      9  1.222400e+03   58.209524\n",
       "             costume            489     90  4.649298e+04   95.077669\n",
       "             dress               15     13  8.713100e+02   58.087333\n",
       "             jacket               1      1  4.323000e+01   43.230000\n",
       "             jeans              140     64  6.163230e+03   44.023071\n",
       "             jumper               2      1  6.126000e+01   30.630000\n",
       "             scarf               10      8  2.419300e+02   24.193000\n",
       "             shirt               38     25  1.940570e+03   51.067632\n",
       "             shoes             7082   2178  5.612413e+05   79.248988\n",
       "             shorts               2      1  3.218000e+01   16.090000\n",
       "             skirt                4      2  1.098500e+02   27.462500\n",
       "             sock                21      8  1.283080e+03   61.099048\n",
       "             trousers            22     13  1.102310e+03   50.105000\n",
       "             tshirt              58     34  2.028640e+03   34.976552\n",
       "             underwear           97     65  2.103450e+03   21.685052\n",
       "appliances   environment      18073    953  2.320239e+06  128.381508\n",
       "             iron              3652    269  2.236072e+05   61.228697\n",
       "             ironing_board      664     43  2.633348e+04   39.658855\n",
       "             kitchen          48119   3084  1.053302e+07  218.895239\n",
       "             personal          2541    307  7.420488e+04   29.203022\n",
       "             sewing_machine    1939    182  4.043560e+05  208.538437\n",
       "auto         accessories      10619    609  1.273956e+06  119.969461\n",
       "computers    components        3514    768  4.515633e+05  128.504058\n",
       "             desktop           3232    445  1.116822e+06  345.551355\n",
       "             ebooks             294     22  4.783162e+04  162.692585\n",
       "             notebook         15588    614  8.978883e+06  576.012537\n",
       "             peripherals       5225    789  7.827705e+05  149.812544\n",
       "construction components         297    115  1.490295e+04   50.178283\n",
       "             tools             7504    824  9.180921e+05  122.347024\n",
       "country_yard cultivator          28     10  9.204610e+03  328.736071\n",
       "             lawn_mower          44     19  6.490840e+03  147.519091\n",
       "electronics  audio            35590   1356  4.151286e+06  116.641928\n",
       "             camera             524     96  2.464606e+05  470.344695\n",
       "             clocks           17903   1439  4.817089e+06  269.066025\n",
       "             smartphone      337979    924  1.570339e+08  464.626246\n",
       "             tablet            5602    222  1.610917e+06  287.561123\n",
       "             telephone         3738    255  1.267313e+05   33.903502\n",
       "             video            21643    406  8.459179e+06  390.850590\n",
       "furniture    bathroom           245     83  2.029459e+04   82.835061\n",
       "             bedroom           2498    471  3.848088e+05  154.046777\n",
       "             kitchen           1898    422  1.789866e+05   94.302724\n",
       "             living_room       3618    627  1.086465e+06  300.294229\n",
       "             universal           40     31  2.688480e+03   67.212000\n",
       "kids         carriage          2281    356  3.706734e+05  162.504787\n",
       "             dolls              344     99  1.366227e+04   39.715901\n",
       "             fmcg               768    115  1.049767e+04   13.668841\n",
       "             skates             704     96  2.025823e+05  287.758935\n",
       "             swing              330     62  4.475647e+04  135.625667\n",
       "             toys              1055    279  3.596855e+04   34.093412\n",
       "medicine     tools              310     12  1.350042e+04   43.549742\n",
       "sport        bicycle            838    193  2.036947e+05  243.072470\n",
       "             ski                 16     12  3.918380e+03  244.898750\n",
       "             snowboard            6      4  1.589220e+03  264.870000\n",
       "             tennis               9      9  3.452400e+02   38.360000\n",
       "             trainer            367     52  1.130114e+05  307.933052\n",
       "stationery   cartrige           134     63  2.027380e+03   15.129701"
      ]
     },
     "execution_count": 112,
     "metadata": {},
     "output_type": "execute_result"
    }
   ],
   "source": [
    "product_info_bysubcate = data.query('event_type == \"purchase\"').groupby(['category','sub_category']).agg({'product_id': ['count','nunique'],'price': ['sum','mean']})\n",
    "\n",
    "product_info_bysubcate.columns =  ['下单数','动销商品数','gmv','单均价']\n",
    "\n",
    "product_info_bysubcate.query('下单数 > 0')"
   ]
  },
  {
   "cell_type": "markdown",
   "metadata": {},
   "source": [
    "## 分商品名 "
   ]
  },
  {
   "cell_type": "code",
   "execution_count": 114,
   "metadata": {},
   "outputs": [
    {
     "data": {
      "text/html": [
       "<div>\n",
       "<style scoped>\n",
       "    .dataframe tbody tr th:only-of-type {\n",
       "        vertical-align: middle;\n",
       "    }\n",
       "\n",
       "    .dataframe tbody tr th {\n",
       "        vertical-align: top;\n",
       "    }\n",
       "\n",
       "    .dataframe thead th {\n",
       "        text-align: right;\n",
       "    }\n",
       "</style>\n",
       "<table border=\"1\" class=\"dataframe\">\n",
       "  <thead>\n",
       "    <tr style=\"text-align: right;\">\n",
       "      <th></th>\n",
       "      <th>下单数</th>\n",
       "      <th>动销商品数</th>\n",
       "      <th>gmv</th>\n",
       "      <th>单均价</th>\n",
       "    </tr>\n",
       "    <tr>\n",
       "      <th>product_name</th>\n",
       "      <th></th>\n",
       "      <th></th>\n",
       "      <th></th>\n",
       "      <th></th>\n",
       "    </tr>\n",
       "  </thead>\n",
       "  <tbody>\n",
       "    <tr>\n",
       "      <th>acoustic</th>\n",
       "      <td>888</td>\n",
       "      <td>171</td>\n",
       "      <td>205951.27</td>\n",
       "      <td>231.927106</td>\n",
       "    </tr>\n",
       "    <tr>\n",
       "      <th>air_conditioner</th>\n",
       "      <td>411</td>\n",
       "      <td>98</td>\n",
       "      <td>201596.51</td>\n",
       "      <td>490.502457</td>\n",
       "    </tr>\n",
       "    <tr>\n",
       "      <th>air_heater</th>\n",
       "      <td>2483</td>\n",
       "      <td>232</td>\n",
       "      <td>110755.87</td>\n",
       "      <td>44.605667</td>\n",
       "    </tr>\n",
       "    <tr>\n",
       "      <th>alarm</th>\n",
       "      <td>2441</td>\n",
       "      <td>76</td>\n",
       "      <td>335979.32</td>\n",
       "      <td>137.640033</td>\n",
       "    </tr>\n",
       "    <tr>\n",
       "      <th>bag</th>\n",
       "      <td>1253</td>\n",
       "      <td>421</td>\n",
       "      <td>53155.53</td>\n",
       "      <td>42.422610</td>\n",
       "    </tr>\n",
       "    <tr>\n",
       "      <th>...</th>\n",
       "      <td>...</td>\n",
       "      <td>...</td>\n",
       "      <td>...</td>\n",
       "      <td>...</td>\n",
       "    </tr>\n",
       "    <tr>\n",
       "      <th>wallet</th>\n",
       "      <td>310</td>\n",
       "      <td>125</td>\n",
       "      <td>15016.83</td>\n",
       "      <td>48.441387</td>\n",
       "    </tr>\n",
       "    <tr>\n",
       "      <th>washer</th>\n",
       "      <td>16146</td>\n",
       "      <td>342</td>\n",
       "      <td>4658223.46</td>\n",
       "      <td>288.506346</td>\n",
       "    </tr>\n",
       "    <tr>\n",
       "      <th>water_heater</th>\n",
       "      <td>2774</td>\n",
       "      <td>199</td>\n",
       "      <td>290985.54</td>\n",
       "      <td>104.897455</td>\n",
       "    </tr>\n",
       "    <tr>\n",
       "      <th>welding</th>\n",
       "      <td>1081</td>\n",
       "      <td>88</td>\n",
       "      <td>173856.12</td>\n",
       "      <td>160.828973</td>\n",
       "    </tr>\n",
       "    <tr>\n",
       "      <th>winch</th>\n",
       "      <td>26</td>\n",
       "      <td>7</td>\n",
       "      <td>14555.14</td>\n",
       "      <td>559.813077</td>\n",
       "    </tr>\n",
       "  </tbody>\n",
       "</table>\n",
       "<p>119 rows × 4 columns</p>\n",
       "</div>"
      ],
      "text/plain": [
       "                   下单数  动销商品数         gmv         单均价\n",
       "product_name                                         \n",
       "acoustic           888    171   205951.27  231.927106\n",
       "air_conditioner    411     98   201596.51  490.502457\n",
       "air_heater        2483    232   110755.87   44.605667\n",
       "alarm             2441     76   335979.32  137.640033\n",
       "bag               1253    421    53155.53   42.422610\n",
       "...                ...    ...         ...         ...\n",
       "wallet             310    125    15016.83   48.441387\n",
       "washer           16146    342  4658223.46  288.506346\n",
       "water_heater      2774    199   290985.54  104.897455\n",
       "welding           1081     88   173856.12  160.828973\n",
       "winch               26      7    14555.14  559.813077\n",
       "\n",
       "[119 rows x 4 columns]"
      ]
     },
     "execution_count": 114,
     "metadata": {},
     "output_type": "execute_result"
    }
   ],
   "source": [
    "product_info_bypname = data.query('event_type == \"purchase\"').groupby('product_name').agg({'product_id': ['count','nunique'],'price': ['sum','mean']})\n",
    "\n",
    "product_info_bypname.columns = ['下单数','动销商品数','gmv','单均价']\n",
    "\n",
    "product_info_bypname.query('下单数 > 0')"
   ]
  },
  {
   "cell_type": "markdown",
   "metadata": {},
   "source": [
    "## 分品牌"
   ]
  },
  {
   "cell_type": "code",
   "execution_count": 115,
   "metadata": {},
   "outputs": [
    {
     "data": {
      "text/html": [
       "<div>\n",
       "<style scoped>\n",
       "    .dataframe tbody tr th:only-of-type {\n",
       "        vertical-align: middle;\n",
       "    }\n",
       "\n",
       "    .dataframe tbody tr th {\n",
       "        vertical-align: top;\n",
       "    }\n",
       "\n",
       "    .dataframe thead th {\n",
       "        text-align: right;\n",
       "    }\n",
       "</style>\n",
       "<table border=\"1\" class=\"dataframe\">\n",
       "  <thead>\n",
       "    <tr style=\"text-align: right;\">\n",
       "      <th></th>\n",
       "      <th>下单数</th>\n",
       "      <th>动销商品数</th>\n",
       "      <th>gmv</th>\n",
       "      <th>单均价</th>\n",
       "    </tr>\n",
       "    <tr>\n",
       "      <th>brand</th>\n",
       "      <th></th>\n",
       "      <th></th>\n",
       "      <th></th>\n",
       "      <th></th>\n",
       "    </tr>\n",
       "  </thead>\n",
       "  <tbody>\n",
       "    <tr>\n",
       "      <th>a-case</th>\n",
       "      <td>58</td>\n",
       "      <td>17</td>\n",
       "      <td>275.26</td>\n",
       "      <td>4.745862</td>\n",
       "    </tr>\n",
       "    <tr>\n",
       "      <th>a-derma</th>\n",
       "      <td>1</td>\n",
       "      <td>1</td>\n",
       "      <td>12.36</td>\n",
       "      <td>12.360000</td>\n",
       "    </tr>\n",
       "    <tr>\n",
       "      <th>a-mega</th>\n",
       "      <td>9</td>\n",
       "      <td>5</td>\n",
       "      <td>1031.47</td>\n",
       "      <td>114.607778</td>\n",
       "    </tr>\n",
       "    <tr>\n",
       "      <th>abk</th>\n",
       "      <td>6</td>\n",
       "      <td>1</td>\n",
       "      <td>69.36</td>\n",
       "      <td>11.560000</td>\n",
       "    </tr>\n",
       "    <tr>\n",
       "      <th>abtoys</th>\n",
       "      <td>7</td>\n",
       "      <td>1</td>\n",
       "      <td>324.17</td>\n",
       "      <td>46.310000</td>\n",
       "    </tr>\n",
       "    <tr>\n",
       "      <th>...</th>\n",
       "      <td>...</td>\n",
       "      <td>...</td>\n",
       "      <td>...</td>\n",
       "      <td>...</td>\n",
       "    </tr>\n",
       "    <tr>\n",
       "      <th>zoom</th>\n",
       "      <td>1</td>\n",
       "      <td>1</td>\n",
       "      <td>167.31</td>\n",
       "      <td>167.310000</td>\n",
       "    </tr>\n",
       "    <tr>\n",
       "      <th>zotac</th>\n",
       "      <td>4</td>\n",
       "      <td>2</td>\n",
       "      <td>279.43</td>\n",
       "      <td>69.857500</td>\n",
       "    </tr>\n",
       "    <tr>\n",
       "      <th>zte</th>\n",
       "      <td>173</td>\n",
       "      <td>3</td>\n",
       "      <td>13623.87</td>\n",
       "      <td>78.750694</td>\n",
       "    </tr>\n",
       "    <tr>\n",
       "      <th>zubr</th>\n",
       "      <td>14</td>\n",
       "      <td>8</td>\n",
       "      <td>659.05</td>\n",
       "      <td>47.075000</td>\n",
       "    </tr>\n",
       "    <tr>\n",
       "      <th>zuru</th>\n",
       "      <td>2</td>\n",
       "      <td>1</td>\n",
       "      <td>25.68</td>\n",
       "      <td>12.840000</td>\n",
       "    </tr>\n",
       "  </tbody>\n",
       "</table>\n",
       "<p>1983 rows × 4 columns</p>\n",
       "</div>"
      ],
      "text/plain": [
       "         下单数  动销商品数       gmv         单均价\n",
       "brand                                    \n",
       "a-case    58     17    275.26    4.745862\n",
       "a-derma    1      1     12.36   12.360000\n",
       "a-mega     9      5   1031.47  114.607778\n",
       "abk        6      1     69.36   11.560000\n",
       "abtoys     7      1    324.17   46.310000\n",
       "...      ...    ...       ...         ...\n",
       "zoom       1      1    167.31  167.310000\n",
       "zotac      4      2    279.43   69.857500\n",
       "zte      173      3  13623.87   78.750694\n",
       "zubr      14      8    659.05   47.075000\n",
       "zuru       2      1     25.68   12.840000\n",
       "\n",
       "[1983 rows x 4 columns]"
      ]
     },
     "execution_count": 115,
     "metadata": {},
     "output_type": "execute_result"
    }
   ],
   "source": [
    "product_info_bybrand = data.query('event_type == \"purchase\"').groupby('brand').agg({'product_id': ['count','nunique'],'price': ['sum','mean']})\n",
    "\n",
    "product_info_bybrand.columns = ['下单数','动销商品数','gmv','单均价']\n",
    "\n",
    "product_info_bybrand.query('下单数 > 0')"
   ]
  },
  {
   "cell_type": "markdown",
   "metadata": {},
   "source": [
    "## 分商品id"
   ]
  },
  {
   "cell_type": "code",
   "execution_count": 23,
   "metadata": {},
   "outputs": [
    {
     "data": {
      "text/html": [
       "<div>\n",
       "<style scoped>\n",
       "    .dataframe tbody tr th:only-of-type {\n",
       "        vertical-align: middle;\n",
       "    }\n",
       "\n",
       "    .dataframe tbody tr th {\n",
       "        vertical-align: top;\n",
       "    }\n",
       "\n",
       "    .dataframe thead th {\n",
       "        text-align: right;\n",
       "    }\n",
       "</style>\n",
       "<table border=\"1\" class=\"dataframe\">\n",
       "  <thead>\n",
       "    <tr style=\"text-align: right;\">\n",
       "      <th></th>\n",
       "      <th>下单数</th>\n",
       "      <th>动销商品数</th>\n",
       "      <th>gmv</th>\n",
       "      <th>单均价</th>\n",
       "    </tr>\n",
       "    <tr>\n",
       "      <th>product_id</th>\n",
       "      <th></th>\n",
       "      <th></th>\n",
       "      <th></th>\n",
       "      <th></th>\n",
       "    </tr>\n",
       "  </thead>\n",
       "  <tbody>\n",
       "    <tr>\n",
       "      <th>1000978</th>\n",
       "      <td>12</td>\n",
       "      <td>1</td>\n",
       "      <td>3840.13</td>\n",
       "      <td>320.010833</td>\n",
       "    </tr>\n",
       "    <tr>\n",
       "      <th>1001588</th>\n",
       "      <td>12</td>\n",
       "      <td>1</td>\n",
       "      <td>1538.18</td>\n",
       "      <td>128.181667</td>\n",
       "    </tr>\n",
       "    <tr>\n",
       "      <th>1002042</th>\n",
       "      <td>3</td>\n",
       "      <td>1</td>\n",
       "      <td>231.42</td>\n",
       "      <td>77.140000</td>\n",
       "    </tr>\n",
       "    <tr>\n",
       "      <th>1002062</th>\n",
       "      <td>18</td>\n",
       "      <td>1</td>\n",
       "      <td>1723.47</td>\n",
       "      <td>95.748333</td>\n",
       "    </tr>\n",
       "    <tr>\n",
       "      <th>1002098</th>\n",
       "      <td>13</td>\n",
       "      <td>1</td>\n",
       "      <td>4818.32</td>\n",
       "      <td>370.640000</td>\n",
       "    </tr>\n",
       "    <tr>\n",
       "      <th>...</th>\n",
       "      <td>...</td>\n",
       "      <td>...</td>\n",
       "      <td>...</td>\n",
       "      <td>...</td>\n",
       "    </tr>\n",
       "    <tr>\n",
       "      <th>59000007</th>\n",
       "      <td>1</td>\n",
       "      <td>1</td>\n",
       "      <td>47.88</td>\n",
       "      <td>47.880000</td>\n",
       "    </tr>\n",
       "    <tr>\n",
       "      <th>60400006</th>\n",
       "      <td>1</td>\n",
       "      <td>1</td>\n",
       "      <td>332.05</td>\n",
       "      <td>332.050000</td>\n",
       "    </tr>\n",
       "    <tr>\n",
       "      <th>60500001</th>\n",
       "      <td>4</td>\n",
       "      <td>1</td>\n",
       "      <td>102.34</td>\n",
       "      <td>25.585000</td>\n",
       "    </tr>\n",
       "    <tr>\n",
       "      <th>60500002</th>\n",
       "      <td>4</td>\n",
       "      <td>1</td>\n",
       "      <td>170.82</td>\n",
       "      <td>42.705000</td>\n",
       "    </tr>\n",
       "    <tr>\n",
       "      <th>60500009</th>\n",
       "      <td>1</td>\n",
       "      <td>1</td>\n",
       "      <td>27.21</td>\n",
       "      <td>27.210000</td>\n",
       "    </tr>\n",
       "  </tbody>\n",
       "</table>\n",
       "<p>42241 rows × 4 columns</p>\n",
       "</div>"
      ],
      "text/plain": [
       "            下单数  动销商品数      gmv         单均价\n",
       "product_id                                 \n",
       "1000978      12      1  3840.13  320.010833\n",
       "1001588      12      1  1538.18  128.181667\n",
       "1002042       3      1   231.42   77.140000\n",
       "1002062      18      1  1723.47   95.748333\n",
       "1002098      13      1  4818.32  370.640000\n",
       "...         ...    ...      ...         ...\n",
       "59000007      1      1    47.88   47.880000\n",
       "60400006      1      1   332.05  332.050000\n",
       "60500001      4      1   102.34   25.585000\n",
       "60500002      4      1   170.82   42.705000\n",
       "60500009      1      1    27.21   27.210000\n",
       "\n",
       "[42241 rows x 4 columns]"
      ]
     },
     "execution_count": 23,
     "metadata": {},
     "output_type": "execute_result"
    }
   ],
   "source": [
    "product_info_bybrand = data.query('event_type == \"purchase\"').groupby('product_id').agg({'product_id': ['count','nunique'],'price': ['sum','mean']})\n",
    "\n",
    "product_info_bybrand.columns = ['下单数','动销商品数','gmv','单均价']\n",
    "\n",
    "product_info_bybrand.query('下单数 > 0')"
   ]
  },
  {
   "cell_type": "markdown",
   "metadata": {},
   "source": [
    "# 用户价值\n"
   ]
  },
  {
   "cell_type": "code",
   "execution_count": null,
   "metadata": {},
   "outputs": [],
   "source": []
  }
 ],
 "metadata": {
  "kernelspec": {
   "display_name": "pytorch",
   "language": "python",
   "name": "python3"
  },
  "language_info": {
   "codemirror_mode": {
    "name": "ipython",
    "version": 3
   },
   "file_extension": ".py",
   "mimetype": "text/x-python",
   "name": "python",
   "nbconvert_exporter": "python",
   "pygments_lexer": "ipython3",
   "version": "3.11.5"
  }
 },
 "nbformat": 4,
 "nbformat_minor": 2
}
